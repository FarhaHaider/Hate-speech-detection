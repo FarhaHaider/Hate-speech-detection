{
  "cells": [
    {
      "cell_type": "code",
      "execution_count": null,
      "metadata": {
        "id": "K5Ubm6hS5fEr"
      },
      "outputs": [],
      "source": [
        "import pandas as pd\n",
        "import numpy as np\n",
        "import matplotlib.pyplot as plt\n",
        "import seaborn as sns\n",
        "import re\n",
        "import nltk\n",
        "from nltk.corpus import stopwords\n",
        "from nltk.tokenize import word_tokenize\n",
        "from sklearn.preprocessing import LabelEncoder"
      ]
    },
    {
      "cell_type": "markdown",
      "metadata": {
        "id": "anwEJAXfGlTo"
      },
      "source": [
        "# Data Preprocessing"
      ]
    },
    {
      "cell_type": "code",
      "execution_count": null,
      "metadata": {
        "colab": {
          "base_uri": "https://localhost:8080/",
          "height": 350
        },
        "id": "-CYazjex-xIo",
        "outputId": "ae17879b-2bfa-4199-8cdc-650e22860b71"
      },
      "outputs": [],
      "source": [
        "df_train = pd.read_csv('data/data_train_combined.csv')\n",
        "df_val = pd.read_csv('data/data_val_combined.csv')\n",
        "df_test = pd.read_csv('data/data_test_combined.csv')"
      ]
    },
    {
      "cell_type": "code",
      "execution_count": null,
      "metadata": {
        "colab": {
          "base_uri": "https://localhost:8080/",
          "height": 363
        },
        "id": "jOyfZct4585x",
        "outputId": "9a55517c-f9d3-4b0a-e1f4-3d728a3463a6"
      },
      "outputs": [
        {
          "data": {
            "application/vnd.google.colaboratory.intrinsic+json": {
              "summary": "{\n  \"name\": \"df_test\",\n  \"rows\": 7970,\n  \"fields\": [\n    {\n      \"column\": \"text\",\n      \"properties\": {\n        \"dtype\": \"string\",\n        \"num_unique_values\": 7966,\n        \"samples\": [\n          \"I've never been to any nation in the Persian gulf but I know that no person in Iran wears the hijab like that.\",\n          \"<user> marrying a white devil just did not change your color and you will still be black when she divorces \\ud83e\\udd37 \\ud83c\\udffd \\u200d \\u2640\\ufe0f\",\n          \"can this bitch from saudia arabia be deported already\"\n        ],\n        \"semantic_type\": \"\",\n        \"description\": \"\"\n      }\n    },\n    {\n      \"column\": \"label\",\n      \"properties\": {\n        \"dtype\": \"category\",\n        \"num_unique_values\": 2,\n        \"samples\": [\n          \"nothate\",\n          \"hate\"\n        ],\n        \"semantic_type\": \"\",\n        \"description\": \"\"\n      }\n    }\n  ]\n}",
              "type": "dataframe",
              "variable_name": "df_test"
            },
            "text/html": [
              "\n",
              "  <div id=\"df-3513e561-7592-41c1-910d-476f8a13db9b\" class=\"colab-df-container\">\n",
              "    <div>\n",
              "<style scoped>\n",
              "    .dataframe tbody tr th:only-of-type {\n",
              "        vertical-align: middle;\n",
              "    }\n",
              "\n",
              "    .dataframe tbody tr th {\n",
              "        vertical-align: top;\n",
              "    }\n",
              "\n",
              "    .dataframe thead th {\n",
              "        text-align: right;\n",
              "    }\n",
              "</style>\n",
              "<table border=\"1\" class=\"dataframe\">\n",
              "  <thead>\n",
              "    <tr style=\"text-align: right;\">\n",
              "      <th></th>\n",
              "      <th>text</th>\n",
              "      <th>label</th>\n",
              "    </tr>\n",
              "  </thead>\n",
              "  <tbody>\n",
              "    <tr>\n",
              "      <th>0</th>\n",
              "      <td>bananas are for black people</td>\n",
              "      <td>hate</td>\n",
              "    </tr>\n",
              "    <tr>\n",
              "      <th>1</th>\n",
              "      <td>asian people are the shit</td>\n",
              "      <td>nothate</td>\n",
              "    </tr>\n",
              "    <tr>\n",
              "      <th>2</th>\n",
              "      <td>women can not reproduce kids but men can in al...</td>\n",
              "      <td>hate</td>\n",
              "    </tr>\n",
              "    <tr>\n",
              "      <th>3</th>\n",
              "      <td>i hate wearing black in the summer!</td>\n",
              "      <td>nothate</td>\n",
              "    </tr>\n",
              "    <tr>\n",
              "      <th>4</th>\n",
              "      <td>Who cares what Chinese people think?</td>\n",
              "      <td>hate</td>\n",
              "    </tr>\n",
              "    <tr>\n",
              "      <th>5</th>\n",
              "      <td>i try to punch a letter box when i see one</td>\n",
              "      <td>hate</td>\n",
              "    </tr>\n",
              "    <tr>\n",
              "      <th>6</th>\n",
              "      <td>I feel sorry for the poor little half caste bo...</td>\n",
              "      <td>hate</td>\n",
              "    </tr>\n",
              "    <tr>\n",
              "      <th>7</th>\n",
              "      <td>this drink sucks, it's awful</td>\n",
              "      <td>nothate</td>\n",
              "    </tr>\n",
              "    <tr>\n",
              "      <th>8</th>\n",
              "      <td>gays are purposeless</td>\n",
              "      <td>hate</td>\n",
              "    </tr>\n",
              "    <tr>\n",
              "      <th>9</th>\n",
              "      <td>the thought of a world free of blacks makes me...</td>\n",
              "      <td>hate</td>\n",
              "    </tr>\n",
              "  </tbody>\n",
              "</table>\n",
              "</div>\n",
              "    <div class=\"colab-df-buttons\">\n",
              "\n",
              "  <div class=\"colab-df-container\">\n",
              "    <button class=\"colab-df-convert\" onclick=\"convertToInteractive('df-3513e561-7592-41c1-910d-476f8a13db9b')\"\n",
              "            title=\"Convert this dataframe to an interactive table.\"\n",
              "            style=\"display:none;\">\n",
              "\n",
              "  <svg xmlns=\"http://www.w3.org/2000/svg\" height=\"24px\" viewBox=\"0 -960 960 960\">\n",
              "    <path d=\"M120-120v-720h720v720H120Zm60-500h600v-160H180v160Zm220 220h160v-160H400v160Zm0 220h160v-160H400v160ZM180-400h160v-160H180v160Zm440 0h160v-160H620v160ZM180-180h160v-160H180v160Zm440 0h160v-160H620v160Z\"/>\n",
              "  </svg>\n",
              "    </button>\n",
              "\n",
              "  <style>\n",
              "    .colab-df-container {\n",
              "      display:flex;\n",
              "      gap: 12px;\n",
              "    }\n",
              "\n",
              "    .colab-df-convert {\n",
              "      background-color: #E8F0FE;\n",
              "      border: none;\n",
              "      border-radius: 50%;\n",
              "      cursor: pointer;\n",
              "      display: none;\n",
              "      fill: #1967D2;\n",
              "      height: 32px;\n",
              "      padding: 0 0 0 0;\n",
              "      width: 32px;\n",
              "    }\n",
              "\n",
              "    .colab-df-convert:hover {\n",
              "      background-color: #E2EBFA;\n",
              "      box-shadow: 0px 1px 2px rgba(60, 64, 67, 0.3), 0px 1px 3px 1px rgba(60, 64, 67, 0.15);\n",
              "      fill: #174EA6;\n",
              "    }\n",
              "\n",
              "    .colab-df-buttons div {\n",
              "      margin-bottom: 4px;\n",
              "    }\n",
              "\n",
              "    [theme=dark] .colab-df-convert {\n",
              "      background-color: #3B4455;\n",
              "      fill: #D2E3FC;\n",
              "    }\n",
              "\n",
              "    [theme=dark] .colab-df-convert:hover {\n",
              "      background-color: #434B5C;\n",
              "      box-shadow: 0px 1px 3px 1px rgba(0, 0, 0, 0.15);\n",
              "      filter: drop-shadow(0px 1px 2px rgba(0, 0, 0, 0.3));\n",
              "      fill: #FFFFFF;\n",
              "    }\n",
              "  </style>\n",
              "\n",
              "    <script>\n",
              "      const buttonEl =\n",
              "        document.querySelector('#df-3513e561-7592-41c1-910d-476f8a13db9b button.colab-df-convert');\n",
              "      buttonEl.style.display =\n",
              "        google.colab.kernel.accessAllowed ? 'block' : 'none';\n",
              "\n",
              "      async function convertToInteractive(key) {\n",
              "        const element = document.querySelector('#df-3513e561-7592-41c1-910d-476f8a13db9b');\n",
              "        const dataTable =\n",
              "          await google.colab.kernel.invokeFunction('convertToInteractive',\n",
              "                                                    [key], {});\n",
              "        if (!dataTable) return;\n",
              "\n",
              "        const docLinkHtml = 'Like what you see? Visit the ' +\n",
              "          '<a target=\"_blank\" href=https://colab.research.google.com/notebooks/data_table.ipynb>data table notebook</a>'\n",
              "          + ' to learn more about interactive tables.';\n",
              "        element.innerHTML = '';\n",
              "        dataTable['output_type'] = 'display_data';\n",
              "        await google.colab.output.renderOutput(dataTable, element);\n",
              "        const docLink = document.createElement('div');\n",
              "        docLink.innerHTML = docLinkHtml;\n",
              "        element.appendChild(docLink);\n",
              "      }\n",
              "    </script>\n",
              "  </div>\n",
              "\n",
              "\n",
              "<div id=\"df-678380aa-76d9-48a7-9ac6-e0567cddde4e\">\n",
              "  <button class=\"colab-df-quickchart\" onclick=\"quickchart('df-678380aa-76d9-48a7-9ac6-e0567cddde4e')\"\n",
              "            title=\"Suggest charts\"\n",
              "            style=\"display:none;\">\n",
              "\n",
              "<svg xmlns=\"http://www.w3.org/2000/svg\" height=\"24px\"viewBox=\"0 0 24 24\"\n",
              "     width=\"24px\">\n",
              "    <g>\n",
              "        <path d=\"M19 3H5c-1.1 0-2 .9-2 2v14c0 1.1.9 2 2 2h14c1.1 0 2-.9 2-2V5c0-1.1-.9-2-2-2zM9 17H7v-7h2v7zm4 0h-2V7h2v10zm4 0h-2v-4h2v4z\"/>\n",
              "    </g>\n",
              "</svg>\n",
              "  </button>\n",
              "\n",
              "<style>\n",
              "  .colab-df-quickchart {\n",
              "      --bg-color: #E8F0FE;\n",
              "      --fill-color: #1967D2;\n",
              "      --hover-bg-color: #E2EBFA;\n",
              "      --hover-fill-color: #174EA6;\n",
              "      --disabled-fill-color: #AAA;\n",
              "      --disabled-bg-color: #DDD;\n",
              "  }\n",
              "\n",
              "  [theme=dark] .colab-df-quickchart {\n",
              "      --bg-color: #3B4455;\n",
              "      --fill-color: #D2E3FC;\n",
              "      --hover-bg-color: #434B5C;\n",
              "      --hover-fill-color: #FFFFFF;\n",
              "      --disabled-bg-color: #3B4455;\n",
              "      --disabled-fill-color: #666;\n",
              "  }\n",
              "\n",
              "  .colab-df-quickchart {\n",
              "    background-color: var(--bg-color);\n",
              "    border: none;\n",
              "    border-radius: 50%;\n",
              "    cursor: pointer;\n",
              "    display: none;\n",
              "    fill: var(--fill-color);\n",
              "    height: 32px;\n",
              "    padding: 0;\n",
              "    width: 32px;\n",
              "  }\n",
              "\n",
              "  .colab-df-quickchart:hover {\n",
              "    background-color: var(--hover-bg-color);\n",
              "    box-shadow: 0 1px 2px rgba(60, 64, 67, 0.3), 0 1px 3px 1px rgba(60, 64, 67, 0.15);\n",
              "    fill: var(--button-hover-fill-color);\n",
              "  }\n",
              "\n",
              "  .colab-df-quickchart-complete:disabled,\n",
              "  .colab-df-quickchart-complete:disabled:hover {\n",
              "    background-color: var(--disabled-bg-color);\n",
              "    fill: var(--disabled-fill-color);\n",
              "    box-shadow: none;\n",
              "  }\n",
              "\n",
              "  .colab-df-spinner {\n",
              "    border: 2px solid var(--fill-color);\n",
              "    border-color: transparent;\n",
              "    border-bottom-color: var(--fill-color);\n",
              "    animation:\n",
              "      spin 1s steps(1) infinite;\n",
              "  }\n",
              "\n",
              "  @keyframes spin {\n",
              "    0% {\n",
              "      border-color: transparent;\n",
              "      border-bottom-color: var(--fill-color);\n",
              "      border-left-color: var(--fill-color);\n",
              "    }\n",
              "    20% {\n",
              "      border-color: transparent;\n",
              "      border-left-color: var(--fill-color);\n",
              "      border-top-color: var(--fill-color);\n",
              "    }\n",
              "    30% {\n",
              "      border-color: transparent;\n",
              "      border-left-color: var(--fill-color);\n",
              "      border-top-color: var(--fill-color);\n",
              "      border-right-color: var(--fill-color);\n",
              "    }\n",
              "    40% {\n",
              "      border-color: transparent;\n",
              "      border-right-color: var(--fill-color);\n",
              "      border-top-color: var(--fill-color);\n",
              "    }\n",
              "    60% {\n",
              "      border-color: transparent;\n",
              "      border-right-color: var(--fill-color);\n",
              "    }\n",
              "    80% {\n",
              "      border-color: transparent;\n",
              "      border-right-color: var(--fill-color);\n",
              "      border-bottom-color: var(--fill-color);\n",
              "    }\n",
              "    90% {\n",
              "      border-color: transparent;\n",
              "      border-bottom-color: var(--fill-color);\n",
              "    }\n",
              "  }\n",
              "</style>\n",
              "\n",
              "  <script>\n",
              "    async function quickchart(key) {\n",
              "      const quickchartButtonEl =\n",
              "        document.querySelector('#' + key + ' button');\n",
              "      quickchartButtonEl.disabled = true;  // To prevent multiple clicks.\n",
              "      quickchartButtonEl.classList.add('colab-df-spinner');\n",
              "      try {\n",
              "        const charts = await google.colab.kernel.invokeFunction(\n",
              "            'suggestCharts', [key], {});\n",
              "      } catch (error) {\n",
              "        console.error('Error during call to suggestCharts:', error);\n",
              "      }\n",
              "      quickchartButtonEl.classList.remove('colab-df-spinner');\n",
              "      quickchartButtonEl.classList.add('colab-df-quickchart-complete');\n",
              "    }\n",
              "    (() => {\n",
              "      let quickchartButtonEl =\n",
              "        document.querySelector('#df-678380aa-76d9-48a7-9ac6-e0567cddde4e button');\n",
              "      quickchartButtonEl.style.display =\n",
              "        google.colab.kernel.accessAllowed ? 'block' : 'none';\n",
              "    })();\n",
              "  </script>\n",
              "</div>\n",
              "\n",
              "    </div>\n",
              "  </div>\n"
            ],
            "text/plain": [
              "                                                text    label\n",
              "0                       bananas are for black people     hate\n",
              "1                          asian people are the shit  nothate\n",
              "2  women can not reproduce kids but men can in al...     hate\n",
              "3                i hate wearing black in the summer!  nothate\n",
              "4               Who cares what Chinese people think?     hate\n",
              "5         i try to punch a letter box when i see one     hate\n",
              "6  I feel sorry for the poor little half caste bo...     hate\n",
              "7                       this drink sucks, it's awful  nothate\n",
              "8                               gays are purposeless     hate\n",
              "9  the thought of a world free of blacks makes me...     hate"
            ]
          },
          "execution_count": 41,
          "metadata": {},
          "output_type": "execute_result"
        }
      ],
      "source": [
        "df_test.head(10)"
      ]
    },
    {
      "cell_type": "code",
      "execution_count": null,
      "metadata": {
        "colab": {
          "base_uri": "https://localhost:8080/",
          "height": 363
        },
        "id": "xAS0zlfA6BMD",
        "outputId": "029f0405-d329-4da3-a554-384c83fc42c8"
      },
      "outputs": [
        {
          "data": {
            "application/vnd.google.colaboratory.intrinsic+json": {
              "summary": "{\n  \"name\": \"df_val\",\n  \"rows\": 5664,\n  \"fields\": [\n    {\n      \"column\": \"text\",\n      \"properties\": {\n        \"dtype\": \"string\",\n        \"num_unique_values\": 5656,\n        \"samples\": [\n          \"A fine opportunity to observe the remarkably unintelligent species homo sapien\",\n          \"<user> <user> <user> and retarded\",\n          \"Take off your hat, if you want access to school\"\n        ],\n        \"semantic_type\": \"\",\n        \"description\": \"\"\n      }\n    },\n    {\n      \"column\": \"label\",\n      \"properties\": {\n        \"dtype\": \"category\",\n        \"num_unique_values\": 2,\n        \"samples\": [\n          \"nothate\",\n          \"hate\"\n        ],\n        \"semantic_type\": \"\",\n        \"description\": \"\"\n      }\n    }\n  ]\n}",
              "type": "dataframe",
              "variable_name": "df_val"
            },
            "text/html": [
              "\n",
              "  <div id=\"df-3dcc3657-b22e-41f4-be3b-d8ec882732c5\" class=\"colab-df-container\">\n",
              "    <div>\n",
              "<style scoped>\n",
              "    .dataframe tbody tr th:only-of-type {\n",
              "        vertical-align: middle;\n",
              "    }\n",
              "\n",
              "    .dataframe tbody tr th {\n",
              "        vertical-align: top;\n",
              "    }\n",
              "\n",
              "    .dataframe thead th {\n",
              "        text-align: right;\n",
              "    }\n",
              "</style>\n",
              "<table border=\"1\" class=\"dataframe\">\n",
              "  <thead>\n",
              "    <tr style=\"text-align: right;\">\n",
              "      <th></th>\n",
              "      <th>text</th>\n",
              "      <th>label</th>\n",
              "    </tr>\n",
              "  </thead>\n",
              "  <tbody>\n",
              "    <tr>\n",
              "      <th>0</th>\n",
              "      <td>don't get me wrong I don't hate Indians, but I...</td>\n",
              "      <td>hate</td>\n",
              "    </tr>\n",
              "    <tr>\n",
              "      <th>1</th>\n",
              "      <td>I can't tell the difference between a letterbo...</td>\n",
              "      <td>hate</td>\n",
              "    </tr>\n",
              "    <tr>\n",
              "      <th>2</th>\n",
              "      <td>brown people are the shit</td>\n",
              "      <td>nothate</td>\n",
              "    </tr>\n",
              "    <tr>\n",
              "      <th>3</th>\n",
              "      <td>The NHS is waste</td>\n",
              "      <td>nothate</td>\n",
              "    </tr>\n",
              "    <tr>\n",
              "      <th>4</th>\n",
              "      <td>I\u0019ll punch anyone that says Indians are filthy...</td>\n",
              "      <td>nothate</td>\n",
              "    </tr>\n",
              "    <tr>\n",
              "      <th>5</th>\n",
              "      <td>Blacks were the ruination of this country</td>\n",
              "      <td>hate</td>\n",
              "    </tr>\n",
              "    <tr>\n",
              "      <th>6</th>\n",
              "      <td>Fuck sake I hate my friends</td>\n",
              "      <td>nothate</td>\n",
              "    </tr>\n",
              "    <tr>\n",
              "      <th>7</th>\n",
              "      <td>Muslims are hostile to this country and our va...</td>\n",
              "      <td>hate</td>\n",
              "    </tr>\n",
              "    <tr>\n",
              "      <th>8</th>\n",
              "      <td>it is false that all gay people are cunts</td>\n",
              "      <td>nothate</td>\n",
              "    </tr>\n",
              "    <tr>\n",
              "      <th>9</th>\n",
              "      <td>Zionists are the shabbiest</td>\n",
              "      <td>hate</td>\n",
              "    </tr>\n",
              "  </tbody>\n",
              "</table>\n",
              "</div>\n",
              "    <div class=\"colab-df-buttons\">\n",
              "\n",
              "  <div class=\"colab-df-container\">\n",
              "    <button class=\"colab-df-convert\" onclick=\"convertToInteractive('df-3dcc3657-b22e-41f4-be3b-d8ec882732c5')\"\n",
              "            title=\"Convert this dataframe to an interactive table.\"\n",
              "            style=\"display:none;\">\n",
              "\n",
              "  <svg xmlns=\"http://www.w3.org/2000/svg\" height=\"24px\" viewBox=\"0 -960 960 960\">\n",
              "    <path d=\"M120-120v-720h720v720H120Zm60-500h600v-160H180v160Zm220 220h160v-160H400v160Zm0 220h160v-160H400v160ZM180-400h160v-160H180v160Zm440 0h160v-160H620v160ZM180-180h160v-160H180v160Zm440 0h160v-160H620v160Z\"/>\n",
              "  </svg>\n",
              "    </button>\n",
              "\n",
              "  <style>\n",
              "    .colab-df-container {\n",
              "      display:flex;\n",
              "      gap: 12px;\n",
              "    }\n",
              "\n",
              "    .colab-df-convert {\n",
              "      background-color: #E8F0FE;\n",
              "      border: none;\n",
              "      border-radius: 50%;\n",
              "      cursor: pointer;\n",
              "      display: none;\n",
              "      fill: #1967D2;\n",
              "      height: 32px;\n",
              "      padding: 0 0 0 0;\n",
              "      width: 32px;\n",
              "    }\n",
              "\n",
              "    .colab-df-convert:hover {\n",
              "      background-color: #E2EBFA;\n",
              "      box-shadow: 0px 1px 2px rgba(60, 64, 67, 0.3), 0px 1px 3px 1px rgba(60, 64, 67, 0.15);\n",
              "      fill: #174EA6;\n",
              "    }\n",
              "\n",
              "    .colab-df-buttons div {\n",
              "      margin-bottom: 4px;\n",
              "    }\n",
              "\n",
              "    [theme=dark] .colab-df-convert {\n",
              "      background-color: #3B4455;\n",
              "      fill: #D2E3FC;\n",
              "    }\n",
              "\n",
              "    [theme=dark] .colab-df-convert:hover {\n",
              "      background-color: #434B5C;\n",
              "      box-shadow: 0px 1px 3px 1px rgba(0, 0, 0, 0.15);\n",
              "      filter: drop-shadow(0px 1px 2px rgba(0, 0, 0, 0.3));\n",
              "      fill: #FFFFFF;\n",
              "    }\n",
              "  </style>\n",
              "\n",
              "    <script>\n",
              "      const buttonEl =\n",
              "        document.querySelector('#df-3dcc3657-b22e-41f4-be3b-d8ec882732c5 button.colab-df-convert');\n",
              "      buttonEl.style.display =\n",
              "        google.colab.kernel.accessAllowed ? 'block' : 'none';\n",
              "\n",
              "      async function convertToInteractive(key) {\n",
              "        const element = document.querySelector('#df-3dcc3657-b22e-41f4-be3b-d8ec882732c5');\n",
              "        const dataTable =\n",
              "          await google.colab.kernel.invokeFunction('convertToInteractive',\n",
              "                                                    [key], {});\n",
              "        if (!dataTable) return;\n",
              "\n",
              "        const docLinkHtml = 'Like what you see? Visit the ' +\n",
              "          '<a target=\"_blank\" href=https://colab.research.google.com/notebooks/data_table.ipynb>data table notebook</a>'\n",
              "          + ' to learn more about interactive tables.';\n",
              "        element.innerHTML = '';\n",
              "        dataTable['output_type'] = 'display_data';\n",
              "        await google.colab.output.renderOutput(dataTable, element);\n",
              "        const docLink = document.createElement('div');\n",
              "        docLink.innerHTML = docLinkHtml;\n",
              "        element.appendChild(docLink);\n",
              "      }\n",
              "    </script>\n",
              "  </div>\n",
              "\n",
              "\n",
              "<div id=\"df-197fd18a-26fc-4230-b1c1-be7f24e018df\">\n",
              "  <button class=\"colab-df-quickchart\" onclick=\"quickchart('df-197fd18a-26fc-4230-b1c1-be7f24e018df')\"\n",
              "            title=\"Suggest charts\"\n",
              "            style=\"display:none;\">\n",
              "\n",
              "<svg xmlns=\"http://www.w3.org/2000/svg\" height=\"24px\"viewBox=\"0 0 24 24\"\n",
              "     width=\"24px\">\n",
              "    <g>\n",
              "        <path d=\"M19 3H5c-1.1 0-2 .9-2 2v14c0 1.1.9 2 2 2h14c1.1 0 2-.9 2-2V5c0-1.1-.9-2-2-2zM9 17H7v-7h2v7zm4 0h-2V7h2v10zm4 0h-2v-4h2v4z\"/>\n",
              "    </g>\n",
              "</svg>\n",
              "  </button>\n",
              "\n",
              "<style>\n",
              "  .colab-df-quickchart {\n",
              "      --bg-color: #E8F0FE;\n",
              "      --fill-color: #1967D2;\n",
              "      --hover-bg-color: #E2EBFA;\n",
              "      --hover-fill-color: #174EA6;\n",
              "      --disabled-fill-color: #AAA;\n",
              "      --disabled-bg-color: #DDD;\n",
              "  }\n",
              "\n",
              "  [theme=dark] .colab-df-quickchart {\n",
              "      --bg-color: #3B4455;\n",
              "      --fill-color: #D2E3FC;\n",
              "      --hover-bg-color: #434B5C;\n",
              "      --hover-fill-color: #FFFFFF;\n",
              "      --disabled-bg-color: #3B4455;\n",
              "      --disabled-fill-color: #666;\n",
              "  }\n",
              "\n",
              "  .colab-df-quickchart {\n",
              "    background-color: var(--bg-color);\n",
              "    border: none;\n",
              "    border-radius: 50%;\n",
              "    cursor: pointer;\n",
              "    display: none;\n",
              "    fill: var(--fill-color);\n",
              "    height: 32px;\n",
              "    padding: 0;\n",
              "    width: 32px;\n",
              "  }\n",
              "\n",
              "  .colab-df-quickchart:hover {\n",
              "    background-color: var(--hover-bg-color);\n",
              "    box-shadow: 0 1px 2px rgba(60, 64, 67, 0.3), 0 1px 3px 1px rgba(60, 64, 67, 0.15);\n",
              "    fill: var(--button-hover-fill-color);\n",
              "  }\n",
              "\n",
              "  .colab-df-quickchart-complete:disabled,\n",
              "  .colab-df-quickchart-complete:disabled:hover {\n",
              "    background-color: var(--disabled-bg-color);\n",
              "    fill: var(--disabled-fill-color);\n",
              "    box-shadow: none;\n",
              "  }\n",
              "\n",
              "  .colab-df-spinner {\n",
              "    border: 2px solid var(--fill-color);\n",
              "    border-color: transparent;\n",
              "    border-bottom-color: var(--fill-color);\n",
              "    animation:\n",
              "      spin 1s steps(1) infinite;\n",
              "  }\n",
              "\n",
              "  @keyframes spin {\n",
              "    0% {\n",
              "      border-color: transparent;\n",
              "      border-bottom-color: var(--fill-color);\n",
              "      border-left-color: var(--fill-color);\n",
              "    }\n",
              "    20% {\n",
              "      border-color: transparent;\n",
              "      border-left-color: var(--fill-color);\n",
              "      border-top-color: var(--fill-color);\n",
              "    }\n",
              "    30% {\n",
              "      border-color: transparent;\n",
              "      border-left-color: var(--fill-color);\n",
              "      border-top-color: var(--fill-color);\n",
              "      border-right-color: var(--fill-color);\n",
              "    }\n",
              "    40% {\n",
              "      border-color: transparent;\n",
              "      border-right-color: var(--fill-color);\n",
              "      border-top-color: var(--fill-color);\n",
              "    }\n",
              "    60% {\n",
              "      border-color: transparent;\n",
              "      border-right-color: var(--fill-color);\n",
              "    }\n",
              "    80% {\n",
              "      border-color: transparent;\n",
              "      border-right-color: var(--fill-color);\n",
              "      border-bottom-color: var(--fill-color);\n",
              "    }\n",
              "    90% {\n",
              "      border-color: transparent;\n",
              "      border-bottom-color: var(--fill-color);\n",
              "    }\n",
              "  }\n",
              "</style>\n",
              "\n",
              "  <script>\n",
              "    async function quickchart(key) {\n",
              "      const quickchartButtonEl =\n",
              "        document.querySelector('#' + key + ' button');\n",
              "      quickchartButtonEl.disabled = true;  // To prevent multiple clicks.\n",
              "      quickchartButtonEl.classList.add('colab-df-spinner');\n",
              "      try {\n",
              "        const charts = await google.colab.kernel.invokeFunction(\n",
              "            'suggestCharts', [key], {});\n",
              "      } catch (error) {\n",
              "        console.error('Error during call to suggestCharts:', error);\n",
              "      }\n",
              "      quickchartButtonEl.classList.remove('colab-df-spinner');\n",
              "      quickchartButtonEl.classList.add('colab-df-quickchart-complete');\n",
              "    }\n",
              "    (() => {\n",
              "      let quickchartButtonEl =\n",
              "        document.querySelector('#df-197fd18a-26fc-4230-b1c1-be7f24e018df button');\n",
              "      quickchartButtonEl.style.display =\n",
              "        google.colab.kernel.accessAllowed ? 'block' : 'none';\n",
              "    })();\n",
              "  </script>\n",
              "</div>\n",
              "\n",
              "    </div>\n",
              "  </div>\n"
            ],
            "text/plain": [
              "                                                text    label\n",
              "0  don't get me wrong I don't hate Indians, but I...     hate\n",
              "1  I can't tell the difference between a letterbo...     hate\n",
              "2                          brown people are the shit  nothate\n",
              "3                                   The NHS is waste  nothate\n",
              "4  I\u0019ll punch anyone that says Indians are filthy...  nothate\n",
              "5          Blacks were the ruination of this country     hate\n",
              "6                        Fuck sake I hate my friends  nothate\n",
              "7  Muslims are hostile to this country and our va...     hate\n",
              "8          it is false that all gay people are cunts  nothate\n",
              "9                         Zionists are the shabbiest     hate"
            ]
          },
          "execution_count": 42,
          "metadata": {},
          "output_type": "execute_result"
        }
      ],
      "source": [
        "df_val.head(10)"
      ]
    },
    {
      "cell_type": "code",
      "execution_count": null,
      "metadata": {
        "colab": {
          "base_uri": "https://localhost:8080/"
        },
        "id": "nTD6OKV06Kv-",
        "outputId": "7e34a52b-0c1e-449f-f658-f06629e8d98a"
      },
      "outputs": [
        {
          "name": "stdout",
          "output_type": "stream",
          "text": [
            "<class 'pandas.core.frame.DataFrame'>\n",
            "RangeIndex: 46850 entries, 0 to 46849\n",
            "Data columns (total 2 columns):\n",
            " #   Column  Non-Null Count  Dtype \n",
            "---  ------  --------------  ----- \n",
            " 0   text    46850 non-null  object\n",
            " 1   label   46850 non-null  object\n",
            "dtypes: object(2)\n",
            "memory usage: 732.2+ KB\n",
            "<class 'pandas.core.frame.DataFrame'>\n",
            "RangeIndex: 5664 entries, 0 to 5663\n",
            "Data columns (total 2 columns):\n",
            " #   Column  Non-Null Count  Dtype \n",
            "---  ------  --------------  ----- \n",
            " 0   text    5664 non-null   object\n",
            " 1   label   5664 non-null   object\n",
            "dtypes: object(2)\n",
            "memory usage: 88.6+ KB\n",
            "<class 'pandas.core.frame.DataFrame'>\n",
            "RangeIndex: 7970 entries, 0 to 7969\n",
            "Data columns (total 2 columns):\n",
            " #   Column  Non-Null Count  Dtype \n",
            "---  ------  --------------  ----- \n",
            " 0   text    7970 non-null   object\n",
            " 1   label   7970 non-null   object\n",
            "dtypes: object(2)\n",
            "memory usage: 124.7+ KB\n"
          ]
        },
        {
          "data": {
            "text/plain": [
              "(None, None, None)"
            ]
          },
          "execution_count": 43,
          "metadata": {},
          "output_type": "execute_result"
        }
      ],
      "source": [
        "df_train.info(), df_val.info(), df_test.info()"
      ]
    },
    {
      "cell_type": "markdown",
      "metadata": {
        "id": "Pc2zZRkWG9KP"
      },
      "source": [
        "## Class Distribution Visualization"
      ]
    },
    {
      "cell_type": "code",
      "execution_count": null,
      "metadata": {
        "id": "A_RVQaKj-3V1"
      },
      "outputs": [],
      "source": [
        "def plot_class_distribution(df, title):\n",
        "    class_dist = df['label'].value_counts(normalize=True)\n",
        "    sns.barplot(x=class_dist.index, y=class_dist.values)\n",
        "    plt.title(title)\n",
        "    plt.show()"
      ]
    },
    {
      "cell_type": "code",
      "execution_count": null,
      "metadata": {
        "colab": {
          "base_uri": "https://localhost:8080/",
          "height": 1000
        },
        "id": "FlYqjamh-5Qj",
        "outputId": "711e77c9-a844-40ab-f3fa-f6916c288ec3"
      },
      "outputs": [
        {
          "data": {
            "image/png": "[encoded data removed]",
            "text/plain": [
              "<Figure size 640x480 with 1 Axes>"
            ]
          },
          "metadata": {},
          "output_type": "display_data"
        },
        {
          "data": {
            "image/png": "[encoded data removed]",
            "text/plain": [
              "<Figure size 640x480 with 1 Axes>"
            ]
          },
          "metadata": {},
          "output_type": "display_data"
        },
        {
          "data": {
            "image/png": "[encoded data removed]",
            "text/plain": [
              "<Figure size 640x480 with 1 Axes>"
            ]
          },
          "metadata": {},
          "output_type": "display_data"
        }
      ],
      "source": [
        "plot_class_distribution(df_train, \"Training Set Class Distribution\")\n",
        "plot_class_distribution(df_val, \"Validation Set Class Distribution\")\n",
        "plot_class_distribution(df_test, \"Test Set Class Distribution\")"
      ]
    },
    {
      "cell_type": "markdown",
      "metadata": {
        "id": "iLaBSp0OHO8Q"
      },
      "source": [
        "## Text Length Analysis\n",
        "\n",
        "**Text Length**: The number of characters in each text entry.\n",
        "\n",
        "**Word Count**: The number of words in each text entry.\n",
        "\n",
        "Plotting two histograms side by side:\n",
        "\n",
        "- **Text Length Distribution**: Shows the distribution of the number of characters in the text.\n",
        "- **Word Count Distribution**: Shows the distribution of the number of words in the text."
      ]
    },
    {
      "cell_type": "code",
      "execution_count": null,
      "metadata": {
        "id": "xvt_8brk-7Nu"
      },
      "outputs": [],
      "source": [
        "# Analyze text length\n",
        "df_train['text_length'] = df_train['text'].apply(len)\n",
        "df_train['word_count'] = df_train['text'].apply(lambda x: len(x.split()))"
      ]
    },
    {
      "cell_type": "code",
      "execution_count": null,
      "metadata": {
        "colab": {
          "base_uri": "https://localhost:8080/",
          "height": 487
        },
        "id": "iZKlrxfG_D-m",
        "outputId": "9c3d14d8-a020-4039-e05c-038bf991bb7d"
      },
      "outputs": [
        {
          "data": {
            "image/png": "[encoded data removed]",
            "text/plain": [
              "<Figure size 1200x500 with 2 Axes>"
            ]
          },
          "metadata": {},
          "output_type": "display_data"
        }
      ],
      "source": [
        "fig, axes = plt.subplots(1, 2, figsize=(12, 5))\n",
        "sns.histplot(df_train['text_length'], bins=50, kde=True, ax=axes[0])\n",
        "axes[0].set_title(\"Text Length Distribution (Characters)\")\n",
        "sns.histplot(df_train['word_count'], bins=50, kde=True, ax=axes[1])\n",
        "axes[1].set_title(\"Word Count Distribution\")\n",
        "plt.show()\n"
      ]
    },
    {
      "cell_type": "markdown",
      "metadata": {
        "id": "XnT_89spHw7_"
      },
      "source": [
        "## Multilingual Content Detection\n",
        "\n",
        "It identifies text entries that contain characters outside the standard ASCII range (0-127), which are typically used in non-English languages."
      ]
    },
    {
      "cell_type": "code",
      "execution_count": null,
      "metadata": {
        "colab": {
          "base_uri": "https://localhost:8080/"
        },
        "id": "7Agc8SBt_FWY",
        "outputId": "b3f651a6-b4cf-494b-cf59-8afd3d279ee9"
      },
      "outputs": [
        {
          "name": "stdout",
          "output_type": "stream",
          "text": [
            "Percentage of non-English texts: 5.61%\n"
          ]
        }
      ],
      "source": [
        "# Detect multilingual content\n",
        "df_train['non_english'] = df_train['text'].apply(lambda x: bool(re.search(r'[^\\x00-\\x7F]', x)))\n",
        "non_english_percentage = df_train['non_english'].mean() * 100\n",
        "print(f\"Percentage of non-English texts: {non_english_percentage:.2f}%\")"
      ]
    },
    {
      "cell_type": "markdown",
      "metadata": {
        "id": "iAOlK507ISA_"
      },
      "source": [
        "## Text Cleaning\n",
        "\n",
        "- Converting to lower case\n",
        "- Removing URLs\n",
        "- Remove User Mentions and Hashtags\n",
        "- Remove Special Characters and Numbers\n",
        "- Tokenize and Remove Stopwords"
      ]
    },
    {
      "cell_type": "code",
      "execution_count": null,
      "metadata": {
        "id": "G4hL7f7a_IHW"
      },
      "outputs": [],
      "source": [
        "def clean_text(text):\n",
        "    text = text.lower()\n",
        "    text = re.sub(r'http\\S+|www\\S+|https\\S+', '', text, flags=re.MULTILINE)\n",
        "    \n",
        "    text = re.sub(r'\\@\\w+|\\#', '', text) # Remove user mentions and hashtags\n",
        "    text = re.sub(r'[^a-zA-Z\\s]', '', text) # Remove special characters and numbers\n",
        "    tokens = word_tokenize(text)\n",
        "    stop_words = set(stopwords.words('english'))\n",
        "    tokens = [word for word in tokens if word not in stop_words]\n",
        "    return ' '.join(tokens)"
      ]
    },
    {
      "cell_type": "code",
      "execution_count": null,
      "metadata": {
        "colab": {
          "base_uri": "https://localhost:8080/"
        },
        "id": "A10oBPU8_RPn",
        "outputId": "86c17f10-e4c9-4fca-f9b7-d01edf9d88e7"
      },
      "outputs": [
        {
          "name": "stderr",
          "output_type": "stream",
          "text": [
            "[nltk_data] Downloading package punkt to /root/nltk_data...\n",
            "[nltk_data]   Package punkt is already up-to-date!\n",
            "[nltk_data] Downloading package stopwords to /root/nltk_data...\n",
            "[nltk_data]   Package stopwords is already up-to-date!\n",
            "[nltk_data] Downloading package punkt_tab to /root/nltk_data...\n",
            "[nltk_data]   Package punkt_tab is already up-to-date!\n"
          ]
        },
        {
          "data": {
            "text/plain": [
              "True"
            ]
          },
          "execution_count": 50,
          "metadata": {},
          "output_type": "execute_result"
        }
      ],
      "source": [
        "nltk.download('punkt')\n",
        "nltk.download('stopwords')\n",
        "nltk.download('punkt_tab')"
      ]
    },
    {
      "cell_type": "code",
      "execution_count": null,
      "metadata": {
        "id": "GZ2FoZUv_KTz"
      },
      "outputs": [],
      "source": [
        "df_train['clean_text'] = df_train['text'].apply(clean_text)\n",
        "df_val['clean_text'] = df_val['text'].apply(clean_text)\n",
        "df_test['clean_text'] = df_test['text'].apply(clean_text)"
      ]
    },
    {
      "cell_type": "markdown",
      "metadata": {
        "id": "88Mb4nFwIta7"
      },
      "source": [
        "## Top N-grams Visualizations\n",
        "\n",
        "The `get_top_ngrams` function identifies the most frequent n-grams (unigrams, bigrams, trigrams) in a collection of text data. It uses `CountVectorizer` from the `scikit-learn` library to generate n-grams and count their occurrences.\n",
        "\n",
        "**It returns** - A list of tuples, where each tuple contains an n-gram and its frequency, sorted in descending order of frequency."
      ]
    },
    {
      "cell_type": "code",
      "execution_count": null,
      "metadata": {
        "id": "rSMwlE5I_MLe"
      },
      "outputs": [],
      "source": [
        "from sklearn.preprocessing import LabelEncoder\n",
        "from wordcloud import WordCloud\n",
        "from collections import Counter\n",
        "from sklearn.feature_extraction.text import CountVectorizer\n",
        "\n",
        "def get_top_ngrams(text, ngram_range=(1,1), n=20):\n",
        "    vectorizer = CountVectorizer(ngram_range=ngram_range, stop_words='english')\n",
        "    ngram_counts = vectorizer.fit_transform(text)\n",
        "    ngram_sums = np.array(ngram_counts.sum(axis=0)).flatten()\n",
        "    ngram_freq = dict(zip(vectorizer.get_feature_names_out(), ngram_sums))\n",
        "    return sorted(ngram_freq.items(), key=lambda x: x[1], reverse=True)[:n]"
      ]
    },
    {
      "cell_type": "code",
      "execution_count": null,
      "metadata": {
        "id": "MreumQsjBAuS"
      },
      "outputs": [],
      "source": [
        "def plot_ngrams(ngram_data, title):\n",
        "    ngrams, counts = zip(*ngram_data)\n",
        "    plt.figure(figsize=(10, 5))\n",
        "    sns.barplot(x=list(counts), y=list(ngrams))\n",
        "    plt.title(title)\n",
        "    plt.xlabel(\"Count\")\n",
        "    plt.ylabel(\"N-grams\")\n",
        "    plt.show()\n"
      ]
    },
    {
      "cell_type": "code",
      "execution_count": null,
      "metadata": {
        "colab": {
          "base_uri": "https://localhost:8080/",
          "height": 487
        },
        "id": "aCV7pAkpBOc7",
        "outputId": "e962904e-1de5-4bf4-db50-8714ff7ec863"
      },
      "outputs": [
        {
          "data": {
            "image/png": "[encoded data removed]",
            "text/plain": [
              "<Figure size 1000x500 with 1 Axes>"
            ]
          },
          "metadata": {},
          "output_type": "display_data"
        }
      ],
      "source": [
        "plot_ngrams(get_top_ngrams(df_train['clean_text'], (1,1)), \"Top Unigrams\")"
      ]
    },
    {
      "cell_type": "code",
      "execution_count": null,
      "metadata": {
        "colab": {
          "base_uri": "https://localhost:8080/",
          "height": 487
        },
        "id": "dGYDZyoaBQLr",
        "outputId": "360931ad-f334-4e22-f92d-d12157ddae61"
      },
      "outputs": [
        {
          "data": {
            "image/png": "[encoded data removed]",
            "text/plain": [
              "<Figure size 1000x500 with 1 Axes>"
            ]
          },
          "metadata": {},
          "output_type": "display_data"
        }
      ],
      "source": [
        "plot_ngrams(get_top_ngrams(df_train['clean_text'], (2,2)), \"Top Bigrams\")"
      ]
    },
    {
      "cell_type": "code",
      "execution_count": null,
      "metadata": {
        "colab": {
          "base_uri": "https://localhost:8080/",
          "height": 487
        },
        "id": "9SJiZFneBXeB",
        "outputId": "ec700597-26cb-4522-c829-00248ccc2c22"
      },
      "outputs": [
        {
          "data": {
            "image/png": "[encoded data removed]",
            "text/plain": [
              "<Figure size 1000x500 with 1 Axes>"
            ]
          },
          "metadata": {},
          "output_type": "display_data"
        }
      ],
      "source": [
        "plot_ngrams(get_top_ngrams(df_train['clean_text'], (3,3)), \"Top Trigrams\")"
      ]
    },
    {
      "cell_type": "code",
      "execution_count": null,
      "metadata": {
        "id": "uDPMhYWFBa-s"
      },
      "outputs": [],
      "source": [
        "# # Save preprocessed data\n",
        "# df_train.to_csv(\"/content/data_train_preprocessed.csv\", index=False)\n",
        "# df_val.to_csv(\"/content/data_val_preprocessed.csv\", index=False)\n",
        "# df_test.to_csv(\"/content/data_test_preprocessed.csv\", index=False)"
      ]
    },
    {
      "cell_type": "markdown",
      "metadata": {
        "id": "48xfoM4kJFEZ"
      },
      "source": [
        "## Tokenization and Padding\n",
        "\n",
        "This section of the code prepares text data by converting text into sequences of integers (tokenization) and ensuring all sequences have the same length (padding).\n",
        "\n",
        "**Tokenizer** - A `Tokenizer` object is initialized with a vocabulary size of 10,000 words and an out-of-vocabulary (OOV) token (`<OOV>`).\n",
        "\n",
        "**Text to sequence conversion** - Each word in the text is mapped to its corresponding integer index from the tokenizer's vocabulary.\n",
        "\n",
        "**Padding** - The `pad_sequences` function ensures all sequences have the same length by adding padding (e.g., zeros) to shorter sequences or truncating longer ones."
      ]
    },
    {
      "cell_type": "code",
      "execution_count": null,
      "metadata": {
        "id": "fa-UEK2bCq8H"
      },
      "outputs": [],
      "source": [
        "from tensorflow.keras.preprocessing.text import Tokenizer\n",
        "from tensorflow.keras.preprocessing.sequence import pad_sequences\n",
        "\n",
        "tokenizer = Tokenizer(num_words=10000, oov_token='<OOV>')\n",
        "tokenizer.fit_on_texts(df_train['clean_text'])"
      ]
    },
    {
      "cell_type": "code",
      "execution_count": null,
      "metadata": {
        "id": "X_365ZR5E7Wp"
      },
      "outputs": [],
      "source": [
        "train_sequences = tokenizer.texts_to_sequences(df_train['clean_text'])\n",
        "val_sequences = tokenizer.texts_to_sequences(df_val['clean_text'])\n",
        "test_sequences = tokenizer.texts_to_sequences(df_test['clean_text'])"
      ]
    },
    {
      "cell_type": "code",
      "execution_count": null,
      "metadata": {
        "id": "D78NUdy-FXrp"
      },
      "outputs": [],
      "source": [
        "max_length = 100\n",
        "train_padded = pad_sequences(train_sequences, maxlen=max_length, padding='post', truncating='post')\n",
        "val_padded = pad_sequences(val_sequences, maxlen=max_length, padding='post', truncating='post')\n",
        "test_padded = pad_sequences(test_sequences, maxlen=max_length, padding='post', truncating='post')"
      ]
    },
    {
      "cell_type": "code",
      "execution_count": null,
      "metadata": {
        "colab": {
          "base_uri": "https://localhost:8080/"
        },
        "id": "aNXsUEcvFg65",
        "outputId": "64a0783d-29b9-4616-c1f5-198e65b50725"
      },
      "outputs": [
        {
          "name": "stdout",
          "output_type": "stream",
          "text": [
            "Padded Train Data Representation: [6120    1    0    0    0    0    0    0    0    0    0    0    0    0\n",
            "    0    0    0    0    0    0    0    0    0    0    0    0    0    0\n",
            "    0    0    0    0    0    0    0    0    0    0    0    0    0    0\n",
            "    0    0    0    0    0    0    0    0    0    0    0    0    0    0\n",
            "    0    0    0    0    0    0    0    0    0    0    0    0    0    0\n",
            "    0    0    0    0    0    0    0    0    0    0    0    0    0    0\n",
            "    0    0    0    0    0    0    0    0    0    0    0    0    0    0\n",
            "    0    0]\n",
            "Padded Validation Data Representation: [  7   9 105   7  18 331 386   7   3   0   0   0   0   0   0   0   0   0\n",
            "   0   0   0   0   0   0   0   0   0   0   0   0   0   0   0   0   0   0\n",
            "   0   0   0   0   0   0   0   0   0   0   0   0   0   0   0   0   0   0\n",
            "   0   0   0   0   0   0   0   0   0   0   0   0   0   0   0   0   0   0\n",
            "   0   0   0   0   0   0   0   0   0   0   0   0   0   0   0   0   0   0\n",
            "   0   0   0   0   0   0   0   0   0   0]\n",
            "padded Test Data Representation: [5802    8    2    0    0    0    0    0    0    0    0    0    0    0\n",
            "    0    0    0    0    0    0    0    0    0    0    0    0    0    0\n",
            "    0    0    0    0    0    0    0    0    0    0    0    0    0    0\n",
            "    0    0    0    0    0    0    0    0    0    0    0    0    0    0\n",
            "    0    0    0    0    0    0    0    0    0    0    0    0    0    0\n",
            "    0    0    0    0    0    0    0    0    0    0    0    0    0    0\n",
            "    0    0    0    0    0    0    0    0    0    0    0    0    0    0\n",
            "    0    0]\n"
          ]
        }
      ],
      "source": [
        "print(f'Padded Train Data Representation: {train_padded[0]}')\n",
        "print(f'Padded Validation Data Representation: {val_padded[0]}')\n",
        "print(f'padded Test Data Representation: {test_padded[0]}')\n"
      ]
    },
    {
      "cell_type": "markdown",
      "metadata": {
        "id": "Cf9gX1QEKFK2"
      },
      "source": [
        "## Label Preparation\n",
        "\n",
        "This section prepares the labels for the training, validation, and test datasets. Labels are extracted from the respective DataFrames and converted into NumPy arrays for compatibility."
      ]
    },
    {
      "cell_type": "code",
      "execution_count": null,
      "metadata": {
        "id": "fZ7iFWAKFfCg"
      },
      "outputs": [],
      "source": [
        "# Prepare labels\n",
        "train_labels = df_train['label'].values\n",
        "val_labels = df_val['label'].values\n",
        "test_labels = df_test['label'].values"
      ]
    },
    {
      "cell_type": "markdown",
      "metadata": {
        "id": "E2qp9cghGJi7"
      },
      "source": [
        "# Baseline Models"
      ]
    },
    {
      "cell_type": "markdown",
      "metadata": {
        "id": "MWIw9Ug0KMx8"
      },
      "source": [
        "## RNN Model Initialization\n",
        "\n",
        "##### Layers used:\n",
        "- **Embedding Layer:** onverts integer-encoded text sequences into dense vectors of fixed size\n",
        "- **Simple RNN Layer:** A basic RNN layer with 64 units.\n",
        "- **Dense Layer:** A fully connected layer with 64 units and ReLU activation.\n",
        "- **Drouput layer:** A regularization layer with a dropout rate of 0.5.\n",
        "- **Output Layer:** A dense layer with `num_classes` units and sigmoid activation. Produces a probability score for binary classification."
      ]
    },
    {
      "cell_type": "code",
      "execution_count": null,
      "metadata": {
        "id": "Ty0TuvIDF-pZ"
      },
      "outputs": [],
      "source": [
        "import tensorflow as tf\n",
        "from tensorflow.keras.models import Sequential\n",
        "from tensorflow.keras.layers import Embedding, LSTM, GRU, SimpleRNN, Dense, Dropout\n",
        "from sklearn.metrics import classification_report, confusion_matrix\n",
        "\n",
        "vocab_size = 10000  \n",
        "embedding_dim = 128\n",
        "num_classes = 1  # Binary classification (hate vs. nothate)\n",
        "\n",
        "def build_rnn_model():\n",
        "    model = Sequential([\n",
        "        Embedding(vocab_size, embedding_dim, input_length=max_length),\n",
        "        SimpleRNN(64, return_sequences=False),\n",
        "        Dense(64, activation='relu'),\n",
        "        Dropout(0.5),\n",
        "        Dense(num_classes, activation='sigmoid')\n",
        "    ])\n",
        "    model.compile(loss='binary_crossentropy', optimizer='adam', metrics=['accuracy'])\n",
        "    return model"
      ]
    },
    {
      "cell_type": "markdown",
      "metadata": {
        "id": "6xIwl44iMxlu"
      },
      "source": [
        "## LSTM Model Initialization\n",
        "\n",
        "- **Embedding Layer:**  Converts integer-encoded text sequences into dense vectors of fixed size (`embedding_dim`)\n",
        "- **LSTM Layer:** An LSTM layer with 64 units.\n",
        "- **Dense Layer:** A fully connected layer with 64 units and ReLU activation.\n",
        "- **Drouput layer:** A regularization layer with a dropout rate of 0.5.\n",
        "- **Output Layer:** A dense layer with `num_classes` units and sigmoid activation. Produces a probability score for binary classification."
      ]
    },
    {
      "cell_type": "code",
      "execution_count": null,
      "metadata": {
        "id": "Mwt8UuueGVZf"
      },
      "outputs": [],
      "source": [
        "def build_lstm_model():\n",
        "    model = Sequential([\n",
        "        Embedding(vocab_size, embedding_dim, input_length=max_length),\n",
        "        LSTM(64, return_sequences=False),\n",
        "        Dense(64, activation='relu'),\n",
        "        Dropout(0.5),\n",
        "        Dense(num_classes, activation='sigmoid')\n",
        "    ])\n",
        "    model.compile(loss='binary_crossentropy', optimizer='adam', metrics=['accuracy'])\n",
        "    return model"
      ]
    },
    {
      "cell_type": "markdown",
      "metadata": {
        "id": "BGL2PS7nNjCi"
      },
      "source": [
        "## Train and Evaluate Models\n",
        "\n",
        "- Predictions are thresholded at 0.5 to convert probabilities into binary labels."
      ]
    },
    {
      "cell_type": "code",
      "execution_count": null,
      "metadata": {
        "id": "8KhS7Y8QGYkz"
      },
      "outputs": [],
      "source": [
        "def train_and_evaluate(model, train_data, val_data, test_data, train_labels, val_labels, test_labels):\n",
        "    history = model.fit(train_data, train_labels, epochs=10, batch_size=64,\n",
        "                        validation_data=(val_data, val_labels), verbose=1)\n",
        "    test_preds = (model.predict(test_data) > 0.5).astype(int)\n",
        "    print(classification_report(test_labels, test_preds))\n",
        "    print(confusion_matrix(test_labels, test_preds))\n",
        "    return history"
      ]
    },
    {
      "cell_type": "code",
      "execution_count": null,
      "metadata": {
        "colab": {
          "base_uri": "https://localhost:8080/"
        },
        "id": "dVV1tZspGacc",
        "outputId": "b8b0fc39-b307-4c54-e145-48844dec4403"
      },
      "outputs": [
        {
          "name": "stdout",
          "output_type": "stream",
          "text": [
            "Train padded shape: (46850, 100)\n",
            "Validation padded shape: (5664, 100)\n",
            "Test padded shape: (7970, 100)\n"
          ]
        }
      ],
      "source": [
        "print(\"Train padded shape:\", train_padded.shape)\n",
        "print(\"Validation padded shape:\", val_padded.shape)\n",
        "print(\"Test padded shape:\", test_padded.shape)"
      ]
    },
    {
      "cell_type": "markdown",
      "metadata": {
        "id": "qRvZT4VNI2L0"
      },
      "source": [
        "### Converting labels into binary (0 or 1)"
      ]
    },
    {
      "cell_type": "code",
      "execution_count": null,
      "metadata": {
        "colab": {
          "base_uri": "https://localhost:8080/"
        },
        "id": "PSdcZykcGcLN",
        "outputId": "7067b3ac-26f6-40d0-9ea3-59b60ecd4574"
      },
      "outputs": [
        {
          "name": "stdout",
          "output_type": "stream",
          "text": [
            "Unique train labels: [0 1]\n",
            "Unique validation labels: [0 1]\n",
            "Unique test labels: [0 1]\n"
          ]
        }
      ],
      "source": [
        "import numpy as np\n",
        "\n",
        "train_labels = np.where(train_labels == 'hate', 1, 0)\n",
        "val_labels = np.where(val_labels == 'hate', 1, 0)\n",
        "test_labels = np.where(test_labels == 'hate', 1, 0)\n",
        "\n",
        "print(\"Unique train labels:\", np.unique(train_labels))\n",
        "print(\"Unique validation labels:\", np.unique(val_labels))\n",
        "print(\"Unique test labels:\", np.unique(test_labels))"
      ]
    },
    {
      "cell_type": "code",
      "execution_count": null,
      "metadata": {
        "colab": {
          "base_uri": "https://localhost:8080/"
        },
        "id": "Z6AUjHY-G22l",
        "outputId": "4be729e7-7279-4ee8-f817-5bfa3eb041fe"
      },
      "outputs": [
        {
          "name": "stdout",
          "output_type": "stream",
          "text": [
            "Train labels shape: (46850,)\n",
            "Validation labels shape: (5664,)\n",
            "Test labels shape: (7970,)\n"
          ]
        }
      ],
      "source": [
        "print(\"Train labels shape:\", train_labels.shape)\n",
        "print(\"Validation labels shape:\", val_labels.shape)\n",
        "print(\"Test labels shape:\", test_labels.shape)"
      ]
    },
    {
      "cell_type": "markdown",
      "metadata": {
        "id": "sYL4cnqJIwYr"
      },
      "source": [
        "### Training RNN"
      ]
    },
    {
      "cell_type": "code",
      "execution_count": null,
      "metadata": {
        "id": "V9dK58WNHaIq"
      },
      "outputs": [],
      "source": [
        "rnn_model = build_rnn_model()\n",
        "print(\"Training RNN Model...\")\n",
        "rnn_history = train_and_evaluate(rnn_model, train_padded, val_padded, test_padded, train_labels, val_labels, test_labels)"
      ]
    },
    {
      "cell_type": "markdown",
      "metadata": {
        "id": "7bTVI1pXN9Zi"
      },
      "source": [
        "**RNN Results:**\n",
        "\n",
        "**Class 0 (Negative Class):** The model did not correctly predict any instances of class 0. This means there were no true positives (TP) for class 0. **Precision: 0.00**, **Recall: 0.00**, **F1-Score: 0.00**\n",
        "\n",
        "**Class 1 (Positive Class):**\n",
        "\n",
        "**Precision: 0.58**  - Out of all instances predicted as class 1, 58% were correct\n",
        "\n",
        "**Recall: 1.00** - The model correctly identified all instances of class 1.\n",
        "\n",
        "**F1-Score: 0.73**  - The F1-score is relatively high, indicating a good balance between precision and recall for class 1."
      ]
    },
    {
      "cell_type": "markdown",
      "metadata": {
        "id": "znad-DiTJS6B"
      },
      "source": [
        "## Training LSTM"
      ]
    },
    {
      "cell_type": "code",
      "execution_count": null,
      "metadata": {
        "id": "CLzXJ7yYJNwq"
      },
      "outputs": [],
      "source": [
        "lstm_model = build_lstm_model()\n",
        "print(\"Training LSTM Model...\")\n",
        "lstm_history = train_and_evaluate(lstm_model, train_padded, val_padded, test_padded, train_labels, val_labels, test_labels)"
      ]
    },
    {
      "cell_type": "markdown",
      "metadata": {
        "id": "q-QQhscwRfFE"
      },
      "source": [
        "**LSTM Results:**\n",
        "\n",
        "**Class 0 (Negative Class):** Precision: 1.00 (The model achieved perfect precision for class 0, meaning all instances predicted as class 0 were correct.), Recall: 0.00, F1-Score: 0.00\n",
        "\n",
        "**Class 1 (Positive Class):** Precision: 0.58, Recall: 1.00 (This means there were no false negatives (FN) for class 1.), F1-Score: 0.73"
      ]
    },
    {
      "cell_type": "markdown",
      "metadata": {
        "id": "Lk9uUAeTKRgI"
      },
      "source": [
        "## Enhancing Text Classification with Bi-Directional LSTM and Attention Mechanism\n",
        "\n",
        "While a standard LSTM model provides decent results, we aim to improve performance by constructing a more advanced **Bi-Directional LSTM** architecture. This model will incorporate the following key enhancements:  \n",
        "\n",
        "1. **Stacked LSTM Layers** – Multiple LSTM layers to capture deeper sequential patterns.  \n",
        "2. **Dropout Regularization** – Helps mitigate overfitting by randomly deactivating neurons during training.  \n",
        "3. **Batch Normalization** – Speeds up training and stabilizes learning by normalizing activations.  \n",
        "4. **Dense Layers with Regularization** – Enhances feature extraction while preventing overfitting using techniques like L2 regularization.  \n",
        "5. **Attention Mechanism** – Enables the model to focus on the most relevant parts of the text, improving interpretability and performance."
      ]
    },
    {
      "cell_type": "code",
      "execution_count": null,
      "metadata": {
        "id": "Ugq1mhJXJ1hx"
      },
      "outputs": [],
      "source": [
        "from tensorflow.keras.models import Model\n",
        "from tensorflow.keras.layers import Input, Embedding, Bidirectional, LSTM, Dense, Dropout, BatchNormalization, Attention, Concatenate, GlobalAveragePooling1D\n",
        "from tensorflow.keras.regularizers import l2\n",
        "\n",
        "def build_complex_lstm_model():\n",
        "    inputs = Input(shape=(max_length,))\n",
        "\n",
        "    embedding = Embedding(input_dim=vocab_size, output_dim=embedding_dim)(inputs)\n",
        "\n",
        "    lstm1 = Bidirectional(LSTM(64, return_sequences=True))(embedding)\n",
        "    lstm1 = Dropout(0.4)(lstm1)\n",
        "    lstm1 = BatchNormalization()(lstm1)\n",
        "\n",
        "    lstm2 = Bidirectional(LSTM(32, return_sequences=True))(lstm1)\n",
        "    lstm2 = Dropout(0.4)(lstm2)\n",
        "    lstm2 = BatchNormalization()(lstm2)\n",
        "\n",
        "    attention = Attention()([lstm2, lstm2]) \n",
        "    concatenated = Concatenate()([lstm2, attention])  \n",
        "\n",
        "    pooled = GlobalAveragePooling1D()(concatenated)\n",
        "\n",
        "    dense = Dense(64, activation='relu', kernel_regularizer=l2(0.01))(pooled)\n",
        "    dense = Dropout(0.4)(dense)\n",
        "    dense = BatchNormalization()(dense)\n",
        "\n",
        "    outputs = Dense(1, activation='sigmoid')(dense)\n",
        "    model = Model(inputs, outputs)\n",
        "    model.compile(loss='binary_crossentropy', optimizer='adam', metrics=['accuracy'])\n",
        "\n",
        "    return model"
      ]
    },
    {
      "cell_type": "code",
      "execution_count": null,
      "metadata": {
        "colab": {
          "base_uri": "https://localhost:8080/",
          "height": 753
        },
        "id": "1H-sOesELGpo",
        "outputId": "3a460730-c32f-4adc-f405-99ed93bbdbda"
      },
      "outputs": [
        {
          "data": {
            "text/html": [
              "<pre style=\"white-space:pre;overflow-x:auto;line-height:normal;font-family:Menlo,'DejaVu Sans Mono',consolas,'Courier New',monospace\"><span style=\"font-weight: bold\">Model: \"functional_1\"</span>\n",
              "</pre>\n"
            ],
            "text/plain": [
              "\u001b[1mModel: \"functional_1\"\u001b[0m\n"
            ]
          },
          "metadata": {},
          "output_type": "display_data"
        },
        {
          "data": {
            "text/html": [
              "<pre style=\"white-space:pre;overflow-x:auto;line-height:normal;font-family:Menlo,'DejaVu Sans Mono',consolas,'Courier New',monospace\">┏━━━━━━━━━━━━━━━━━━━━━━━━━━━┳━━━━━━━━━━━━━━━━━━━━━━━━┳━━━━━━━━━━━━━━━━┳━━━━━━━━━━━━━━━━━━━━━━━━┓\n",
              "┃<span style=\"font-weight: bold\"> Layer (type)              </span>┃<span style=\"font-weight: bold\"> Output Shape           </span>┃<span style=\"font-weight: bold\">        Param # </span>┃<span style=\"font-weight: bold\"> Connected to           </span>┃\n",
              "┡━━━━━━━━━━━━━━━━━━━━━━━━━━━╇━━━━━━━━━━━━━━━━━━━━━━━━╇━━━━━━━━━━━━━━━━╇━━━━━━━━━━━━━━━━━━━━━━━━┩\n",
              "│ input_layer_1             │ (<span style=\"color: #00d7ff; text-decoration-color: #00d7ff\">None</span>, <span style=\"color: #00af00; text-decoration-color: #00af00\">100</span>)            │              <span style=\"color: #00af00; text-decoration-color: #00af00\">0</span> │ -                      │\n",
              "│ (<span style=\"color: #0087ff; text-decoration-color: #0087ff\">InputLayer</span>)              │                        │                │                        │\n",
              "├───────────────────────────┼────────────────────────┼────────────────┼────────────────────────┤\n",
              "│ embedding_1 (<span style=\"color: #0087ff; text-decoration-color: #0087ff\">Embedding</span>)   │ (<span style=\"color: #00d7ff; text-decoration-color: #00d7ff\">None</span>, <span style=\"color: #00af00; text-decoration-color: #00af00\">100</span>, <span style=\"color: #00af00; text-decoration-color: #00af00\">128</span>)       │      <span style=\"color: #00af00; text-decoration-color: #00af00\">1,280,000</span> │ input_layer_1[<span style=\"color: #00af00; text-decoration-color: #00af00\">0</span>][<span style=\"color: #00af00; text-decoration-color: #00af00\">0</span>]    │\n",
              "├───────────────────────────┼────────────────────────┼────────────────┼────────────────────────┤\n",
              "│ bidirectional_2           │ (<span style=\"color: #00d7ff; text-decoration-color: #00d7ff\">None</span>, <span style=\"color: #00af00; text-decoration-color: #00af00\">100</span>, <span style=\"color: #00af00; text-decoration-color: #00af00\">128</span>)       │         <span style=\"color: #00af00; text-decoration-color: #00af00\">98,816</span> │ embedding_1[<span style=\"color: #00af00; text-decoration-color: #00af00\">0</span>][<span style=\"color: #00af00; text-decoration-color: #00af00\">0</span>]      │\n",
              "│ (<span style=\"color: #0087ff; text-decoration-color: #0087ff\">Bidirectional</span>)           │                        │                │                        │\n",
              "├───────────────────────────┼────────────────────────┼────────────────┼────────────────────────┤\n",
              "│ dropout_3 (<span style=\"color: #0087ff; text-decoration-color: #0087ff\">Dropout</span>)       │ (<span style=\"color: #00d7ff; text-decoration-color: #00d7ff\">None</span>, <span style=\"color: #00af00; text-decoration-color: #00af00\">100</span>, <span style=\"color: #00af00; text-decoration-color: #00af00\">128</span>)       │              <span style=\"color: #00af00; text-decoration-color: #00af00\">0</span> │ bidirectional_2[<span style=\"color: #00af00; text-decoration-color: #00af00\">0</span>][<span style=\"color: #00af00; text-decoration-color: #00af00\">0</span>]  │\n",
              "├───────────────────────────┼────────────────────────┼────────────────┼────────────────────────┤\n",
              "│ batch_normalization_3     │ (<span style=\"color: #00d7ff; text-decoration-color: #00d7ff\">None</span>, <span style=\"color: #00af00; text-decoration-color: #00af00\">100</span>, <span style=\"color: #00af00; text-decoration-color: #00af00\">128</span>)       │            <span style=\"color: #00af00; text-decoration-color: #00af00\">512</span> │ dropout_3[<span style=\"color: #00af00; text-decoration-color: #00af00\">0</span>][<span style=\"color: #00af00; text-decoration-color: #00af00\">0</span>]        │\n",
              "│ (<span style=\"color: #0087ff; text-decoration-color: #0087ff\">BatchNormalization</span>)      │                        │                │                        │\n",
              "├───────────────────────────┼────────────────────────┼────────────────┼────────────────────────┤\n",
              "│ bidirectional_3           │ (<span style=\"color: #00d7ff; text-decoration-color: #00d7ff\">None</span>, <span style=\"color: #00af00; text-decoration-color: #00af00\">100</span>, <span style=\"color: #00af00; text-decoration-color: #00af00\">64</span>)        │         <span style=\"color: #00af00; text-decoration-color: #00af00\">41,216</span> │ batch_normalization_3… │\n",
              "│ (<span style=\"color: #0087ff; text-decoration-color: #0087ff\">Bidirectional</span>)           │                        │                │                        │\n",
              "├───────────────────────────┼────────────────────────┼────────────────┼────────────────────────┤\n",
              "│ dropout_4 (<span style=\"color: #0087ff; text-decoration-color: #0087ff\">Dropout</span>)       │ (<span style=\"color: #00d7ff; text-decoration-color: #00d7ff\">None</span>, <span style=\"color: #00af00; text-decoration-color: #00af00\">100</span>, <span style=\"color: #00af00; text-decoration-color: #00af00\">64</span>)        │              <span style=\"color: #00af00; text-decoration-color: #00af00\">0</span> │ bidirectional_3[<span style=\"color: #00af00; text-decoration-color: #00af00\">0</span>][<span style=\"color: #00af00; text-decoration-color: #00af00\">0</span>]  │\n",
              "├───────────────────────────┼────────────────────────┼────────────────┼────────────────────────┤\n",
              "│ batch_normalization_4     │ (<span style=\"color: #00d7ff; text-decoration-color: #00d7ff\">None</span>, <span style=\"color: #00af00; text-decoration-color: #00af00\">100</span>, <span style=\"color: #00af00; text-decoration-color: #00af00\">64</span>)        │            <span style=\"color: #00af00; text-decoration-color: #00af00\">256</span> │ dropout_4[<span style=\"color: #00af00; text-decoration-color: #00af00\">0</span>][<span style=\"color: #00af00; text-decoration-color: #00af00\">0</span>]        │\n",
              "│ (<span style=\"color: #0087ff; text-decoration-color: #0087ff\">BatchNormalization</span>)      │                        │                │                        │\n",
              "├───────────────────────────┼────────────────────────┼────────────────┼────────────────────────┤\n",
              "│ attention_1 (<span style=\"color: #0087ff; text-decoration-color: #0087ff\">Attention</span>)   │ (<span style=\"color: #00d7ff; text-decoration-color: #00d7ff\">None</span>, <span style=\"color: #00af00; text-decoration-color: #00af00\">100</span>, <span style=\"color: #00af00; text-decoration-color: #00af00\">64</span>)        │              <span style=\"color: #00af00; text-decoration-color: #00af00\">0</span> │ batch_normalization_4… │\n",
              "│                           │                        │                │ batch_normalization_4… │\n",
              "├───────────────────────────┼────────────────────────┼────────────────┼────────────────────────┤\n",
              "│ concatenate_1             │ (<span style=\"color: #00d7ff; text-decoration-color: #00d7ff\">None</span>, <span style=\"color: #00af00; text-decoration-color: #00af00\">100</span>, <span style=\"color: #00af00; text-decoration-color: #00af00\">128</span>)       │              <span style=\"color: #00af00; text-decoration-color: #00af00\">0</span> │ batch_normalization_4… │\n",
              "│ (<span style=\"color: #0087ff; text-decoration-color: #0087ff\">Concatenate</span>)             │                        │                │ attention_1[<span style=\"color: #00af00; text-decoration-color: #00af00\">0</span>][<span style=\"color: #00af00; text-decoration-color: #00af00\">0</span>]      │\n",
              "├───────────────────────────┼────────────────────────┼────────────────┼────────────────────────┤\n",
              "│ global_average_pooling1d… │ (<span style=\"color: #00d7ff; text-decoration-color: #00d7ff\">None</span>, <span style=\"color: #00af00; text-decoration-color: #00af00\">128</span>)            │              <span style=\"color: #00af00; text-decoration-color: #00af00\">0</span> │ concatenate_1[<span style=\"color: #00af00; text-decoration-color: #00af00\">0</span>][<span style=\"color: #00af00; text-decoration-color: #00af00\">0</span>]    │\n",
              "│ (<span style=\"color: #0087ff; text-decoration-color: #0087ff\">GlobalAveragePooling1D</span>)  │                        │                │                        │\n",
              "├───────────────────────────┼────────────────────────┼────────────────┼────────────────────────┤\n",
              "│ dense_2 (<span style=\"color: #0087ff; text-decoration-color: #0087ff\">Dense</span>)           │ (<span style=\"color: #00d7ff; text-decoration-color: #00d7ff\">None</span>, <span style=\"color: #00af00; text-decoration-color: #00af00\">64</span>)             │          <span style=\"color: #00af00; text-decoration-color: #00af00\">8,256</span> │ global_average_poolin… │\n",
              "├───────────────────────────┼────────────────────────┼────────────────┼────────────────────────┤\n",
              "│ dropout_5 (<span style=\"color: #0087ff; text-decoration-color: #0087ff\">Dropout</span>)       │ (<span style=\"color: #00d7ff; text-decoration-color: #00d7ff\">None</span>, <span style=\"color: #00af00; text-decoration-color: #00af00\">64</span>)             │              <span style=\"color: #00af00; text-decoration-color: #00af00\">0</span> │ dense_2[<span style=\"color: #00af00; text-decoration-color: #00af00\">0</span>][<span style=\"color: #00af00; text-decoration-color: #00af00\">0</span>]          │\n",
              "├───────────────────────────┼────────────────────────┼────────────────┼────────────────────────┤\n",
              "│ batch_normalization_5     │ (<span style=\"color: #00d7ff; text-decoration-color: #00d7ff\">None</span>, <span style=\"color: #00af00; text-decoration-color: #00af00\">64</span>)             │            <span style=\"color: #00af00; text-decoration-color: #00af00\">256</span> │ dropout_5[<span style=\"color: #00af00; text-decoration-color: #00af00\">0</span>][<span style=\"color: #00af00; text-decoration-color: #00af00\">0</span>]        │\n",
              "│ (<span style=\"color: #0087ff; text-decoration-color: #0087ff\">BatchNormalization</span>)      │                        │                │                        │\n",
              "├───────────────────────────┼────────────────────────┼────────────────┼────────────────────────┤\n",
              "│ dense_3 (<span style=\"color: #0087ff; text-decoration-color: #0087ff\">Dense</span>)           │ (<span style=\"color: #00d7ff; text-decoration-color: #00d7ff\">None</span>, <span style=\"color: #00af00; text-decoration-color: #00af00\">1</span>)              │             <span style=\"color: #00af00; text-decoration-color: #00af00\">65</span> │ batch_normalization_5… │\n",
              "└───────────────────────────┴────────────────────────┴────────────────┴────────────────────────┘\n",
              "</pre>\n"
            ],
            "text/plain": [
              "┏━━━━━━━━━━━━━━━━━━━━━━━━━━━┳━━━━━━━━━━━━━━━━━━━━━━━━┳━━━━━━━━━━━━━━━━┳━━━━━━━━━━━━━━━━━━━━━━━━┓\n",
              "┃\u001b[1m \u001b[0m\u001b[1mLayer (type)             \u001b[0m\u001b[1m \u001b[0m┃\u001b[1m \u001b[0m\u001b[1mOutput Shape          \u001b[0m\u001b[1m \u001b[0m┃\u001b[1m \u001b[0m\u001b[1m       Param #\u001b[0m\u001b[1m \u001b[0m┃\u001b[1m \u001b[0m\u001b[1mConnected to          \u001b[0m\u001b[1m \u001b[0m┃\n",
              "┡━━━━━━━━━━━━━━━━━━━━━━━━━━━╇━━━━━━━━━━━━━━━━━━━━━━━━╇━━━━━━━━━━━━━━━━╇━━━━━━━━━━━━━━━━━━━━━━━━┩\n",
              "│ input_layer_1             │ (\u001b[38;5;45mNone\u001b[0m, \u001b[38;5;34m100\u001b[0m)            │              \u001b[38;5;34m0\u001b[0m │ -                      │\n",
              "│ (\u001b[38;5;33mInputLayer\u001b[0m)              │                        │                │                        │\n",
              "├───────────────────────────┼────────────────────────┼────────────────┼────────────────────────┤\n",
              "│ embedding_1 (\u001b[38;5;33mEmbedding\u001b[0m)   │ (\u001b[38;5;45mNone\u001b[0m, \u001b[38;5;34m100\u001b[0m, \u001b[38;5;34m128\u001b[0m)       │      \u001b[38;5;34m1,280,000\u001b[0m │ input_layer_1[\u001b[38;5;34m0\u001b[0m][\u001b[38;5;34m0\u001b[0m]    │\n",
              "├───────────────────────────┼────────────────────────┼────────────────┼────────────────────────┤\n",
              "│ bidirectional_2           │ (\u001b[38;5;45mNone\u001b[0m, \u001b[38;5;34m100\u001b[0m, \u001b[38;5;34m128\u001b[0m)       │         \u001b[38;5;34m98,816\u001b[0m │ embedding_1[\u001b[38;5;34m0\u001b[0m][\u001b[38;5;34m0\u001b[0m]      │\n",
              "│ (\u001b[38;5;33mBidirectional\u001b[0m)           │                        │                │                        │\n",
              "├───────────────────────────┼────────────────────────┼────────────────┼────────────────────────┤\n",
              "│ dropout_3 (\u001b[38;5;33mDropout\u001b[0m)       │ (\u001b[38;5;45mNone\u001b[0m, \u001b[38;5;34m100\u001b[0m, \u001b[38;5;34m128\u001b[0m)       │              \u001b[38;5;34m0\u001b[0m │ bidirectional_2[\u001b[38;5;34m0\u001b[0m][\u001b[38;5;34m0\u001b[0m]  │\n",
              "├───────────────────────────┼────────────────────────┼────────────────┼────────────────────────┤\n",
              "│ batch_normalization_3     │ (\u001b[38;5;45mNone\u001b[0m, \u001b[38;5;34m100\u001b[0m, \u001b[38;5;34m128\u001b[0m)       │            \u001b[38;5;34m512\u001b[0m │ dropout_3[\u001b[38;5;34m0\u001b[0m][\u001b[38;5;34m0\u001b[0m]        │\n",
              "│ (\u001b[38;5;33mBatchNormalization\u001b[0m)      │                        │                │                        │\n",
              "├───────────────────────────┼────────────────────────┼────────────────┼────────────────────────┤\n",
              "│ bidirectional_3           │ (\u001b[38;5;45mNone\u001b[0m, \u001b[38;5;34m100\u001b[0m, \u001b[38;5;34m64\u001b[0m)        │         \u001b[38;5;34m41,216\u001b[0m │ batch_normalization_3… │\n",
              "│ (\u001b[38;5;33mBidirectional\u001b[0m)           │                        │                │                        │\n",
              "├───────────────────────────┼────────────────────────┼────────────────┼────────────────────────┤\n",
              "│ dropout_4 (\u001b[38;5;33mDropout\u001b[0m)       │ (\u001b[38;5;45mNone\u001b[0m, \u001b[38;5;34m100\u001b[0m, \u001b[38;5;34m64\u001b[0m)        │              \u001b[38;5;34m0\u001b[0m │ bidirectional_3[\u001b[38;5;34m0\u001b[0m][\u001b[38;5;34m0\u001b[0m]  │\n",
              "├───────────────────────────┼────────────────────────┼────────────────┼────────────────────────┤\n",
              "│ batch_normalization_4     │ (\u001b[38;5;45mNone\u001b[0m, \u001b[38;5;34m100\u001b[0m, \u001b[38;5;34m64\u001b[0m)        │            \u001b[38;5;34m256\u001b[0m │ dropout_4[\u001b[38;5;34m0\u001b[0m][\u001b[38;5;34m0\u001b[0m]        │\n",
              "│ (\u001b[38;5;33mBatchNormalization\u001b[0m)      │                        │                │                        │\n",
              "├───────────────────────────┼────────────────────────┼────────────────┼────────────────────────┤\n",
              "│ attention_1 (\u001b[38;5;33mAttention\u001b[0m)   │ (\u001b[38;5;45mNone\u001b[0m, \u001b[38;5;34m100\u001b[0m, \u001b[38;5;34m64\u001b[0m)        │              \u001b[38;5;34m0\u001b[0m │ batch_normalization_4… │\n",
              "│                           │                        │                │ batch_normalization_4… │\n",
              "├───────────────────────────┼────────────────────────┼────────────────┼────────────────────────┤\n",
              "│ concatenate_1             │ (\u001b[38;5;45mNone\u001b[0m, \u001b[38;5;34m100\u001b[0m, \u001b[38;5;34m128\u001b[0m)       │              \u001b[38;5;34m0\u001b[0m │ batch_normalization_4… │\n",
              "│ (\u001b[38;5;33mConcatenate\u001b[0m)             │                        │                │ attention_1[\u001b[38;5;34m0\u001b[0m][\u001b[38;5;34m0\u001b[0m]      │\n",
              "├───────────────────────────┼────────────────────────┼────────────────┼────────────────────────┤\n",
              "│ global_average_pooling1d… │ (\u001b[38;5;45mNone\u001b[0m, \u001b[38;5;34m128\u001b[0m)            │              \u001b[38;5;34m0\u001b[0m │ concatenate_1[\u001b[38;5;34m0\u001b[0m][\u001b[38;5;34m0\u001b[0m]    │\n",
              "│ (\u001b[38;5;33mGlobalAveragePooling1D\u001b[0m)  │                        │                │                        │\n",
              "├───────────────────────────┼────────────────────────┼────────────────┼────────────────────────┤\n",
              "│ dense_2 (\u001b[38;5;33mDense\u001b[0m)           │ (\u001b[38;5;45mNone\u001b[0m, \u001b[38;5;34m64\u001b[0m)             │          \u001b[38;5;34m8,256\u001b[0m │ global_average_poolin… │\n",
              "├───────────────────────────┼────────────────────────┼────────────────┼────────────────────────┤\n",
              "│ dropout_5 (\u001b[38;5;33mDropout\u001b[0m)       │ (\u001b[38;5;45mNone\u001b[0m, \u001b[38;5;34m64\u001b[0m)             │              \u001b[38;5;34m0\u001b[0m │ dense_2[\u001b[38;5;34m0\u001b[0m][\u001b[38;5;34m0\u001b[0m]          │\n",
              "├───────────────────────────┼────────────────────────┼────────────────┼────────────────────────┤\n",
              "│ batch_normalization_5     │ (\u001b[38;5;45mNone\u001b[0m, \u001b[38;5;34m64\u001b[0m)             │            \u001b[38;5;34m256\u001b[0m │ dropout_5[\u001b[38;5;34m0\u001b[0m][\u001b[38;5;34m0\u001b[0m]        │\n",
              "│ (\u001b[38;5;33mBatchNormalization\u001b[0m)      │                        │                │                        │\n",
              "├───────────────────────────┼────────────────────────┼────────────────┼────────────────────────┤\n",
              "│ dense_3 (\u001b[38;5;33mDense\u001b[0m)           │ (\u001b[38;5;45mNone\u001b[0m, \u001b[38;5;34m1\u001b[0m)              │             \u001b[38;5;34m65\u001b[0m │ batch_normalization_5… │\n",
              "└───────────────────────────┴────────────────────────┴────────────────┴────────────────────────┘\n"
            ]
          },
          "metadata": {},
          "output_type": "display_data"
        },
        {
          "data": {
            "text/html": [
              "<pre style=\"white-space:pre;overflow-x:auto;line-height:normal;font-family:Menlo,'DejaVu Sans Mono',consolas,'Courier New',monospace\"><span style=\"font-weight: bold\"> Total params: </span><span style=\"color: #00af00; text-decoration-color: #00af00\">1,429,377</span> (5.45 MB)\n",
              "</pre>\n"
            ],
            "text/plain": [
              "\u001b[1m Total params: \u001b[0m\u001b[38;5;34m1,429,377\u001b[0m (5.45 MB)\n"
            ]
          },
          "metadata": {},
          "output_type": "display_data"
        },
        {
          "data": {
            "text/html": [
              "<pre style=\"white-space:pre;overflow-x:auto;line-height:normal;font-family:Menlo,'DejaVu Sans Mono',consolas,'Courier New',monospace\"><span style=\"font-weight: bold\"> Trainable params: </span><span style=\"color: #00af00; text-decoration-color: #00af00\">1,428,865</span> (5.45 MB)\n",
              "</pre>\n"
            ],
            "text/plain": [
              "\u001b[1m Trainable params: \u001b[0m\u001b[38;5;34m1,428,865\u001b[0m (5.45 MB)\n"
            ]
          },
          "metadata": {},
          "output_type": "display_data"
        },
        {
          "data": {
            "text/html": [
              "<pre style=\"white-space:pre;overflow-x:auto;line-height:normal;font-family:Menlo,'DejaVu Sans Mono',consolas,'Courier New',monospace\"><span style=\"font-weight: bold\"> Non-trainable params: </span><span style=\"color: #00af00; text-decoration-color: #00af00\">512</span> (2.00 KB)\n",
              "</pre>\n"
            ],
            "text/plain": [
              "\u001b[1m Non-trainable params: \u001b[0m\u001b[38;5;34m512\u001b[0m (2.00 KB)\n"
            ]
          },
          "metadata": {},
          "output_type": "display_data"
        }
      ],
      "source": [
        "complex_lstm_model = build_complex_lstm_model()\n",
        "\n",
        "complex_lstm_model.summary()\n",
        "\n",
        "# Train the model\n",
        "# print(\"Training Complex LSTM Model...\")\n",
        "# complex_lstm_history = train_and_evaluate(complex_lstm_model, train_padded, val_padded, test_padded, train_labels, val_labels, test_labels)"
      ]
    },
    {
      "cell_type": "code",
      "execution_count": null,
      "metadata": {
        "colab": {
          "base_uri": "https://localhost:8080/"
        },
        "id": "TPW_yUihNsGj",
        "outputId": "00b39da8-d8b1-47fc-d20b-53a9c8088f51"
      },
      "outputs": [
        {
          "name": "stdout",
          "output_type": "stream",
          "text": [
            "Training Complex LSTM Model with 20 Epochs...\n",
            "Epoch 1/2\n",
            "\u001b[1m367/367\u001b[0m \u001b[32m━━━━━━━━━━━━━━━━━━━━\u001b[0m\u001b[37m\u001b[0m \u001b[1m351s\u001b[0m 928ms/step - accuracy: 0.5696 - loss: 1.2261 - val_accuracy: 0.4892 - val_loss: 0.8394\n",
            "Epoch 2/2\n",
            "\u001b[1m367/367\u001b[0m \u001b[32m━━━━━━━━━━━━━━━━━━━━\u001b[0m\u001b[37m\u001b[0m \u001b[1m324s\u001b[0m 770ms/step - accuracy: 0.7176 - loss: 0.5836 - val_accuracy: 0.6826 - val_loss: 0.5790\n",
            "\u001b[1m250/250\u001b[0m \u001b[32m━━━━━━━━━━━━━━━━━━━━\u001b[0m\u001b[37m\u001b[0m \u001b[1m17s\u001b[0m 65ms/step\n",
            "              precision    recall  f1-score   support\n",
            "\n",
            "           0       0.65      0.48      0.55      3378\n",
            "           1       0.68      0.82      0.74      4592\n",
            "\n",
            "    accuracy                           0.67      7970\n",
            "   macro avg       0.67      0.65      0.65      7970\n",
            "weighted avg       0.67      0.67      0.66      7970\n",
            "\n",
            "[[1607 1771]\n",
            " [ 848 3744]]\n"
          ]
        }
      ],
      "source": [
        "from tensorflow.keras.callbacks import EarlyStopping\n",
        "\n",
        "print(\"Training Complex LSTM Model with 20 Epochs...\")\n",
        "complex_lstm_history = complex_lstm_model.fit(\n",
        "    train_padded, train_labels,\n",
        "    epochs=10, \n",
        "    batch_size=128,\n",
        "    validation_data=(val_padded, val_labels),\n",
        "    verbose=1\n",
        ")\n",
        "\n",
        "test_preds = (complex_lstm_model.predict(test_padded) > 0.5).astype(int)\n",
        "print(classification_report(test_labels, test_preds))\n",
        "print(confusion_matrix(test_labels, test_preds))"
      ]
    },
    {
      "cell_type": "markdown",
      "metadata": {
        "id": "dOvs1vt8SMky"
      },
      "source": [
        "**Bi-Directional LSTM with Attention Mechanism Results:**\n",
        "\n",
        "**Class 0 (Negative Class):**\n",
        "\n",
        "- Precision: 0.59 - Out of all instances predicted as class 0, 59% were correct. This indicates some false positives (FP).\n",
        "\n",
        "- Recall: 0.47 - The model correctly identified 47% of the instances of class 0. This means 53% of class 0 instances were misclassified as class 1.\n",
        "\n",
        "- F1-Score: 0.53 - The F1-score is moderate, indicating a balance between precision and recall for class 0.\n",
        "\n",
        "\n",
        "**Class 1 (Positive Class):**\n",
        "\n",
        "- Precision: 0.66 - Out of all instances predicted as class 1, 66% were correct. This indicates some false positives (FP).\n",
        "\n",
        "- Recall: 0.76 - The model correctly identified 76% of the instances of class 1. This means 24% of class 1 instances were misclassified as class 0.\n",
        "\n",
        "- F1-Score: 0.71 - The F1-score is relatively high, indicating a good balance between precision and recall for class 1."
      ]
    },
    {
      "cell_type": "markdown",
      "metadata": {
        "id": "WHa5zsSBUsbM"
      },
      "source": [
        "### Training and Validation Performance"
      ]
    },
    {
      "cell_type": "code",
      "execution_count": null,
      "metadata": {
        "colab": {
          "base_uri": "https://localhost:8080/",
          "height": 468
        },
        "id": "0BRhtUqFLJD8",
        "outputId": "577d5ac5-8db0-4545-c5ec-bd254d0d012f"
      },
      "outputs": [
        {
          "data": {
            "image/png": "[encoded data removed]",
            "text/plain": [
              "<Figure size 1200x500 with 2 Axes>"
            ]
          },
          "metadata": {},
          "output_type": "display_data"
        }
      ],
      "source": [
        "import matplotlib.pyplot as plt\n",
        "\n",
        "def plot_history(history, title):\n",
        "    plt.figure(figsize=(12, 5))\n",
        "    plt.subplot(1, 2, 1)\n",
        "    plt.plot(history.history['loss'], label='Train Loss')\n",
        "    plt.plot(history.history['val_loss'], label='Validation Loss')\n",
        "    plt.title(f'{title} - Loss')\n",
        "    plt.legend()\n",
        "\n",
        "    plt.subplot(1, 2, 2)\n",
        "    plt.plot(history.history['accuracy'], label='Train Accuracy')\n",
        "    plt.plot(history.history['val_accuracy'], label='Validation Accuracy')\n",
        "    plt.title(f'{title} - Accuracy')\n",
        "    plt.legend()\n",
        "    plt.show()\n",
        "\n",
        "plot_history(complex_lstm_history, 'Bi-Directional LSTM')"
      ]
    },
    {
      "cell_type": "markdown",
      "metadata": {
        "id": "QhJ7TmhyUyN-"
      },
      "source": [
        "#### **Key Observations**\n",
        "\n",
        "The following plots show the training and validation loss and accuracy for the Bi-Directional LSTM model over 10 epochs:\n",
        "\n",
        "#### Loss Plot:\n",
        "- **Training Loss**: Decreases steadily from around 0.8 to 0.3, indicating that the model is learning effectively from the training data.\n",
        "- **Validation Loss**: Decreases initially but stabilizes around 0.6, suggesting that the model is generalizing well to unseen data without overfitting.\n",
        "\n",
        "#### Accuracy Plot:\n",
        "- **Training Accuracy**: Increases steadily from around 0.55 to 0.85, showing that the model is improving its performance on the training data.\n",
        "- **Validation Accuracy**: Increases from around 0.55 to 0.75, indicating that the model is also improving its performance on the validation data."
      ]
    },
    {
      "cell_type": "markdown",
      "metadata": {
        "id": "eqxKSw5KV-Tc"
      },
      "source": [
        "## Confusion Matrix"
      ]
    },
    {
      "cell_type": "code",
      "execution_count": null,
      "metadata": {
        "colab": {
          "base_uri": "https://localhost:8080/",
          "height": 581
        },
        "id": "IY3uIhQPTRO8",
        "outputId": "cb130e08-c265-4f7e-82f1-e547e9e5befb"
      },
      "outputs": [
        {
          "name": "stdout",
          "output_type": "stream",
          "text": [
            "\u001b[1m250/250\u001b[0m \u001b[32m━━━━━━━━━━━━━━━━━━━━\u001b[0m\u001b[37m\u001b[0m \u001b[1m17s\u001b[0m 67ms/step\n"
          ]
        },
        {
          "data": {
            "image/png": "[encoded data removed]",
            "text/plain": [
              "<Figure size 600x600 with 1 Axes>"
            ]
          },
          "metadata": {},
          "output_type": "display_data"
        }
      ],
      "source": [
        "from sklearn.metrics import confusion_matrix\n",
        "import seaborn as sns\n",
        "import matplotlib.pyplot as plt\n",
        "\n",
        "test_preds = (complex_lstm_model.predict(test_padded) > 0.5).astype(int)\n",
        "\n",
        "cm = confusion_matrix(test_labels, test_preds)\n",
        "\n",
        "plt.figure(figsize=(6, 6))\n",
        "sns.heatmap(cm, annot=True, fmt='d', cmap='Blues', cbar=False,\n",
        "            xticklabels=['Not Hate', 'Hate'],\n",
        "            yticklabels=['Not Hate', 'Hate'])\n",
        "plt.xlabel('Predicted')\n",
        "plt.ylabel('Actual')\n",
        "plt.title('Confusion Matrix')\n",
        "plt.show()"
      ]
    },
    {
      "cell_type": "markdown",
      "metadata": {
        "id": "v8vPodPnWA8Z"
      },
      "source": [
        "#### **Key Observations:**\n",
        "\n",
        "- The model has a higher number of true positives (3505) compared to true negatives (1592), indicating better performance in identifying \"Hate\" instances.\n",
        "\n",
        "- The false positives (1786) and false negatives (1087) suggest that the model struggles with correctly classifying \"Not Hate\" instances.\n",
        "\n",
        "- The precision, recall, and F1-score for class 0 (\"Not Hate\") are lower compared to class 1 (\"Hate\"), as seen in the classification report."
      ]
    },
    {
      "cell_type": "markdown",
      "metadata": {
        "id": "SAFqH1BJWbBU"
      },
      "source": [
        "## Misclassified Samples Analysis\n",
        "\n",
        "The first 10 misclassified samples are printed to provide insights into where the model is making errors."
      ]
    },
    {
      "cell_type": "code",
      "execution_count": null,
      "metadata": {
        "colab": {
          "base_uri": "https://localhost:8080/"
        },
        "id": "ChZ2WEZuvfM1",
        "outputId": "aed55bcd-ac2c-49b5-a01f-5cb982b099ae"
      },
      "outputs": [
        {
          "name": "stdout",
          "output_type": "stream",
          "text": [
            "Misclassified Samples:\n",
            "                                                 text  actual_label  \\\n",
            "1                           asian people are the shit             0   \n",
            "6   I feel sorry for the poor little half caste bo...             1   \n",
            "10  discrimination against r3t4rdz is not wrong an...             1   \n",
            "21  There is a new shop on my block with the sign ...             1   \n",
            "22  goat fucker, goat lover, it's all gross and be...             0   \n",
            "26  People that say all French are filthy, smelly ...             0   \n",
            "42  feminists? They are some of the most annoying ...             0   \n",
            "44                fags stink almost as much as cigars             0   \n",
            "49  I thought it was common knowledge that all rac...             0   \n",
            "51  I don't think I've met a kind bisexual person ...             1   \n",
            "\n",
            "    predicted_label  \n",
            "1                 1  \n",
            "6                 0  \n",
            "10                0  \n",
            "21                0  \n",
            "22                1  \n",
            "26                1  \n",
            "42                1  \n",
            "44                1  \n",
            "49                1  \n",
            "51                0  \n"
          ]
        }
      ],
      "source": [
        "results_df = pd.DataFrame({\n",
        "    'text': df_test['text'],\n",
        "    'actual_label': test_labels,\n",
        "    'predicted_label': test_preds.flatten()\n",
        "})\n",
        "\n",
        "results_df['is_misclassified'] = results_df['actual_label'] != results_df['predicted_label']\n",
        "\n",
        "misclassified_samples = results_df[results_df['is_misclassified']]\n",
        "print(\"Misclassified Samples:\")\n",
        "print(misclassified_samples[['text', 'actual_label', 'predicted_label']].head(10))"
      ]
    },
    {
      "cell_type": "markdown",
      "metadata": {
        "id": "rsQ9uNhZWsZH"
      },
      "source": [
        "## Attention Mechanism Visualization"
      ]
    },
    {
      "cell_type": "code",
      "execution_count": 1,
      "metadata": {
        "colab": {
          "base_uri": "https://localhost:8080/",
          "height": 391
        },
        "id": "NHkplqlwvjLJ",
        "outputId": "2c67e452-1edb-4c24-e276-13fe9a6e9a9e"
      },
      "outputs": [],
      "source": [
        "# import numpy as np\n",
        "\n",
        "# # Extract attention weights from the model\n",
        "# attention_model = Model(inputs=complex_lstm_model.input,\n",
        "#                         outputs=complex_lstm_model.get_layer('attention').output)\n",
        "# attention_weights = attention_model.predict(test_padded)\n",
        "\n",
        "# # Function to visualize attention weights\n",
        "# def visualize_attention(text, attention_weights, tokenizer):\n",
        "#     tokens = tokenizer.texts_to_sequences([text])\n",
        "#     tokens = tokenizer.sequences_to_texts(tokens)[0].split()\n",
        "#     attention_weights = attention_weights[0][:len(tokens)]  # Truncate to match token length\n",
        "\n",
        "#     # Plot attention weights\n",
        "#     plt.figure(figsize=(10, 4))\n",
        "#     plt.bar(range(len(tokens)), attention_weights, color='blue')\n",
        "#     plt.xticks(range(len(tokens)), tokens, rotation=90)\n",
        "#     plt.xlabel('Tokens')\n",
        "#     plt.ylabel('Attention Weights')\n",
        "#     plt.title('Attention Weights for Text')\n",
        "#     plt.show()\n",
        "\n",
        "# sample_index = 0 \n",
        "# sample_text = misclassified_samples.iloc[sample_index]['text']\n",
        "# visualize_attention(sample_text, attention_weights[sample_index], tokenizer)"
      ]
    },
    {
      "cell_type": "markdown",
      "metadata": {
        "id": "8UslFLkkXQRd"
      },
      "source": [
        "#### **Key Observations:**\n",
        "\n",
        "1. **Token Representation**  \n",
        "   - The presence of `<OOV>` (Out of Vocabulary) tokens suggests that some words were not recognized by the model's vocabulary. This could impact interpretability.\n",
        "\n",
        "2. **Weight Distribution**  \n",
        "   - The attention weights vary significantly, with some tokens receiving positive attention and others negative. The token \"shit\" has the highest positive weight, while one `<OOV>` token has the lowest. This might indicate bias in the model's attention mechanism.\n",
        "\n",
        "4. **Potential Bias**  \n",
        "   - The attention mechanism assigns significant weights to certain words, which could imply biases in the model. It may be useful to analyze how different words (especially sensitive ones) are weighted across various contexts.\n",
        "\n"
      ]
    },
    {
      "cell_type": "markdown",
      "metadata": {
        "id": "GMHTUyoPXkyq"
      },
      "source": [
        "### Display Test set Predictions"
      ]
    },
    {
      "cell_type": "code",
      "execution_count": null,
      "metadata": {
        "colab": {
          "base_uri": "https://localhost:8080/"
        },
        "id": "hDBtjDb_vjR4",
        "outputId": "b2430b5e-8301-46b9-b295-93812196c8f9"
      },
      "outputs": [
        {
          "name": "stdout",
          "output_type": "stream",
          "text": [
            "Test Set Predictions:\n",
            "                                                 text  actual_label  \\\n",
            "0                        bananas are for black people             1   \n",
            "1                           asian people are the shit             0   \n",
            "2   women can not reproduce kids but men can in al...             1   \n",
            "3                 i hate wearing black in the summer!             0   \n",
            "4                Who cares what Chinese people think?             1   \n",
            "5          i try to punch a letter box when i see one             1   \n",
            "6   I feel sorry for the poor little half caste bo...             1   \n",
            "7                        this drink sucks, it's awful             0   \n",
            "8                                gays are purposeless             1   \n",
            "9   the thought of a world free of blacks makes me...             1   \n",
            "10  discrimination against r3t4rdz is not wrong an...             1   \n",
            "11                          Politicians are arseholes             0   \n",
            "12                          Get rid of all the Hindus             1   \n",
            "13                         jewish people look violent             1   \n",
            "14     This shitty camera is awful in taking pictures             0   \n",
            "15  Christianity is a massive problem in this coun...             1   \n",
            "16  Our city is getting flooded with kebabs, you k...             1   \n",
            "17      I always feel unsafe when surrounded by Arabs             1   \n",
            "18  I hate politicians so much, I wish we got rid ...             0   \n",
            "19                              i'm going to kill Amy             0   \n",
            "\n",
            "    predicted_label  \n",
            "0                 1  \n",
            "1                 1  \n",
            "2                 1  \n",
            "3                 0  \n",
            "4                 1  \n",
            "5                 1  \n",
            "6                 0  \n",
            "7                 0  \n",
            "8                 1  \n",
            "9                 1  \n",
            "10                0  \n",
            "11                0  \n",
            "12                1  \n",
            "13                1  \n",
            "14                0  \n",
            "15                1  \n",
            "16                1  \n",
            "17                1  \n",
            "18                0  \n",
            "19                0  \n"
          ]
        }
      ],
      "source": [
        "print(\"Test Set Predictions:\")\n",
        "print(results_df[['text', 'actual_label', 'predicted_label']].head(20)) "
      ]
    },
    {
      "cell_type": "markdown",
      "metadata": {
        "id": "Q2aXWy0Bxth1"
      },
      "source": [
        "## RoBERTa Model Implementation\n",
        "\n",
        "For RoBERTaClassifier, the backbone is **roberta-base**\n",
        "\n",
        "For HateBERTClassifier, the backbone is **GroNLP/hateBERT**\n",
        "\n",
        "\n",
        "1. **Model Architecture:**\n",
        "\n",
        "Both models use a pretrained transformer backbone (RoBERTa or HateBERT) to extract features from the input text.\n",
        "\n",
        "A classification head (a small neural network) is added on top of the transformer to predict the output class (hate or nothate).\n",
        "\n",
        "2. **Training:**\n",
        "\n",
        "The model is trained using a cross-entropy loss.\n",
        "\n",
        "The optimizer (Lamb) and learning rate scheduler are configured to fine-tune the model efficiently.\n",
        "\n",
        "3. **Evaluation:**\n",
        "\n",
        "The model's performance is evaluated on a validation set during training.\n",
        "\n",
        "After training, the model is used to predict labels for the test set.\n",
        "\n",
        "4. **Error Analysis:**\n",
        "\n",
        "The predictions are compared with the actual labels to identify misclassified samples.\n",
        "\n",
        "A confusion matrix is generated to analyze the model's performance."
      ]
    },
    {
      "cell_type": "code",
      "execution_count": null,
      "metadata": {
        "id": "LeKRFqxH2ySv"
      },
      "outputs": [],
      "source": [
        "import torch\n",
        "import torch.nn as nn\n",
        "import pytorch_lightning as pl\n",
        "from torch.utils.data import DataLoader, Dataset\n",
        "from transformers import RobertaModel, RobertaTokenizer, AdamW, get_linear_schedule_with_warmup\n",
        "from sklearn.metrics import classification_report, confusion_matrix\n",
        "import pandas as pd\n",
        "import numpy as np\n",
        "\n",
        "\n",
        "config = {\n",
        "    'model_name': 'roberta-base',\n",
        "    'n_labels': 2,                # Binary classification (hate vs. nothate)\n",
        "    'bs': 32,                     \n",
        "    'lr': 2e-5,                   \n",
        "    'warmup': 100,                # Warmup steps for scheduler\n",
        "    'train_size': len(df_train),   \n",
        "    'w_decay': 0.01,              \n",
        "    'n_epoch': 5                  \n",
        "}\n",
        "\n",
        "class HateSpeechDataset(Dataset):\n",
        "    def __init__(self, texts, labels, tokenizer, max_length):\n",
        "        self.texts = texts\n",
        "        self.labels = [1 if label == 'hate' else 0 for label in labels]\n",
        "        self.tokenizer = tokenizer\n",
        "        self.max_length = max_length\n",
        "\n",
        "    def __len__(self):\n",
        "        return len(self.texts)\n",
        "\n",
        "    def __getitem__(self, idx):\n",
        "        text = self.texts[idx]\n",
        "        label = self.labels[idx]\n",
        "        encoding = self.tokenizer.encode_plus(\n",
        "            text,\n",
        "            add_special_tokens=True,\n",
        "            max_length=self.max_length,\n",
        "            padding='max_length',\n",
        "            truncation=True,\n",
        "            return_attention_mask=True,\n",
        "            return_tensors='pt'\n",
        "        )\n",
        "        return {\n",
        "            'input_ids': encoding['input_ids'].flatten(),  # 1D tensor\n",
        "            'attention_mask': encoding['attention_mask'].flatten(),  # 1D tensor\n",
        "            'labels': torch.tensor(label, dtype=torch.long)\n",
        "        }"
      ]
    },
    {
      "cell_type": "markdown",
      "metadata": {
        "id": "1BnoKJpSYbfw"
      },
      "source": [
        "## Collation Function\n",
        "\n",
        "Used to process a batch of data samples into a format suitable for input into a  model. It stacks the input IDs, attention masks, and labels into tensors."
      ]
    },
    {
      "cell_type": "code",
      "execution_count": null,
      "metadata": {
        "id": "2_BIvqvi21Oh"
      },
      "outputs": [],
      "source": [
        "def collate_fn(batch):\n",
        "    input_ids = torch.stack([item['input_ids'] for item in batch])\n",
        "    attention_mask = torch.stack([item['attention_mask'] for item in batch])\n",
        "    labels = torch.stack([item['labels'] for item in batch])\n",
        "    return input_ids, attention_mask, labels"
      ]
    },
    {
      "cell_type": "code",
      "execution_count": null,
      "metadata": {
        "id": "yjHZEWDS25sS"
      },
      "outputs": [],
      "source": [
        "from torch_optimizer import Lamb\n",
        "\n",
        "class RoBERTaClassifier(pl.LightningModule):\n",
        "    def __init__(self, config):\n",
        "        super().__init__()\n",
        "        self.config = config\n",
        "\n",
        "        self.roberta = RobertaModel.from_pretrained(config['model_name'])\n",
        "\n",
        "        self.classifier = nn.Sequential(\n",
        "            nn.Linear(self.roberta.config.hidden_size, 64),\n",
        "            nn.ReLU(),\n",
        "            nn.Dropout(0.1),\n",
        "            nn.Linear(64, config['n_labels'])\n",
        "        )\n",
        "\n",
        "        self.loss_fn = nn.CrossEntropyLoss()\n",
        "\n",
        "    def forward(self, input_ids, attention_mask):\n",
        "        outputs = self.roberta(input_ids=input_ids, attention_mask=attention_mask)\n",
        "        pooled_output = outputs.last_hidden_state[:, 0, :]  # Use [CLS] token representation\n",
        "        logits = self.classifier(pooled_output)\n",
        "        return logits\n",
        "\n",
        "    def training_step(self, batch, batch_idx):\n",
        "        input_ids, attention_mask, labels = batch\n",
        "        logits = self(input_ids, attention_mask)\n",
        "        loss = self.loss_fn(logits, labels)\n",
        "        self.log('train_loss', loss, prog_bar=True)\n",
        "        return loss\n",
        "\n",
        "    def validation_step(self, batch, batch_idx):\n",
        "        input_ids, attention_mask, labels = batch\n",
        "        logits = self(input_ids, attention_mask)\n",
        "        loss = self.loss_fn(logits, labels)\n",
        "        preds = torch.argmax(logits, dim=1)\n",
        "        acc = (preds == labels).float().mean()\n",
        "        self.log('val_loss', loss, prog_bar=True)\n",
        "        self.log('val_acc', acc, prog_bar=True)\n",
        "        return loss\n",
        "\n",
        "    def predict_step(self, batch, batch_idx):\n",
        "        input_ids, attention_mask, labels = batch\n",
        "        logits = self(input_ids, attention_mask)\n",
        "        preds = torch.argmax(logits, dim=1)\n",
        "        return preds\n",
        "\n",
        "    def configure_optimizers(self):\n",
        "        optimizer = Lamb(self.parameters(), lr=self.config['lr'], weight_decay=self.config['w_decay'])\n",
        "        scheduler = get_linear_schedule_with_warmup(\n",
        "            optimizer,\n",
        "            num_warmup_steps=self.config['warmup'],\n",
        "            num_training_steps=self.config['train_size'] // self.config['bs'] * self.config['n_epoch']\n",
        "        )\n",
        "        return [optimizer], [scheduler]"
      ]
    },
    {
      "cell_type": "code",
      "execution_count": null,
      "metadata": {
        "id": "oR1e2Tmo28J4"
      },
      "outputs": [],
      "source": [
        "tokenizer = RobertaTokenizer.from_pretrained(config['model_name'])\n",
        "\n",
        "df_train = df_train.sample(frac=0.5, random_state=42)\n",
        "train_dataset = HateSpeechDataset(df_train['text'].tolist(), df_train['label'].tolist(), tokenizer, max_length=16)\n",
        "\n",
        "df_val = df_val.sample(frac=0.5, random_state=42)\n",
        "val_dataset = HateSpeechDataset(df_val['text'].tolist(), df_val['label'].tolist(), tokenizer, max_length=16)\n",
        "\n",
        "df_test = df_test.sample(frac = 0.5, random_state = 42)\n",
        "test_dataset = HateSpeechDataset(df_test['text'].tolist(), df_test['label'].tolist(), tokenizer, max_length=16)"
      ]
    },
    {
      "cell_type": "markdown",
      "metadata": {
        "id": "TC3XXUiLY0Aq"
      },
      "source": [
        "### DataLoaders\n",
        "\n",
        "The `DataLoader` objects are used to load and iterate over the training, validation, and test datasets in batches."
      ]
    },
    {
      "cell_type": "code",
      "execution_count": null,
      "metadata": {
        "id": "ZS6IW3vZ28QZ"
      },
      "outputs": [],
      "source": [
        "train_loader = DataLoader(train_dataset, batch_size=config['bs'], shuffle=True, collate_fn=collate_fn)\n",
        "val_loader = DataLoader(val_dataset, batch_size=config['bs'], collate_fn=collate_fn)\n",
        "test_loader = DataLoader(test_dataset, batch_size=config['bs'], collate_fn=collate_fn)"
      ]
    },
    {
      "cell_type": "markdown",
      "metadata": {
        "id": "w_6w5ceBY8xG"
      },
      "source": [
        "### RoBERTa Initialization"
      ]
    },
    {
      "cell_type": "code",
      "execution_count": null,
      "metadata": {
        "colab": {
          "base_uri": "https://localhost:8080/"
        },
        "id": "rjQfMv472-O9",
        "outputId": "6e439592-800d-4b3b-9572-959d67527b06"
      },
      "outputs": [
        {
          "name": "stderr",
          "output_type": "stream",
          "text": [
            "Some weights of RobertaModel were not initialized from the model checkpoint at roberta-base and are newly initialized: ['roberta.pooler.dense.bias', 'roberta.pooler.dense.weight']\n",
            "You should probably TRAIN this model on a down-stream task to be able to use it for predictions and inference.\n",
            "INFO:pytorch_lightning.utilities.rank_zero:GPU available: False, used: False\n",
            "INFO:pytorch_lightning.utilities.rank_zero:TPU available: False, using: 0 TPU cores\n",
            "INFO:pytorch_lightning.utilities.rank_zero:HPU available: False, using: 0 HPUs\n"
          ]
        }
      ],
      "source": [
        "from pytorch_lightning import Trainer\n",
        "\n",
        "model = RoBERTaClassifier(config)\n",
        "\n",
        "trainer = Trainer(\n",
        "    max_epochs=config['n_epoch'],\n",
        "    accelerator='gpu' if torch.cuda.is_available() else 'cpu',  # Use GPU if available\n",
        "    devices=1 if torch.cuda.is_available() else 1,             # Use 1 GPU if available, else 1 CPU core\n",
        "    enable_progress_bar=True\n",
        ")\n"
      ]
    },
    {
      "cell_type": "markdown",
      "metadata": {
        "id": "dLtaQePoZHCs"
      },
      "source": [
        "### Training and Evaluation of RoBERTa Model"
      ]
    },
    {
      "cell_type": "code",
      "execution_count": null,
      "metadata": {
        "colab": {
          "base_uri": "https://localhost:8080/",
          "height": 778,
          "referenced_widgets": [
            "9d5c0e1d20a441d1a12581af9ca60e50",
            "84d9ba51f53143be8b95257a8b5b8aad",
            "5c32588f55cf4a778105a1eb07554fda",
            "7e6212c386ef4a4a907dc98312487cc6",
            "dc0c4ceae66e426f872a67a597569054",
            "f086e90ad8a54dcba877844af9404313",
            "4e3d5fc63cd849c98df3eaea54e944d0",
            "037a088ac2524846a1ca5a0686bb62cb",
            "a3d7729099464aa0a8c8b04cd2a1bccc",
            "9c1edbe7d1b3446887d040356fdfc7d0",
            "b46a3f85f8d64d8dbc04cf96daeebd78",
            "8721749d869a4b0a809bed325a397a3a",
            "a5083a9734554fd5a6b52a6aa3f3b685",
            "2b879fc66d1e498e8a65dbc1148d89e4",
            "2ecf38ee405a4b688154ead7a0d69f43",
            "ad03d070abdf4235944be3ccde1a610c",
            "a602c97e87da424a8eec6eecc0185ba2",
            "da98f1e6cd4c4a71a6bc8441e20f4df6",
            "4631b1fe172f4b09a9c838de60aeb0f7",
            "cb25bb11667d4e87a8be54381e9865cd",
            "4c2b786e1441408a83807751dda5143a",
            "079ffcef183746d4a369f026202b3f19",
            "3b587616bd8449439b839e5999174a41",
            "3fd885a37a11449d83e80be363a6fb17",
            "a339e3bb46644738872aa9b9cc987f36",
            "bfc08b05f82943e7ae45996977ab19ba",
            "ebf2a3298961467b96e477db212c0b2a",
            "c57548162c2f46a79c6b5c14ee4ee97c",
            "1735645230144d5cbcef7edc0d7ef8c7",
            "b4dc4f9b294b4e8c9625996c1f0d70f4",
            "1abc7d41085a426f8eadd4742226e1f6",
            "cf09bdebe5704a4b940048e1b8d998d2",
            "0a2f940fc33247a682bc61b07abe6ac4",
            "0b78888a598e455db51846195d6e5061",
            "328af6e4415644a2ad12b55ecef05112",
            "78abfdb50cc64b989c48147975fd1356",
            "99f575afcb5e435eb83a1dea2f715d0c",
            "935cf4cf3e644a3b99c01972a9e0b369",
            "1a5eb14e65674f0197800982177d8f8f",
            "d6bf97c5c58c43b8af9b5f2ed0a7541f",
            "0b9d65239a954705998bab500ae2430e",
            "7633d9124c7842208cf0f09865e7bbf2",
            "0ddc3d3f2cf142dfbd6acd3a88765065",
            "30277174d6ac458b8698aba12db9b48d",
            "8f31a63b293142b6b543af76c7c23ae8",
            "824691b8bd5549118c1dd33f9db516fc",
            "5820977d86094c3893d322a28b012365",
            "793ff34a580240bbb86ffa23ba1bfbfa",
            "3fc2051f62214ac2bbd8957ac45626b7",
            "938160238ff947ea8285b80a629ce510",
            "dea2a2fd03d8434caebc2cd2aca522cc",
            "bfc66b6701b44eb09dfa811fb3252e0c",
            "ffaef9fe1651461bba72b7e3fde03d8f",
            "79e2e9d416cc4379b368e644de99eece",
            "03a8051c6f324432b36aeb4d811e8f37",
            "febad861f8e343208d8c9c2e4875b481",
            "622c295b7e744d5a9556088b4eddbc8b",
            "cbc3ac96fa554111921038dc864dc6cf",
            "2c3eac5683114ce4a5881b5c1d142361",
            "14b7192535b5472ebc5e83ae2f4e79c1",
            "6dd4a70aa2c34215b4173edd64c1fc5a",
            "05b63fa221a44a4da2b9b64c967f8925",
            "d692fdf0570742a28767f0a8d8d1cb1c",
            "a7422415ed594a47898a2149e92c1142",
            "6c1fb3b828814c99984985312bec45fe",
            "66f7be55a24c4363be8b88f376f22fcf",
            "dfc4daa909224d2ba3f6885e1de12223",
            "0b5ea24b7e9943bf8e255d9ea6bfe01e",
            "5e58d623dc87432faf3edfbb4a51824b",
            "e3548320305e49bb95b9d620d91d21e8",
            "f9acb5c7203643b0a9e05ea6a97583e3",
            "415dc2c1769144c9ada80631db762e16",
            "6a3884873e384203a374e79cfecbdb51",
            "32f8c30f24534ceb97b816ae9787ed62",
            "0c7bce66b7b147e5890950c3af0cafb9",
            "2d09a2b310364535b99071e357ffb37f",
            "6fed172813244e3a8b2ae6a48a8badf2",
            "8ff4cdb4d5434398bc29f02130cc752b",
            "045ca7a5a3f74d0bb1df34ce878a7e93",
            "1962ad791a424c89a0eabb02ffe62dce",
            "d3908f4bdda14bd3b1700e2d9ebae74f",
            "53bd8554e70e41cb93b5129e6beda3fe",
            "8fbb5468da564c7f94475641fe2b8223",
            "cc7b976769b84a7d82c8f72b1c8d4f80",
            "3d056686be824147b1cd4eb3b6fda94e",
            "417074acee314582bd8d587cc9452888",
            "8b556d16c2224004a9a04dc817a61e52",
            "72efc194d1ff47819b9cd7e6837c25ed"
          ]
        },
        "id": "_Ky9WYxs2-Ru",
        "outputId": "322ea098-69ac-4640-b288-542abc9c8d83"
      },
      "outputs": [
        {
          "name": "stderr",
          "output_type": "stream",
          "text": [
            "INFO:pytorch_lightning.callbacks.model_summary:\n",
            "  | Name       | Type             | Params | Mode \n",
            "--------------------------------------------------------\n",
            "0 | roberta    | RobertaModel     | 124 M  | eval \n",
            "1 | classifier | Sequential       | 49.3 K | train\n",
            "2 | loss_fn    | CrossEntropyLoss | 0      | train\n",
            "--------------------------------------------------------\n",
            "124 M     Trainable params\n",
            "0         Non-trainable params\n",
            "124 M     Total params\n",
            "498.780   Total estimated model params size (MB)\n",
            "6         Modules in train mode\n",
            "228       Modules in eval mode\n"
          ]
        },
        {
          "data": {
            "application/vnd.jupyter.widget-view+json": {
              "model_id": "9d5c0e1d20a441d1a12581af9ca60e50",
              "version_major": 2,
              "version_minor": 0
            },
            "text/plain": [
              "Sanity Checking: |          | 0/? [00:00<?, ?it/s]"
            ]
          },
          "metadata": {},
          "output_type": "display_data"
        },
        {
          "name": "stderr",
          "output_type": "stream",
          "text": [
            "/usr/local/lib/python3.11/dist-packages/pytorch_lightning/loops/fit_loop.py:310: The number of training batches (12) is smaller than the logging interval Trainer(log_every_n_steps=50). Set a lower value for log_every_n_steps if you want to see logs for the training epoch.\n"
          ]
        },
        {
          "data": {
            "application/vnd.jupyter.widget-view+json": {
              "model_id": "8721749d869a4b0a809bed325a397a3a",
              "version_major": 2,
              "version_minor": 0
            },
            "text/plain": [
              "Training: |          | 0/? [00:00<?, ?it/s]"
            ]
          },
          "metadata": {},
          "output_type": "display_data"
        },
        {
          "data": {
            "application/vnd.jupyter.widget-view+json": {
              "model_id": "3b587616bd8449439b839e5999174a41",
              "version_major": 2,
              "version_minor": 0
            },
            "text/plain": [
              "Validation: |          | 0/? [00:00<?, ?it/s]"
            ]
          },
          "metadata": {},
          "output_type": "display_data"
        },
        {
          "data": {
            "application/vnd.jupyter.widget-view+json": {
              "model_id": "0b78888a598e455db51846195d6e5061",
              "version_major": 2,
              "version_minor": 0
            },
            "text/plain": [
              "Validation: |          | 0/? [00:00<?, ?it/s]"
            ]
          },
          "metadata": {},
          "output_type": "display_data"
        },
        {
          "data": {
            "application/vnd.jupyter.widget-view+json": {
              "model_id": "8f31a63b293142b6b543af76c7c23ae8",
              "version_major": 2,
              "version_minor": 0
            },
            "text/plain": [
              "Validation: |          | 0/? [00:00<?, ?it/s]"
            ]
          },
          "metadata": {},
          "output_type": "display_data"
        },
        {
          "data": {
            "application/vnd.jupyter.widget-view+json": {
              "model_id": "febad861f8e343208d8c9c2e4875b481",
              "version_major": 2,
              "version_minor": 0
            },
            "text/plain": [
              "Validation: |          | 0/? [00:00<?, ?it/s]"
            ]
          },
          "metadata": {},
          "output_type": "display_data"
        },
        {
          "data": {
            "application/vnd.jupyter.widget-view+json": {
              "model_id": "dfc4daa909224d2ba3f6885e1de12223",
              "version_major": 2,
              "version_minor": 0
            },
            "text/plain": [
              "Validation: |          | 0/? [00:00<?, ?it/s]"
            ]
          },
          "metadata": {},
          "output_type": "display_data"
        },
        {
          "name": "stderr",
          "output_type": "stream",
          "text": [
            "INFO:pytorch_lightning.utilities.rank_zero:`Trainer.fit` stopped: `max_epochs=5` reached.\n"
          ]
        },
        {
          "data": {
            "application/vnd.jupyter.widget-view+json": {
              "model_id": "8ff4cdb4d5434398bc29f02130cc752b",
              "version_major": 2,
              "version_minor": 0
            },
            "text/plain": [
              "Predicting: |          | 0/? [00:00<?, ?it/s]"
            ]
          },
          "metadata": {},
          "output_type": "display_data"
        },
        {
          "name": "stdout",
          "output_type": "stream",
          "text": [
            "                                                                                                                                                                                                                                                                                                                                                                                   text actual_label predicted_label\n",
            "                                                                                                          i have not once used a single kike source for anything the fact that you automatically assume that anybody who disagrees with herodotus is a kike says something about you i am merely referring to german historians who had disproven herodotus accounts by the mid 1 6 0 0         hate         nothate\n",
            "                                                                                                                                                                                                                                                                                                                                                                           cripples won         hate            hate\n",
            "                                                                                       Speaking for Denmark, absolutely yes. We've had cases with people spitting on refugees crossing our borders, Sweden has had arson attacks on the refugee centers - shit you thought would only happen in heavily fictionalised TV shows about the American south. But sadly it is a reality here      nothate            hate\n",
            "                                                                                          All Muslims living in europe are terrorists and make it very hard for myself and many others, cause they drag the west's reputation in the mud, and after every incident it shows their true colours - they put innocent people in danger (ofc besides other Muslim victims of their crimes).         hate         nothate\n",
            "                                                                                                                                                                                                                                                                                                                                 <user> i fucking hate you he mumbles looking up at him      nothate         nothate\n",
            "                                                                                                                                                                                                                                                                                                    If you think right, you'll see that there's no point in fighting for women's rights         hate            hate\n",
            "                                                                                                                                                                                                                                                                                                                                                               faggot ass nigger <user>         hate         nothate\n",
            "                                                                                                                                                                                                                                                                                                                                   if you dump me because i cut my hair you are a bitch      nothate         nothate\n",
            "                                                                                                                                                                                                              If you're looking for perversity, then look no further than the lesbian couple in that show on national television. As if that's something you want for your kids to see.         hate         nothate\n",
            "                                                                                                                                                                                                    It's totally reasonable for people to dislike those on benefit. Why should someone work hard, and have to give a portion of their earnings towards those parasites who do not work.         hate            hate\n",
            "                                                                                                         <user> <user> can not wait for the twee hypocrisy of oughterard putting on nativity plays and piously placing statues of the baby jesus in the cribs beside his immigrant refugee parents and malignant o doherty thumping her sanctimonious craw in seasonal fakery revolting      nothate         nothate\n",
            "                                                                                                                                                                               She's not even playing an amputee, the witches haven't chopped off their fingers, actually they aren't even human for fuck's sake. Instead of apologising, someone needs to point out that it's not real      nothate         nothate\n",
            "                                                                                                                                                                            i could not care less about any other ideology than a pure white state the form of gov we have to me is almost irrelevant you only care about muh nigger equals such a punk faggot take your cucks and gtfo         hate         nothate\n",
            "                                                                                                                                             <user> the only problem i see right now with this is the robot is white so even if you do grant it rights some ghetto niggas are going to come along and kidnap it because it white and mostly like supported donald j trump for president         hate         nothate\n",
            "                                                                                                                                                                                                                                              if you don't believe in police brutality let me tell you - our local policeman said \"no fucking niggers\" as he kicked some kids out a bar      nothate         nothate\n",
            "When I lived for a while in a border city, I observed how many American citizens were really dual citizens, born in the U.S. but living in the neighboring Mexican city their wholes lives. They were citizens with American birth certificates, and ties to Mexican culture. They had great allegiance to both nations; their hearts were in America, and their hearts were in Mexico.      nothate         nothate\n",
            "                                                                                                                                                                                                          When a woman feels that she has been wronged, she will attack your soul and take whatever she can. There’s a reason for the saying, ‘hell hath no fury like a woman scorned’.         hate         nothate\n",
            "                                                                                                                                                                                                                                                                                                                              I would love to personally witness the demise of all Wogs         hate         nothate\n",
            "                                                                                                                                                                                                                                                                                                                                                                        Fuck my grandpa      nothate         nothate\n",
            "                                                                                                                                                                                                                                                                                                                              <user> he ’ muslim and trump hater why do you support him      nothate         nothate\n",
            "Confusion Matrix:\n",
            "[[ 8 26]\n",
            " [ 4 26]]\n"
          ]
        }
      ],
      "source": [
        "trainer.fit(model, train_loader, val_loader)\n",
        "\n",
        "test_preds = trainer.predict(model, test_loader)\n",
        "test_preds = torch.cat(test_preds).cpu().numpy() \n",
        "\n",
        "results_df = pd.DataFrame({\n",
        "    'text': df_test['text'],\n",
        "    'actual_label': df_test['label'],\n",
        "    'predicted_label': ['hate' if pred == 1 else 'nothate' for pred in test_preds] \n",
        "})\n",
        "\n",
        "print(results_df[['text', 'actual_label', 'predicted_label']].head(20).to_string(index=False))\n",
        "\n",
        "cm = confusion_matrix(df_test['label'], ['hate' if pred == 1 else 'nothate' for pred in test_preds])\n",
        "print(\"Confusion Matrix:\")\n",
        "print(cm)"
      ]
    },
    {
      "cell_type": "code",
      "execution_count": null,
      "metadata": {
        "colab": {
          "base_uri": "https://localhost:8080/"
        },
        "id": "1TZuvjmY3D7I",
        "outputId": "252ea1d8-174d-43b9-88d3-9a34d045d7f1"
      },
      "outputs": [
        {
          "name": "stdout",
          "output_type": "stream",
          "text": [
            "Classification Report:\n",
            "              precision    recall  f1-score   support\n",
            "\n",
            "        hate       0.67      0.24      0.35        34\n",
            "     nothate       0.50      0.87      0.63        30\n",
            "\n",
            "    accuracy                           0.53        64\n",
            "   macro avg       0.58      0.55      0.49        64\n",
            "weighted avg       0.59      0.53      0.48        64\n",
            "\n"
          ]
        }
      ],
      "source": [
        "print(\"Classification Report:\")\n",
        "print(classification_report(df_test['label'], ['hate' if pred == 1 else 'nothate' for pred in test_preds]))"
      ]
    },
    {
      "cell_type": "code",
      "execution_count": null,
      "metadata": {
        "colab": {
          "base_uri": "https://localhost:8080/",
          "height": 701
        },
        "id": "VSh7vvMS3EB5",
        "outputId": "bed69f94-2843-4a29-c1d8-c5144e126267"
      },
      "outputs": [
        {
          "name": "stderr",
          "output_type": "stream",
          "text": [
            "<ipython-input-118-ca80fa148e63>:4: FutureWarning: \n",
            "\n",
            "Passing `palette` without assigning `hue` is deprecated and will be removed in v0.14.0. Assign the `x` variable to `hue` and set `legend=False` for the same effect.\n",
            "\n",
            "  sns.countplot(x='actual_label', data=results_df, palette='Set2')\n",
            "<ipython-input-118-ca80fa148e63>:8: FutureWarning: \n",
            "\n",
            "Passing `palette` without assigning `hue` is deprecated and will be removed in v0.14.0. Assign the `x` variable to `hue` and set `legend=False` for the same effect.\n",
            "\n",
            "  sns.countplot(x='predicted_label', data=results_df, palette='Set2')\n"
          ]
        },
        {
          "data": {
            "image/png": "[encoded data removed]",
            "text/plain": [
              "<Figure size 1000x500 with 2 Axes>"
            ]
          },
          "metadata": {},
          "output_type": "display_data"
        }
      ],
      "source": [
        "plt.figure(figsize=(10, 5))\n",
        "plt.subplot(1, 2, 1)\n",
        "sns.countplot(x='actual_label', data=results_df, palette='Set2')\n",
        "plt.title('Actual Label Distribution')\n",
        "\n",
        "plt.subplot(1, 2, 2)\n",
        "sns.countplot(x='predicted_label', data=results_df, palette='Set2')\n",
        "plt.title('Predicted Label Distribution')\n",
        "\n",
        "plt.tight_layout()\n",
        "plt.show()"
      ]
    },
    {
      "cell_type": "code",
      "execution_count": null,
      "metadata": {
        "colab": {
          "base_uri": "https://localhost:8080/"
        },
        "id": "AOSg4lF_v8rM",
        "outputId": "50c03360-5470-4c50-ece3-5c85c2f61fe5"
      },
      "outputs": [
        {
          "name": "stdout",
          "output_type": "stream",
          "text": [
            "Misclassified Samples:\n",
            "                                                   text actual_label  \\\n",
            "7369  i have not once used a single kike source for ...         hate   \n",
            "2922  Speaking for Denmark, absolutely yes. We've ha...      nothate   \n",
            "1087  All Muslims living in europe are terrorists an...         hate   \n",
            "5001                           faggot ass nigger <user>         hate   \n",
            "756   If you're looking for perversity, then look no...         hate   \n",
            "4205  i could not care less about any other ideology...         hate   \n",
            "4332  <user> the only problem i see right now with t...         hate   \n",
            "3003  When a woman feels that she has been wronged, ...         hate   \n",
            "3082  I would love to personally witness the demise ...         hate   \n",
            "4434  blacks spanics women unemployment the lowest i...         hate   \n",
            "\n",
            "     predicted_label  \n",
            "7369         nothate  \n",
            "2922            hate  \n",
            "1087         nothate  \n",
            "5001         nothate  \n",
            "756          nothate  \n",
            "4205         nothate  \n",
            "4332         nothate  \n",
            "3003         nothate  \n",
            "3082         nothate  \n",
            "4434         nothate  \n"
          ]
        }
      ],
      "source": [
        "misclassified_samples = results_df[results_df['actual_label'] != results_df['predicted_label']]\n",
        "print(\"Misclassified Samples:\")\n",
        "print(misclassified_samples[['text', 'actual_label', 'predicted_label']].head(10))"
      ]
    },
    {
      "cell_type": "code",
      "execution_count": null,
      "metadata": {
        "colab": {
          "base_uri": "https://localhost:8080/"
        },
        "id": "1V3OLFUqzpfo",
        "outputId": "5aae8104-3784-47a8-a8ca-f374b475bb34"
      },
      "outputs": [
        {
          "name": "stdout",
          "output_type": "stream",
          "text": [
            "Test Set Predictions:\n",
            "                                                   text actual_label  \\\n",
            "7369  i have not once used a single kike source for ...         hate   \n",
            "2543                                       cripples won         hate   \n",
            "2922  Speaking for Denmark, absolutely yes. We've ha...      nothate   \n",
            "1087  All Muslims living in europe are terrorists an...         hate   \n",
            "7915  <user> i fucking hate you he mumbles looking u...      nothate   \n",
            "152   If you think right, you'll see that there's no...         hate   \n",
            "5001                           faggot ass nigger <user>         hate   \n",
            "4803  if you dump me because i cut my hair you are a...      nothate   \n",
            "756   If you're looking for perversity, then look no...         hate   \n",
            "2787  It's totally reasonable for people to dislike ...         hate   \n",
            "6715  <user> <user> can not wait for the twee hypocr...      nothate   \n",
            "2582  She's not even playing an amputee, the witches...      nothate   \n",
            "4205  i could not care less about any other ideology...         hate   \n",
            "4332  <user> the only problem i see right now with t...         hate   \n",
            "549   if you don't believe in police brutality let m...      nothate   \n",
            "1175  When I lived for a while in a border city, I o...      nothate   \n",
            "3003  When a woman feels that she has been wronged, ...         hate   \n",
            "3082  I would love to personally witness the demise ...         hate   \n",
            "3064                                    Fuck my grandpa      nothate   \n",
            "6626  <user> he ’ muslim and trump hater why do you ...      nothate   \n",
            "\n",
            "     predicted_label  \n",
            "7369         nothate  \n",
            "2543            hate  \n",
            "2922            hate  \n",
            "1087         nothate  \n",
            "7915         nothate  \n",
            "152             hate  \n",
            "5001         nothate  \n",
            "4803         nothate  \n",
            "756          nothate  \n",
            "2787            hate  \n",
            "6715         nothate  \n",
            "2582         nothate  \n",
            "4205         nothate  \n",
            "4332         nothate  \n",
            "549          nothate  \n",
            "1175         nothate  \n",
            "3003         nothate  \n",
            "3082         nothate  \n",
            "3064         nothate  \n",
            "6626         nothate  \n"
          ]
        }
      ],
      "source": [
        "print(\"Test Set Predictions:\")\n",
        "print(results_df[['text', 'actual_label', 'predicted_label']].head(20)) # Display first 20 samples"
      ]
    }
  ],
  "metadata": {
    "accelerator": "TPU",
    "colab": {
      "gpuType": "V28",
      "provenance": []
    },
    "kernelspec": {
      "display_name": "Python 3",
      "name": "python3"
    },
    "language_info": {
      "codemirror_mode": {
        "name": "ipython",
        "version": 3
      },
      "file_extension": ".py",
      "mimetype": "text/x-python",
      "name": "python",
      "nbconvert_exporter": "python",
      "pygments_lexer": "ipython3",
      "version": "3.9.6"
    },
    "widgets": {
      "application/vnd.jupyter.widget-state+json": {
        "037a088ac2524846a1ca5a0686bb62cb": {
          "model_module": "@jupyter-widgets/base",
          "model_module_version": "1.2.0",
          "model_name": "LayoutModel",
          "state": {
            "_model_module": "@jupyter-widgets/base",
            "_model_module_version": "1.2.0",
            "_model_name": "LayoutModel",
            "_view_count": null,
            "_view_module": "@jupyter-widgets/base",
            "_view_module_version": "1.2.0",
            "_view_name": "LayoutView",
            "align_content": null,
            "align_items": null,
            "align_self": null,
            "border": null,
            "bottom": null,
            "display": null,
            "flex": "2",
            "flex_flow": null,
            "grid_area": null,
            "grid_auto_columns": null,
            "grid_auto_flow": null,
            "grid_auto_rows": null,
            "grid_column": null,
            "grid_gap": null,
            "grid_row": null,
            "grid_template_areas": null,
            "grid_template_columns": null,
            "grid_template_rows": null,
            "height": null,
            "justify_content": null,
            "justify_items": null,
            "left": null,
            "margin": null,
            "max_height": null,
            "max_width": null,
            "min_height": null,
            "min_width": null,
            "object_fit": null,
            "object_position": null,
            "order": null,
            "overflow": null,
            "overflow_x": null,
            "overflow_y": null,
            "padding": null,
            "right": null,
            "top": null,
            "visibility": null,
            "width": null
          }
        },
        "03a8051c6f324432b36aeb4d811e8f37": {
          "model_module": "@jupyter-widgets/controls",
          "model_module_version": "1.5.0",
          "model_name": "DescriptionStyleModel",
          "state": {
            "_model_module": "@jupyter-widgets/controls",
            "_model_module_version": "1.5.0",
            "_model_name": "DescriptionStyleModel",
            "_view_count": null,
            "_view_module": "@jupyter-widgets/base",
            "_view_module_version": "1.2.0",
            "_view_name": "StyleView",
            "description_width": ""
          }
        },
        "045ca7a5a3f74d0bb1df34ce878a7e93": {
          "model_module": "@jupyter-widgets/controls",
          "model_module_version": "1.5.0",
          "model_name": "HTMLModel",
          "state": {
            "_dom_classes": [],
            "_model_module": "@jupyter-widgets/controls",
            "_model_module_version": "1.5.0",
            "_model_name": "HTMLModel",
            "_view_count": null,
            "_view_module": "@jupyter-widgets/controls",
            "_view_module_version": "1.5.0",
            "_view_name": "HTMLView",
            "description": "",
            "description_tooltip": null,
            "layout": "IPY_MODEL_8fbb5468da564c7f94475641fe2b8223",
            "placeholder": "​",
            "style": "IPY_MODEL_cc7b976769b84a7d82c8f72b1c8d4f80",
            "value": "Predicting DataLoader 0: 100%"
          }
        },
        "05b63fa221a44a4da2b9b64c967f8925": {
          "model_module": "@jupyter-widgets/controls",
          "model_module_version": "1.5.0",
          "model_name": "DescriptionStyleModel",
          "state": {
            "_model_module": "@jupyter-widgets/controls",
            "_model_module_version": "1.5.0",
            "_model_name": "DescriptionStyleModel",
            "_view_count": null,
            "_view_module": "@jupyter-widgets/base",
            "_view_module_version": "1.2.0",
            "_view_name": "StyleView",
            "description_width": ""
          }
        },
        "079ffcef183746d4a369f026202b3f19": {
          "model_module": "@jupyter-widgets/controls",
          "model_module_version": "1.5.0",
          "model_name": "DescriptionStyleModel",
          "state": {
            "_model_module": "@jupyter-widgets/controls",
            "_model_module_version": "1.5.0",
            "_model_name": "DescriptionStyleModel",
            "_view_count": null,
            "_view_module": "@jupyter-widgets/base",
            "_view_module_version": "1.2.0",
            "_view_name": "StyleView",
            "description_width": ""
          }
        },
        "0a2f940fc33247a682bc61b07abe6ac4": {
          "model_module": "@jupyter-widgets/controls",
          "model_module_version": "1.5.0",
          "model_name": "DescriptionStyleModel",
          "state": {
            "_model_module": "@jupyter-widgets/controls",
            "_model_module_version": "1.5.0",
            "_model_name": "DescriptionStyleModel",
            "_view_count": null,
            "_view_module": "@jupyter-widgets/base",
            "_view_module_version": "1.2.0",
            "_view_name": "StyleView",
            "description_width": ""
          }
        },
        "0b5ea24b7e9943bf8e255d9ea6bfe01e": {
          "model_module": "@jupyter-widgets/controls",
          "model_module_version": "1.5.0",
          "model_name": "HTMLModel",
          "state": {
            "_dom_classes": [],
            "_model_module": "@jupyter-widgets/controls",
            "_model_module_version": "1.5.0",
            "_model_name": "HTMLModel",
            "_view_count": null,
            "_view_module": "@jupyter-widgets/controls",
            "_view_module_version": "1.5.0",
            "_view_name": "HTMLView",
            "description": "",
            "description_tooltip": null,
            "layout": "IPY_MODEL_415dc2c1769144c9ada80631db762e16",
            "placeholder": "​",
            "style": "IPY_MODEL_6a3884873e384203a374e79cfecbdb51",
            "value": "Validation DataLoader 0: 100%"
          }
        },
        "0b78888a598e455db51846195d6e5061": {
          "model_module": "@jupyter-widgets/controls",
          "model_module_version": "1.5.0",
          "model_name": "HBoxModel",
          "state": {
            "_dom_classes": [],
            "_model_module": "@jupyter-widgets/controls",
            "_model_module_version": "1.5.0",
            "_model_name": "HBoxModel",
            "_view_count": null,
            "_view_module": "@jupyter-widgets/controls",
            "_view_module_version": "1.5.0",
            "_view_name": "HBoxView",
            "box_style": "",
            "children": [
              "IPY_MODEL_328af6e4415644a2ad12b55ecef05112",
              "IPY_MODEL_78abfdb50cc64b989c48147975fd1356",
              "IPY_MODEL_99f575afcb5e435eb83a1dea2f715d0c"
            ],
            "layout": "IPY_MODEL_935cf4cf3e644a3b99c01972a9e0b369"
          }
        },
        "0b9d65239a954705998bab500ae2430e": {
          "model_module": "@jupyter-widgets/base",
          "model_module_version": "1.2.0",
          "model_name": "LayoutModel",
          "state": {
            "_model_module": "@jupyter-widgets/base",
            "_model_module_version": "1.2.0",
            "_model_name": "LayoutModel",
            "_view_count": null,
            "_view_module": "@jupyter-widgets/base",
            "_view_module_version": "1.2.0",
            "_view_name": "LayoutView",
            "align_content": null,
            "align_items": null,
            "align_self": null,
            "border": null,
            "bottom": null,
            "display": null,
            "flex": "2",
            "flex_flow": null,
            "grid_area": null,
            "grid_auto_columns": null,
            "grid_auto_flow": null,
            "grid_auto_rows": null,
            "grid_column": null,
            "grid_gap": null,
            "grid_row": null,
            "grid_template_areas": null,
            "grid_template_columns": null,
            "grid_template_rows": null,
            "height": null,
            "justify_content": null,
            "justify_items": null,
            "left": null,
            "margin": null,
            "max_height": null,
            "max_width": null,
            "min_height": null,
            "min_width": null,
            "object_fit": null,
            "object_position": null,
            "order": null,
            "overflow": null,
            "overflow_x": null,
            "overflow_y": null,
            "padding": null,
            "right": null,
            "top": null,
            "visibility": null,
            "width": null
          }
        },
        "0c7bce66b7b147e5890950c3af0cafb9": {
          "model_module": "@jupyter-widgets/controls",
          "model_module_version": "1.5.0",
          "model_name": "ProgressStyleModel",
          "state": {
            "_model_module": "@jupyter-widgets/controls",
            "_model_module_version": "1.5.0",
            "_model_name": "ProgressStyleModel",
            "_view_count": null,
            "_view_module": "@jupyter-widgets/base",
            "_view_module_version": "1.2.0",
            "_view_name": "StyleView",
            "bar_color": null,
            "description_width": ""
          }
        },
        "0ddc3d3f2cf142dfbd6acd3a88765065": {
          "model_module": "@jupyter-widgets/base",
          "model_module_version": "1.2.0",
          "model_name": "LayoutModel",
          "state": {
            "_model_module": "@jupyter-widgets/base",
            "_model_module_version": "1.2.0",
            "_model_name": "LayoutModel",
            "_view_count": null,
            "_view_module": "@jupyter-widgets/base",
            "_view_module_version": "1.2.0",
            "_view_name": "LayoutView",
            "align_content": null,
            "align_items": null,
            "align_self": null,
            "border": null,
            "bottom": null,
            "display": null,
            "flex": null,
            "flex_flow": null,
            "grid_area": null,
            "grid_auto_columns": null,
            "grid_auto_flow": null,
            "grid_auto_rows": null,
            "grid_column": null,
            "grid_gap": null,
            "grid_row": null,
            "grid_template_areas": null,
            "grid_template_columns": null,
            "grid_template_rows": null,
            "height": null,
            "justify_content": null,
            "justify_items": null,
            "left": null,
            "margin": null,
            "max_height": null,
            "max_width": null,
            "min_height": null,
            "min_width": null,
            "object_fit": null,
            "object_position": null,
            "order": null,
            "overflow": null,
            "overflow_x": null,
            "overflow_y": null,
            "padding": null,
            "right": null,
            "top": null,
            "visibility": null,
            "width": null
          }
        },
        "14b7192535b5472ebc5e83ae2f4e79c1": {
          "model_module": "@jupyter-widgets/base",
          "model_module_version": "1.2.0",
          "model_name": "LayoutModel",
          "state": {
            "_model_module": "@jupyter-widgets/base",
            "_model_module_version": "1.2.0",
            "_model_name": "LayoutModel",
            "_view_count": null,
            "_view_module": "@jupyter-widgets/base",
            "_view_module_version": "1.2.0",
            "_view_name": "LayoutView",
            "align_content": null,
            "align_items": null,
            "align_self": null,
            "border": null,
            "bottom": null,
            "display": "inline-flex",
            "flex": null,
            "flex_flow": "row wrap",
            "grid_area": null,
            "grid_auto_columns": null,
            "grid_auto_flow": null,
            "grid_auto_rows": null,
            "grid_column": null,
            "grid_gap": null,
            "grid_row": null,
            "grid_template_areas": null,
            "grid_template_columns": null,
            "grid_template_rows": null,
            "height": null,
            "justify_content": null,
            "justify_items": null,
            "left": null,
            "margin": null,
            "max_height": null,
            "max_width": null,
            "min_height": null,
            "min_width": null,
            "object_fit": null,
            "object_position": null,
            "order": null,
            "overflow": null,
            "overflow_x": null,
            "overflow_y": null,
            "padding": null,
            "right": null,
            "top": null,
            "visibility": "hidden",
            "width": "100%"
          }
        },
        "1735645230144d5cbcef7edc0d7ef8c7": {
          "model_module": "@jupyter-widgets/controls",
          "model_module_version": "1.5.0",
          "model_name": "DescriptionStyleModel",
          "state": {
            "_model_module": "@jupyter-widgets/controls",
            "_model_module_version": "1.5.0",
            "_model_name": "DescriptionStyleModel",
            "_view_count": null,
            "_view_module": "@jupyter-widgets/base",
            "_view_module_version": "1.2.0",
            "_view_name": "StyleView",
            "description_width": ""
          }
        },
        "1962ad791a424c89a0eabb02ffe62dce": {
          "model_module": "@jupyter-widgets/controls",
          "model_module_version": "1.5.0",
          "model_name": "FloatProgressModel",
          "state": {
            "_dom_classes": [],
            "_model_module": "@jupyter-widgets/controls",
            "_model_module_version": "1.5.0",
            "_model_name": "FloatProgressModel",
            "_view_count": null,
            "_view_module": "@jupyter-widgets/controls",
            "_view_module_version": "1.5.0",
            "_view_name": "ProgressView",
            "bar_style": "success",
            "description": "",
            "description_tooltip": null,
            "layout": "IPY_MODEL_3d056686be824147b1cd4eb3b6fda94e",
            "max": 2,
            "min": 0,
            "orientation": "horizontal",
            "style": "IPY_MODEL_417074acee314582bd8d587cc9452888",
            "value": 2
          }
        },
        "1a5eb14e65674f0197800982177d8f8f": {
          "model_module": "@jupyter-widgets/base",
          "model_module_version": "1.2.0",
          "model_name": "LayoutModel",
          "state": {
            "_model_module": "@jupyter-widgets/base",
            "_model_module_version": "1.2.0",
            "_model_name": "LayoutModel",
            "_view_count": null,
            "_view_module": "@jupyter-widgets/base",
            "_view_module_version": "1.2.0",
            "_view_name": "LayoutView",
            "align_content": null,
            "align_items": null,
            "align_self": null,
            "border": null,
            "bottom": null,
            "display": null,
            "flex": null,
            "flex_flow": null,
            "grid_area": null,
            "grid_auto_columns": null,
            "grid_auto_flow": null,
            "grid_auto_rows": null,
            "grid_column": null,
            "grid_gap": null,
            "grid_row": null,
            "grid_template_areas": null,
            "grid_template_columns": null,
            "grid_template_rows": null,
            "height": null,
            "justify_content": null,
            "justify_items": null,
            "left": null,
            "margin": null,
            "max_height": null,
            "max_width": null,
            "min_height": null,
            "min_width": null,
            "object_fit": null,
            "object_position": null,
            "order": null,
            "overflow": null,
            "overflow_x": null,
            "overflow_y": null,
            "padding": null,
            "right": null,
            "top": null,
            "visibility": null,
            "width": null
          }
        },
        "1abc7d41085a426f8eadd4742226e1f6": {
          "model_module": "@jupyter-widgets/controls",
          "model_module_version": "1.5.0",
          "model_name": "ProgressStyleModel",
          "state": {
            "_model_module": "@jupyter-widgets/controls",
            "_model_module_version": "1.5.0",
            "_model_name": "ProgressStyleModel",
            "_view_count": null,
            "_view_module": "@jupyter-widgets/base",
            "_view_module_version": "1.2.0",
            "_view_name": "StyleView",
            "bar_color": null,
            "description_width": ""
          }
        },
        "2b879fc66d1e498e8a65dbc1148d89e4": {
          "model_module": "@jupyter-widgets/controls",
          "model_module_version": "1.5.0",
          "model_name": "FloatProgressModel",
          "state": {
            "_dom_classes": [],
            "_model_module": "@jupyter-widgets/controls",
            "_model_module_version": "1.5.0",
            "_model_name": "FloatProgressModel",
            "_view_count": null,
            "_view_module": "@jupyter-widgets/controls",
            "_view_module_version": "1.5.0",
            "_view_name": "ProgressView",
            "bar_style": "success",
            "description": "",
            "description_tooltip": null,
            "layout": "IPY_MODEL_4631b1fe172f4b09a9c838de60aeb0f7",
            "max": 12,
            "min": 0,
            "orientation": "horizontal",
            "style": "IPY_MODEL_cb25bb11667d4e87a8be54381e9865cd",
            "value": 12
          }
        },
        "2c3eac5683114ce4a5881b5c1d142361": {
          "model_module": "@jupyter-widgets/controls",
          "model_module_version": "1.5.0",
          "model_name": "HTMLModel",
          "state": {
            "_dom_classes": [],
            "_model_module": "@jupyter-widgets/controls",
            "_model_module_version": "1.5.0",
            "_model_name": "HTMLModel",
            "_view_count": null,
            "_view_module": "@jupyter-widgets/controls",
            "_view_module_version": "1.5.0",
            "_view_name": "HTMLView",
            "description": "",
            "description_tooltip": null,
            "layout": "IPY_MODEL_6c1fb3b828814c99984985312bec45fe",
            "placeholder": "​",
            "style": "IPY_MODEL_66f7be55a24c4363be8b88f376f22fcf",
            "value": " 2/2 [00:02&lt;00:00,  0.89it/s]"
          }
        },
        "2d09a2b310364535b99071e357ffb37f": {
          "model_module": "@jupyter-widgets/base",
          "model_module_version": "1.2.0",
          "model_name": "LayoutModel",
          "state": {
            "_model_module": "@jupyter-widgets/base",
            "_model_module_version": "1.2.0",
            "_model_name": "LayoutModel",
            "_view_count": null,
            "_view_module": "@jupyter-widgets/base",
            "_view_module_version": "1.2.0",
            "_view_name": "LayoutView",
            "align_content": null,
            "align_items": null,
            "align_self": null,
            "border": null,
            "bottom": null,
            "display": null,
            "flex": null,
            "flex_flow": null,
            "grid_area": null,
            "grid_auto_columns": null,
            "grid_auto_flow": null,
            "grid_auto_rows": null,
            "grid_column": null,
            "grid_gap": null,
            "grid_row": null,
            "grid_template_areas": null,
            "grid_template_columns": null,
            "grid_template_rows": null,
            "height": null,
            "justify_content": null,
            "justify_items": null,
            "left": null,
            "margin": null,
            "max_height": null,
            "max_width": null,
            "min_height": null,
            "min_width": null,
            "object_fit": null,
            "object_position": null,
            "order": null,
            "overflow": null,
            "overflow_x": null,
            "overflow_y": null,
            "padding": null,
            "right": null,
            "top": null,
            "visibility": null,
            "width": null
          }
        },
        "2ecf38ee405a4b688154ead7a0d69f43": {
          "model_module": "@jupyter-widgets/controls",
          "model_module_version": "1.5.0",
          "model_name": "HTMLModel",
          "state": {
            "_dom_classes": [],
            "_model_module": "@jupyter-widgets/controls",
            "_model_module_version": "1.5.0",
            "_model_name": "HTMLModel",
            "_view_count": null,
            "_view_module": "@jupyter-widgets/controls",
            "_view_module_version": "1.5.0",
            "_view_name": "HTMLView",
            "description": "",
            "description_tooltip": null,
            "layout": "IPY_MODEL_4c2b786e1441408a83807751dda5143a",
            "placeholder": "​",
            "style": "IPY_MODEL_079ffcef183746d4a369f026202b3f19",
            "value": " 12/12 [02:45&lt;00:00,  0.07it/s, v_num=8, train_loss=0.696, val_loss=0.693, val_acc=0.578]"
          }
        },
        "30277174d6ac458b8698aba12db9b48d": {
          "model_module": "@jupyter-widgets/controls",
          "model_module_version": "1.5.0",
          "model_name": "DescriptionStyleModel",
          "state": {
            "_model_module": "@jupyter-widgets/controls",
            "_model_module_version": "1.5.0",
            "_model_name": "DescriptionStyleModel",
            "_view_count": null,
            "_view_module": "@jupyter-widgets/base",
            "_view_module_version": "1.2.0",
            "_view_name": "StyleView",
            "description_width": ""
          }
        },
        "328af6e4415644a2ad12b55ecef05112": {
          "model_module": "@jupyter-widgets/controls",
          "model_module_version": "1.5.0",
          "model_name": "HTMLModel",
          "state": {
            "_dom_classes": [],
            "_model_module": "@jupyter-widgets/controls",
            "_model_module_version": "1.5.0",
            "_model_name": "HTMLModel",
            "_view_count": null,
            "_view_module": "@jupyter-widgets/controls",
            "_view_module_version": "1.5.0",
            "_view_name": "HTMLView",
            "description": "",
            "description_tooltip": null,
            "layout": "IPY_MODEL_1a5eb14e65674f0197800982177d8f8f",
            "placeholder": "​",
            "style": "IPY_MODEL_d6bf97c5c58c43b8af9b5f2ed0a7541f",
            "value": "Validation DataLoader 0: 100%"
          }
        },
        "32f8c30f24534ceb97b816ae9787ed62": {
          "model_module": "@jupyter-widgets/base",
          "model_module_version": "1.2.0",
          "model_name": "LayoutModel",
          "state": {
            "_model_module": "@jupyter-widgets/base",
            "_model_module_version": "1.2.0",
            "_model_name": "LayoutModel",
            "_view_count": null,
            "_view_module": "@jupyter-widgets/base",
            "_view_module_version": "1.2.0",
            "_view_name": "LayoutView",
            "align_content": null,
            "align_items": null,
            "align_self": null,
            "border": null,
            "bottom": null,
            "display": null,
            "flex": "2",
            "flex_flow": null,
            "grid_area": null,
            "grid_auto_columns": null,
            "grid_auto_flow": null,
            "grid_auto_rows": null,
            "grid_column": null,
            "grid_gap": null,
            "grid_row": null,
            "grid_template_areas": null,
            "grid_template_columns": null,
            "grid_template_rows": null,
            "height": null,
            "justify_content": null,
            "justify_items": null,
            "left": null,
            "margin": null,
            "max_height": null,
            "max_width": null,
            "min_height": null,
            "min_width": null,
            "object_fit": null,
            "object_position": null,
            "order": null,
            "overflow": null,
            "overflow_x": null,
            "overflow_y": null,
            "padding": null,
            "right": null,
            "top": null,
            "visibility": null,
            "width": null
          }
        },
        "3b587616bd8449439b839e5999174a41": {
          "model_module": "@jupyter-widgets/controls",
          "model_module_version": "1.5.0",
          "model_name": "HBoxModel",
          "state": {
            "_dom_classes": [],
            "_model_module": "@jupyter-widgets/controls",
            "_model_module_version": "1.5.0",
            "_model_name": "HBoxModel",
            "_view_count": null,
            "_view_module": "@jupyter-widgets/controls",
            "_view_module_version": "1.5.0",
            "_view_name": "HBoxView",
            "box_style": "",
            "children": [
              "IPY_MODEL_3fd885a37a11449d83e80be363a6fb17",
              "IPY_MODEL_a339e3bb46644738872aa9b9cc987f36",
              "IPY_MODEL_bfc08b05f82943e7ae45996977ab19ba"
            ],
            "layout": "IPY_MODEL_ebf2a3298961467b96e477db212c0b2a"
          }
        },
        "3d056686be824147b1cd4eb3b6fda94e": {
          "model_module": "@jupyter-widgets/base",
          "model_module_version": "1.2.0",
          "model_name": "LayoutModel",
          "state": {
            "_model_module": "@jupyter-widgets/base",
            "_model_module_version": "1.2.0",
            "_model_name": "LayoutModel",
            "_view_count": null,
            "_view_module": "@jupyter-widgets/base",
            "_view_module_version": "1.2.0",
            "_view_name": "LayoutView",
            "align_content": null,
            "align_items": null,
            "align_self": null,
            "border": null,
            "bottom": null,
            "display": null,
            "flex": "2",
            "flex_flow": null,
            "grid_area": null,
            "grid_auto_columns": null,
            "grid_auto_flow": null,
            "grid_auto_rows": null,
            "grid_column": null,
            "grid_gap": null,
            "grid_row": null,
            "grid_template_areas": null,
            "grid_template_columns": null,
            "grid_template_rows": null,
            "height": null,
            "justify_content": null,
            "justify_items": null,
            "left": null,
            "margin": null,
            "max_height": null,
            "max_width": null,
            "min_height": null,
            "min_width": null,
            "object_fit": null,
            "object_position": null,
            "order": null,
            "overflow": null,
            "overflow_x": null,
            "overflow_y": null,
            "padding": null,
            "right": null,
            "top": null,
            "visibility": null,
            "width": null
          }
        },
        "3fc2051f62214ac2bbd8957ac45626b7": {
          "model_module": "@jupyter-widgets/base",
          "model_module_version": "1.2.0",
          "model_name": "LayoutModel",
          "state": {
            "_model_module": "@jupyter-widgets/base",
            "_model_module_version": "1.2.0",
            "_model_name": "LayoutModel",
            "_view_count": null,
            "_view_module": "@jupyter-widgets/base",
            "_view_module_version": "1.2.0",
            "_view_name": "LayoutView",
            "align_content": null,
            "align_items": null,
            "align_self": null,
            "border": null,
            "bottom": null,
            "display": "inline-flex",
            "flex": null,
            "flex_flow": "row wrap",
            "grid_area": null,
            "grid_auto_columns": null,
            "grid_auto_flow": null,
            "grid_auto_rows": null,
            "grid_column": null,
            "grid_gap": null,
            "grid_row": null,
            "grid_template_areas": null,
            "grid_template_columns": null,
            "grid_template_rows": null,
            "height": null,
            "justify_content": null,
            "justify_items": null,
            "left": null,
            "margin": null,
            "max_height": null,
            "max_width": null,
            "min_height": null,
            "min_width": null,
            "object_fit": null,
            "object_position": null,
            "order": null,
            "overflow": null,
            "overflow_x": null,
            "overflow_y": null,
            "padding": null,
            "right": null,
            "top": null,
            "visibility": "hidden",
            "width": "100%"
          }
        },
        "3fd885a37a11449d83e80be363a6fb17": {
          "model_module": "@jupyter-widgets/controls",
          "model_module_version": "1.5.0",
          "model_name": "HTMLModel",
          "state": {
            "_dom_classes": [],
            "_model_module": "@jupyter-widgets/controls",
            "_model_module_version": "1.5.0",
            "_model_name": "HTMLModel",
            "_view_count": null,
            "_view_module": "@jupyter-widgets/controls",
            "_view_module_version": "1.5.0",
            "_view_name": "HTMLView",
            "description": "",
            "description_tooltip": null,
            "layout": "IPY_MODEL_c57548162c2f46a79c6b5c14ee4ee97c",
            "placeholder": "​",
            "style": "IPY_MODEL_1735645230144d5cbcef7edc0d7ef8c7",
            "value": "Validation DataLoader 0: 100%"
          }
        },
        "415dc2c1769144c9ada80631db762e16": {
          "model_module": "@jupyter-widgets/base",
          "model_module_version": "1.2.0",
          "model_name": "LayoutModel",
          "state": {
            "_model_module": "@jupyter-widgets/base",
            "_model_module_version": "1.2.0",
            "_model_name": "LayoutModel",
            "_view_count": null,
            "_view_module": "@jupyter-widgets/base",
            "_view_module_version": "1.2.0",
            "_view_name": "LayoutView",
            "align_content": null,
            "align_items": null,
            "align_self": null,
            "border": null,
            "bottom": null,
            "display": null,
            "flex": null,
            "flex_flow": null,
            "grid_area": null,
            "grid_auto_columns": null,
            "grid_auto_flow": null,
            "grid_auto_rows": null,
            "grid_column": null,
            "grid_gap": null,
            "grid_row": null,
            "grid_template_areas": null,
            "grid_template_columns": null,
            "grid_template_rows": null,
            "height": null,
            "justify_content": null,
            "justify_items": null,
            "left": null,
            "margin": null,
            "max_height": null,
            "max_width": null,
            "min_height": null,
            "min_width": null,
            "object_fit": null,
            "object_position": null,
            "order": null,
            "overflow": null,
            "overflow_x": null,
            "overflow_y": null,
            "padding": null,
            "right": null,
            "top": null,
            "visibility": null,
            "width": null
          }
        },
        "417074acee314582bd8d587cc9452888": {
          "model_module": "@jupyter-widgets/controls",
          "model_module_version": "1.5.0",
          "model_name": "ProgressStyleModel",
          "state": {
            "_model_module": "@jupyter-widgets/controls",
            "_model_module_version": "1.5.0",
            "_model_name": "ProgressStyleModel",
            "_view_count": null,
            "_view_module": "@jupyter-widgets/base",
            "_view_module_version": "1.2.0",
            "_view_name": "StyleView",
            "bar_color": null,
            "description_width": ""
          }
        },
        "4631b1fe172f4b09a9c838de60aeb0f7": {
          "model_module": "@jupyter-widgets/base",
          "model_module_version": "1.2.0",
          "model_name": "LayoutModel",
          "state": {
            "_model_module": "@jupyter-widgets/base",
            "_model_module_version": "1.2.0",
            "_model_name": "LayoutModel",
            "_view_count": null,
            "_view_module": "@jupyter-widgets/base",
            "_view_module_version": "1.2.0",
            "_view_name": "LayoutView",
            "align_content": null,
            "align_items": null,
            "align_self": null,
            "border": null,
            "bottom": null,
            "display": null,
            "flex": "2",
            "flex_flow": null,
            "grid_area": null,
            "grid_auto_columns": null,
            "grid_auto_flow": null,
            "grid_auto_rows": null,
            "grid_column": null,
            "grid_gap": null,
            "grid_row": null,
            "grid_template_areas": null,
            "grid_template_columns": null,
            "grid_template_rows": null,
            "height": null,
            "justify_content": null,
            "justify_items": null,
            "left": null,
            "margin": null,
            "max_height": null,
            "max_width": null,
            "min_height": null,
            "min_width": null,
            "object_fit": null,
            "object_position": null,
            "order": null,
            "overflow": null,
            "overflow_x": null,
            "overflow_y": null,
            "padding": null,
            "right": null,
            "top": null,
            "visibility": null,
            "width": null
          }
        },
        "4c2b786e1441408a83807751dda5143a": {
          "model_module": "@jupyter-widgets/base",
          "model_module_version": "1.2.0",
          "model_name": "LayoutModel",
          "state": {
            "_model_module": "@jupyter-widgets/base",
            "_model_module_version": "1.2.0",
            "_model_name": "LayoutModel",
            "_view_count": null,
            "_view_module": "@jupyter-widgets/base",
            "_view_module_version": "1.2.0",
            "_view_name": "LayoutView",
            "align_content": null,
            "align_items": null,
            "align_self": null,
            "border": null,
            "bottom": null,
            "display": null,
            "flex": null,
            "flex_flow": null,
            "grid_area": null,
            "grid_auto_columns": null,
            "grid_auto_flow": null,
            "grid_auto_rows": null,
            "grid_column": null,
            "grid_gap": null,
            "grid_row": null,
            "grid_template_areas": null,
            "grid_template_columns": null,
            "grid_template_rows": null,
            "height": null,
            "justify_content": null,
            "justify_items": null,
            "left": null,
            "margin": null,
            "max_height": null,
            "max_width": null,
            "min_height": null,
            "min_width": null,
            "object_fit": null,
            "object_position": null,
            "order": null,
            "overflow": null,
            "overflow_x": null,
            "overflow_y": null,
            "padding": null,
            "right": null,
            "top": null,
            "visibility": null,
            "width": null
          }
        },
        "4e3d5fc63cd849c98df3eaea54e944d0": {
          "model_module": "@jupyter-widgets/controls",
          "model_module_version": "1.5.0",
          "model_name": "DescriptionStyleModel",
          "state": {
            "_model_module": "@jupyter-widgets/controls",
            "_model_module_version": "1.5.0",
            "_model_name": "DescriptionStyleModel",
            "_view_count": null,
            "_view_module": "@jupyter-widgets/base",
            "_view_module_version": "1.2.0",
            "_view_name": "StyleView",
            "description_width": ""
          }
        },
        "53bd8554e70e41cb93b5129e6beda3fe": {
          "model_module": "@jupyter-widgets/base",
          "model_module_version": "1.2.0",
          "model_name": "LayoutModel",
          "state": {
            "_model_module": "@jupyter-widgets/base",
            "_model_module_version": "1.2.0",
            "_model_name": "LayoutModel",
            "_view_count": null,
            "_view_module": "@jupyter-widgets/base",
            "_view_module_version": "1.2.0",
            "_view_name": "LayoutView",
            "align_content": null,
            "align_items": null,
            "align_self": null,
            "border": null,
            "bottom": null,
            "display": "inline-flex",
            "flex": null,
            "flex_flow": "row wrap",
            "grid_area": null,
            "grid_auto_columns": null,
            "grid_auto_flow": null,
            "grid_auto_rows": null,
            "grid_column": null,
            "grid_gap": null,
            "grid_row": null,
            "grid_template_areas": null,
            "grid_template_columns": null,
            "grid_template_rows": null,
            "height": null,
            "justify_content": null,
            "justify_items": null,
            "left": null,
            "margin": null,
            "max_height": null,
            "max_width": null,
            "min_height": null,
            "min_width": null,
            "object_fit": null,
            "object_position": null,
            "order": null,
            "overflow": null,
            "overflow_x": null,
            "overflow_y": null,
            "padding": null,
            "right": null,
            "top": null,
            "visibility": null,
            "width": "100%"
          }
        },
        "5820977d86094c3893d322a28b012365": {
          "model_module": "@jupyter-widgets/controls",
          "model_module_version": "1.5.0",
          "model_name": "FloatProgressModel",
          "state": {
            "_dom_classes": [],
            "_model_module": "@jupyter-widgets/controls",
            "_model_module_version": "1.5.0",
            "_model_name": "FloatProgressModel",
            "_view_count": null,
            "_view_module": "@jupyter-widgets/controls",
            "_view_module_version": "1.5.0",
            "_view_name": "ProgressView",
            "bar_style": "",
            "description": "",
            "description_tooltip": null,
            "layout": "IPY_MODEL_bfc66b6701b44eb09dfa811fb3252e0c",
            "max": 2,
            "min": 0,
            "orientation": "horizontal",
            "style": "IPY_MODEL_ffaef9fe1651461bba72b7e3fde03d8f",
            "value": 2
          }
        },
        "5c32588f55cf4a778105a1eb07554fda": {
          "model_module": "@jupyter-widgets/controls",
          "model_module_version": "1.5.0",
          "model_name": "FloatProgressModel",
          "state": {
            "_dom_classes": [],
            "_model_module": "@jupyter-widgets/controls",
            "_model_module_version": "1.5.0",
            "_model_name": "FloatProgressModel",
            "_view_count": null,
            "_view_module": "@jupyter-widgets/controls",
            "_view_module_version": "1.5.0",
            "_view_name": "ProgressView",
            "bar_style": "",
            "description": "",
            "description_tooltip": null,
            "layout": "IPY_MODEL_037a088ac2524846a1ca5a0686bb62cb",
            "max": 2,
            "min": 0,
            "orientation": "horizontal",
            "style": "IPY_MODEL_a3d7729099464aa0a8c8b04cd2a1bccc",
            "value": 2
          }
        },
        "5e58d623dc87432faf3edfbb4a51824b": {
          "model_module": "@jupyter-widgets/controls",
          "model_module_version": "1.5.0",
          "model_name": "FloatProgressModel",
          "state": {
            "_dom_classes": [],
            "_model_module": "@jupyter-widgets/controls",
            "_model_module_version": "1.5.0",
            "_model_name": "FloatProgressModel",
            "_view_count": null,
            "_view_module": "@jupyter-widgets/controls",
            "_view_module_version": "1.5.0",
            "_view_name": "ProgressView",
            "bar_style": "",
            "description": "",
            "description_tooltip": null,
            "layout": "IPY_MODEL_32f8c30f24534ceb97b816ae9787ed62",
            "max": 2,
            "min": 0,
            "orientation": "horizontal",
            "style": "IPY_MODEL_0c7bce66b7b147e5890950c3af0cafb9",
            "value": 2
          }
        },
        "622c295b7e744d5a9556088b4eddbc8b": {
          "model_module": "@jupyter-widgets/controls",
          "model_module_version": "1.5.0",
          "model_name": "HTMLModel",
          "state": {
            "_dom_classes": [],
            "_model_module": "@jupyter-widgets/controls",
            "_model_module_version": "1.5.0",
            "_model_name": "HTMLModel",
            "_view_count": null,
            "_view_module": "@jupyter-widgets/controls",
            "_view_module_version": "1.5.0",
            "_view_name": "HTMLView",
            "description": "",
            "description_tooltip": null,
            "layout": "IPY_MODEL_6dd4a70aa2c34215b4173edd64c1fc5a",
            "placeholder": "​",
            "style": "IPY_MODEL_05b63fa221a44a4da2b9b64c967f8925",
            "value": "Validation DataLoader 0: 100%"
          }
        },
        "66f7be55a24c4363be8b88f376f22fcf": {
          "model_module": "@jupyter-widgets/controls",
          "model_module_version": "1.5.0",
          "model_name": "DescriptionStyleModel",
          "state": {
            "_model_module": "@jupyter-widgets/controls",
            "_model_module_version": "1.5.0",
            "_model_name": "DescriptionStyleModel",
            "_view_count": null,
            "_view_module": "@jupyter-widgets/base",
            "_view_module_version": "1.2.0",
            "_view_name": "StyleView",
            "description_width": ""
          }
        },
        "6a3884873e384203a374e79cfecbdb51": {
          "model_module": "@jupyter-widgets/controls",
          "model_module_version": "1.5.0",
          "model_name": "DescriptionStyleModel",
          "state": {
            "_model_module": "@jupyter-widgets/controls",
            "_model_module_version": "1.5.0",
            "_model_name": "DescriptionStyleModel",
            "_view_count": null,
            "_view_module": "@jupyter-widgets/base",
            "_view_module_version": "1.2.0",
            "_view_name": "StyleView",
            "description_width": ""
          }
        },
        "6c1fb3b828814c99984985312bec45fe": {
          "model_module": "@jupyter-widgets/base",
          "model_module_version": "1.2.0",
          "model_name": "LayoutModel",
          "state": {
            "_model_module": "@jupyter-widgets/base",
            "_model_module_version": "1.2.0",
            "_model_name": "LayoutModel",
            "_view_count": null,
            "_view_module": "@jupyter-widgets/base",
            "_view_module_version": "1.2.0",
            "_view_name": "LayoutView",
            "align_content": null,
            "align_items": null,
            "align_self": null,
            "border": null,
            "bottom": null,
            "display": null,
            "flex": null,
            "flex_flow": null,
            "grid_area": null,
            "grid_auto_columns": null,
            "grid_auto_flow": null,
            "grid_auto_rows": null,
            "grid_column": null,
            "grid_gap": null,
            "grid_row": null,
            "grid_template_areas": null,
            "grid_template_columns": null,
            "grid_template_rows": null,
            "height": null,
            "justify_content": null,
            "justify_items": null,
            "left": null,
            "margin": null,
            "max_height": null,
            "max_width": null,
            "min_height": null,
            "min_width": null,
            "object_fit": null,
            "object_position": null,
            "order": null,
            "overflow": null,
            "overflow_x": null,
            "overflow_y": null,
            "padding": null,
            "right": null,
            "top": null,
            "visibility": null,
            "width": null
          }
        },
        "6dd4a70aa2c34215b4173edd64c1fc5a": {
          "model_module": "@jupyter-widgets/base",
          "model_module_version": "1.2.0",
          "model_name": "LayoutModel",
          "state": {
            "_model_module": "@jupyter-widgets/base",
            "_model_module_version": "1.2.0",
            "_model_name": "LayoutModel",
            "_view_count": null,
            "_view_module": "@jupyter-widgets/base",
            "_view_module_version": "1.2.0",
            "_view_name": "LayoutView",
            "align_content": null,
            "align_items": null,
            "align_self": null,
            "border": null,
            "bottom": null,
            "display": null,
            "flex": null,
            "flex_flow": null,
            "grid_area": null,
            "grid_auto_columns": null,
            "grid_auto_flow": null,
            "grid_auto_rows": null,
            "grid_column": null,
            "grid_gap": null,
            "grid_row": null,
            "grid_template_areas": null,
            "grid_template_columns": null,
            "grid_template_rows": null,
            "height": null,
            "justify_content": null,
            "justify_items": null,
            "left": null,
            "margin": null,
            "max_height": null,
            "max_width": null,
            "min_height": null,
            "min_width": null,
            "object_fit": null,
            "object_position": null,
            "order": null,
            "overflow": null,
            "overflow_x": null,
            "overflow_y": null,
            "padding": null,
            "right": null,
            "top": null,
            "visibility": null,
            "width": null
          }
        },
        "6fed172813244e3a8b2ae6a48a8badf2": {
          "model_module": "@jupyter-widgets/controls",
          "model_module_version": "1.5.0",
          "model_name": "DescriptionStyleModel",
          "state": {
            "_model_module": "@jupyter-widgets/controls",
            "_model_module_version": "1.5.0",
            "_model_name": "DescriptionStyleModel",
            "_view_count": null,
            "_view_module": "@jupyter-widgets/base",
            "_view_module_version": "1.2.0",
            "_view_name": "StyleView",
            "description_width": ""
          }
        },
        "72efc194d1ff47819b9cd7e6837c25ed": {
          "model_module": "@jupyter-widgets/controls",
          "model_module_version": "1.5.0",
          "model_name": "DescriptionStyleModel",
          "state": {
            "_model_module": "@jupyter-widgets/controls",
            "_model_module_version": "1.5.0",
            "_model_name": "DescriptionStyleModel",
            "_view_count": null,
            "_view_module": "@jupyter-widgets/base",
            "_view_module_version": "1.2.0",
            "_view_name": "StyleView",
            "description_width": ""
          }
        },
        "7633d9124c7842208cf0f09865e7bbf2": {
          "model_module": "@jupyter-widgets/controls",
          "model_module_version": "1.5.0",
          "model_name": "ProgressStyleModel",
          "state": {
            "_model_module": "@jupyter-widgets/controls",
            "_model_module_version": "1.5.0",
            "_model_name": "ProgressStyleModel",
            "_view_count": null,
            "_view_module": "@jupyter-widgets/base",
            "_view_module_version": "1.2.0",
            "_view_name": "StyleView",
            "bar_color": null,
            "description_width": ""
          }
        },
        "78abfdb50cc64b989c48147975fd1356": {
          "model_module": "@jupyter-widgets/controls",
          "model_module_version": "1.5.0",
          "model_name": "FloatProgressModel",
          "state": {
            "_dom_classes": [],
            "_model_module": "@jupyter-widgets/controls",
            "_model_module_version": "1.5.0",
            "_model_name": "FloatProgressModel",
            "_view_count": null,
            "_view_module": "@jupyter-widgets/controls",
            "_view_module_version": "1.5.0",
            "_view_name": "ProgressView",
            "bar_style": "",
            "description": "",
            "description_tooltip": null,
            "layout": "IPY_MODEL_0b9d65239a954705998bab500ae2430e",
            "max": 2,
            "min": 0,
            "orientation": "horizontal",
            "style": "IPY_MODEL_7633d9124c7842208cf0f09865e7bbf2",
            "value": 2
          }
        },
        "793ff34a580240bbb86ffa23ba1bfbfa": {
          "model_module": "@jupyter-widgets/controls",
          "model_module_version": "1.5.0",
          "model_name": "HTMLModel",
          "state": {
            "_dom_classes": [],
            "_model_module": "@jupyter-widgets/controls",
            "_model_module_version": "1.5.0",
            "_model_name": "HTMLModel",
            "_view_count": null,
            "_view_module": "@jupyter-widgets/controls",
            "_view_module_version": "1.5.0",
            "_view_name": "HTMLView",
            "description": "",
            "description_tooltip": null,
            "layout": "IPY_MODEL_79e2e9d416cc4379b368e644de99eece",
            "placeholder": "​",
            "style": "IPY_MODEL_03a8051c6f324432b36aeb4d811e8f37",
            "value": " 2/2 [00:02&lt;00:00,  0.68it/s]"
          }
        },
        "79e2e9d416cc4379b368e644de99eece": {
          "model_module": "@jupyter-widgets/base",
          "model_module_version": "1.2.0",
          "model_name": "LayoutModel",
          "state": {
            "_model_module": "@jupyter-widgets/base",
            "_model_module_version": "1.2.0",
            "_model_name": "LayoutModel",
            "_view_count": null,
            "_view_module": "@jupyter-widgets/base",
            "_view_module_version": "1.2.0",
            "_view_name": "LayoutView",
            "align_content": null,
            "align_items": null,
            "align_self": null,
            "border": null,
            "bottom": null,
            "display": null,
            "flex": null,
            "flex_flow": null,
            "grid_area": null,
            "grid_auto_columns": null,
            "grid_auto_flow": null,
            "grid_auto_rows": null,
            "grid_column": null,
            "grid_gap": null,
            "grid_row": null,
            "grid_template_areas": null,
            "grid_template_columns": null,
            "grid_template_rows": null,
            "height": null,
            "justify_content": null,
            "justify_items": null,
            "left": null,
            "margin": null,
            "max_height": null,
            "max_width": null,
            "min_height": null,
            "min_width": null,
            "object_fit": null,
            "object_position": null,
            "order": null,
            "overflow": null,
            "overflow_x": null,
            "overflow_y": null,
            "padding": null,
            "right": null,
            "top": null,
            "visibility": null,
            "width": null
          }
        },
        "7e6212c386ef4a4a907dc98312487cc6": {
          "model_module": "@jupyter-widgets/controls",
          "model_module_version": "1.5.0",
          "model_name": "HTMLModel",
          "state": {
            "_dom_classes": [],
            "_model_module": "@jupyter-widgets/controls",
            "_model_module_version": "1.5.0",
            "_model_name": "HTMLModel",
            "_view_count": null,
            "_view_module": "@jupyter-widgets/controls",
            "_view_module_version": "1.5.0",
            "_view_name": "HTMLView",
            "description": "",
            "description_tooltip": null,
            "layout": "IPY_MODEL_9c1edbe7d1b3446887d040356fdfc7d0",
            "placeholder": "​",
            "style": "IPY_MODEL_b46a3f85f8d64d8dbc04cf96daeebd78",
            "value": " 2/2 [00:08&lt;00:00,  0.22it/s]"
          }
        },
        "824691b8bd5549118c1dd33f9db516fc": {
          "model_module": "@jupyter-widgets/controls",
          "model_module_version": "1.5.0",
          "model_name": "HTMLModel",
          "state": {
            "_dom_classes": [],
            "_model_module": "@jupyter-widgets/controls",
            "_model_module_version": "1.5.0",
            "_model_name": "HTMLModel",
            "_view_count": null,
            "_view_module": "@jupyter-widgets/controls",
            "_view_module_version": "1.5.0",
            "_view_name": "HTMLView",
            "description": "",
            "description_tooltip": null,
            "layout": "IPY_MODEL_938160238ff947ea8285b80a629ce510",
            "placeholder": "​",
            "style": "IPY_MODEL_dea2a2fd03d8434caebc2cd2aca522cc",
            "value": "Validation DataLoader 0: 100%"
          }
        },
        "84d9ba51f53143be8b95257a8b5b8aad": {
          "model_module": "@jupyter-widgets/controls",
          "model_module_version": "1.5.0",
          "model_name": "HTMLModel",
          "state": {
            "_dom_classes": [],
            "_model_module": "@jupyter-widgets/controls",
            "_model_module_version": "1.5.0",
            "_model_name": "HTMLModel",
            "_view_count": null,
            "_view_module": "@jupyter-widgets/controls",
            "_view_module_version": "1.5.0",
            "_view_name": "HTMLView",
            "description": "",
            "description_tooltip": null,
            "layout": "IPY_MODEL_f086e90ad8a54dcba877844af9404313",
            "placeholder": "​",
            "style": "IPY_MODEL_4e3d5fc63cd849c98df3eaea54e944d0",
            "value": "Sanity Checking DataLoader 0: 100%"
          }
        },
        "8721749d869a4b0a809bed325a397a3a": {
          "model_module": "@jupyter-widgets/controls",
          "model_module_version": "1.5.0",
          "model_name": "HBoxModel",
          "state": {
            "_dom_classes": [],
            "_model_module": "@jupyter-widgets/controls",
            "_model_module_version": "1.5.0",
            "_model_name": "HBoxModel",
            "_view_count": null,
            "_view_module": "@jupyter-widgets/controls",
            "_view_module_version": "1.5.0",
            "_view_name": "HBoxView",
            "box_style": "",
            "children": [
              "IPY_MODEL_a5083a9734554fd5a6b52a6aa3f3b685",
              "IPY_MODEL_2b879fc66d1e498e8a65dbc1148d89e4",
              "IPY_MODEL_2ecf38ee405a4b688154ead7a0d69f43"
            ],
            "layout": "IPY_MODEL_ad03d070abdf4235944be3ccde1a610c"
          }
        },
        "8b556d16c2224004a9a04dc817a61e52": {
          "model_module": "@jupyter-widgets/base",
          "model_module_version": "1.2.0",
          "model_name": "LayoutModel",
          "state": {
            "_model_module": "@jupyter-widgets/base",
            "_model_module_version": "1.2.0",
            "_model_name": "LayoutModel",
            "_view_count": null,
            "_view_module": "@jupyter-widgets/base",
            "_view_module_version": "1.2.0",
            "_view_name": "LayoutView",
            "align_content": null,
            "align_items": null,
            "align_self": null,
            "border": null,
            "bottom": null,
            "display": null,
            "flex": null,
            "flex_flow": null,
            "grid_area": null,
            "grid_auto_columns": null,
            "grid_auto_flow": null,
            "grid_auto_rows": null,
            "grid_column": null,
            "grid_gap": null,
            "grid_row": null,
            "grid_template_areas": null,
            "grid_template_columns": null,
            "grid_template_rows": null,
            "height": null,
            "justify_content": null,
            "justify_items": null,
            "left": null,
            "margin": null,
            "max_height": null,
            "max_width": null,
            "min_height": null,
            "min_width": null,
            "object_fit": null,
            "object_position": null,
            "order": null,
            "overflow": null,
            "overflow_x": null,
            "overflow_y": null,
            "padding": null,
            "right": null,
            "top": null,
            "visibility": null,
            "width": null
          }
        },
        "8f31a63b293142b6b543af76c7c23ae8": {
          "model_module": "@jupyter-widgets/controls",
          "model_module_version": "1.5.0",
          "model_name": "HBoxModel",
          "state": {
            "_dom_classes": [],
            "_model_module": "@jupyter-widgets/controls",
            "_model_module_version": "1.5.0",
            "_model_name": "HBoxModel",
            "_view_count": null,
            "_view_module": "@jupyter-widgets/controls",
            "_view_module_version": "1.5.0",
            "_view_name": "HBoxView",
            "box_style": "",
            "children": [
              "IPY_MODEL_824691b8bd5549118c1dd33f9db516fc",
              "IPY_MODEL_5820977d86094c3893d322a28b012365",
              "IPY_MODEL_793ff34a580240bbb86ffa23ba1bfbfa"
            ],
            "layout": "IPY_MODEL_3fc2051f62214ac2bbd8957ac45626b7"
          }
        },
        "8fbb5468da564c7f94475641fe2b8223": {
          "model_module": "@jupyter-widgets/base",
          "model_module_version": "1.2.0",
          "model_name": "LayoutModel",
          "state": {
            "_model_module": "@jupyter-widgets/base",
            "_model_module_version": "1.2.0",
            "_model_name": "LayoutModel",
            "_view_count": null,
            "_view_module": "@jupyter-widgets/base",
            "_view_module_version": "1.2.0",
            "_view_name": "LayoutView",
            "align_content": null,
            "align_items": null,
            "align_self": null,
            "border": null,
            "bottom": null,
            "display": null,
            "flex": null,
            "flex_flow": null,
            "grid_area": null,
            "grid_auto_columns": null,
            "grid_auto_flow": null,
            "grid_auto_rows": null,
            "grid_column": null,
            "grid_gap": null,
            "grid_row": null,
            "grid_template_areas": null,
            "grid_template_columns": null,
            "grid_template_rows": null,
            "height": null,
            "justify_content": null,
            "justify_items": null,
            "left": null,
            "margin": null,
            "max_height": null,
            "max_width": null,
            "min_height": null,
            "min_width": null,
            "object_fit": null,
            "object_position": null,
            "order": null,
            "overflow": null,
            "overflow_x": null,
            "overflow_y": null,
            "padding": null,
            "right": null,
            "top": null,
            "visibility": null,
            "width": null
          }
        },
        "8ff4cdb4d5434398bc29f02130cc752b": {
          "model_module": "@jupyter-widgets/controls",
          "model_module_version": "1.5.0",
          "model_name": "HBoxModel",
          "state": {
            "_dom_classes": [],
            "_model_module": "@jupyter-widgets/controls",
            "_model_module_version": "1.5.0",
            "_model_name": "HBoxModel",
            "_view_count": null,
            "_view_module": "@jupyter-widgets/controls",
            "_view_module_version": "1.5.0",
            "_view_name": "HBoxView",
            "box_style": "",
            "children": [
              "IPY_MODEL_045ca7a5a3f74d0bb1df34ce878a7e93",
              "IPY_MODEL_1962ad791a424c89a0eabb02ffe62dce",
              "IPY_MODEL_d3908f4bdda14bd3b1700e2d9ebae74f"
            ],
            "layout": "IPY_MODEL_53bd8554e70e41cb93b5129e6beda3fe"
          }
        },
        "935cf4cf3e644a3b99c01972a9e0b369": {
          "model_module": "@jupyter-widgets/base",
          "model_module_version": "1.2.0",
          "model_name": "LayoutModel",
          "state": {
            "_model_module": "@jupyter-widgets/base",
            "_model_module_version": "1.2.0",
            "_model_name": "LayoutModel",
            "_view_count": null,
            "_view_module": "@jupyter-widgets/base",
            "_view_module_version": "1.2.0",
            "_view_name": "LayoutView",
            "align_content": null,
            "align_items": null,
            "align_self": null,
            "border": null,
            "bottom": null,
            "display": "inline-flex",
            "flex": null,
            "flex_flow": "row wrap",
            "grid_area": null,
            "grid_auto_columns": null,
            "grid_auto_flow": null,
            "grid_auto_rows": null,
            "grid_column": null,
            "grid_gap": null,
            "grid_row": null,
            "grid_template_areas": null,
            "grid_template_columns": null,
            "grid_template_rows": null,
            "height": null,
            "justify_content": null,
            "justify_items": null,
            "left": null,
            "margin": null,
            "max_height": null,
            "max_width": null,
            "min_height": null,
            "min_width": null,
            "object_fit": null,
            "object_position": null,
            "order": null,
            "overflow": null,
            "overflow_x": null,
            "overflow_y": null,
            "padding": null,
            "right": null,
            "top": null,
            "visibility": "hidden",
            "width": "100%"
          }
        },
        "938160238ff947ea8285b80a629ce510": {
          "model_module": "@jupyter-widgets/base",
          "model_module_version": "1.2.0",
          "model_name": "LayoutModel",
          "state": {
            "_model_module": "@jupyter-widgets/base",
            "_model_module_version": "1.2.0",
            "_model_name": "LayoutModel",
            "_view_count": null,
            "_view_module": "@jupyter-widgets/base",
            "_view_module_version": "1.2.0",
            "_view_name": "LayoutView",
            "align_content": null,
            "align_items": null,
            "align_self": null,
            "border": null,
            "bottom": null,
            "display": null,
            "flex": null,
            "flex_flow": null,
            "grid_area": null,
            "grid_auto_columns": null,
            "grid_auto_flow": null,
            "grid_auto_rows": null,
            "grid_column": null,
            "grid_gap": null,
            "grid_row": null,
            "grid_template_areas": null,
            "grid_template_columns": null,
            "grid_template_rows": null,
            "height": null,
            "justify_content": null,
            "justify_items": null,
            "left": null,
            "margin": null,
            "max_height": null,
            "max_width": null,
            "min_height": null,
            "min_width": null,
            "object_fit": null,
            "object_position": null,
            "order": null,
            "overflow": null,
            "overflow_x": null,
            "overflow_y": null,
            "padding": null,
            "right": null,
            "top": null,
            "visibility": null,
            "width": null
          }
        },
        "99f575afcb5e435eb83a1dea2f715d0c": {
          "model_module": "@jupyter-widgets/controls",
          "model_module_version": "1.5.0",
          "model_name": "HTMLModel",
          "state": {
            "_dom_classes": [],
            "_model_module": "@jupyter-widgets/controls",
            "_model_module_version": "1.5.0",
            "_model_name": "HTMLModel",
            "_view_count": null,
            "_view_module": "@jupyter-widgets/controls",
            "_view_module_version": "1.5.0",
            "_view_name": "HTMLView",
            "description": "",
            "description_tooltip": null,
            "layout": "IPY_MODEL_0ddc3d3f2cf142dfbd6acd3a88765065",
            "placeholder": "​",
            "style": "IPY_MODEL_30277174d6ac458b8698aba12db9b48d",
            "value": " 2/2 [00:02&lt;00:00,  0.89it/s]"
          }
        },
        "9c1edbe7d1b3446887d040356fdfc7d0": {
          "model_module": "@jupyter-widgets/base",
          "model_module_version": "1.2.0",
          "model_name": "LayoutModel",
          "state": {
            "_model_module": "@jupyter-widgets/base",
            "_model_module_version": "1.2.0",
            "_model_name": "LayoutModel",
            "_view_count": null,
            "_view_module": "@jupyter-widgets/base",
            "_view_module_version": "1.2.0",
            "_view_name": "LayoutView",
            "align_content": null,
            "align_items": null,
            "align_self": null,
            "border": null,
            "bottom": null,
            "display": null,
            "flex": null,
            "flex_flow": null,
            "grid_area": null,
            "grid_auto_columns": null,
            "grid_auto_flow": null,
            "grid_auto_rows": null,
            "grid_column": null,
            "grid_gap": null,
            "grid_row": null,
            "grid_template_areas": null,
            "grid_template_columns": null,
            "grid_template_rows": null,
            "height": null,
            "justify_content": null,
            "justify_items": null,
            "left": null,
            "margin": null,
            "max_height": null,
            "max_width": null,
            "min_height": null,
            "min_width": null,
            "object_fit": null,
            "object_position": null,
            "order": null,
            "overflow": null,
            "overflow_x": null,
            "overflow_y": null,
            "padding": null,
            "right": null,
            "top": null,
            "visibility": null,
            "width": null
          }
        },
        "9d5c0e1d20a441d1a12581af9ca60e50": {
          "model_module": "@jupyter-widgets/controls",
          "model_module_version": "1.5.0",
          "model_name": "HBoxModel",
          "state": {
            "_dom_classes": [],
            "_model_module": "@jupyter-widgets/controls",
            "_model_module_version": "1.5.0",
            "_model_name": "HBoxModel",
            "_view_count": null,
            "_view_module": "@jupyter-widgets/controls",
            "_view_module_version": "1.5.0",
            "_view_name": "HBoxView",
            "box_style": "",
            "children": [
              "IPY_MODEL_84d9ba51f53143be8b95257a8b5b8aad",
              "IPY_MODEL_5c32588f55cf4a778105a1eb07554fda",
              "IPY_MODEL_7e6212c386ef4a4a907dc98312487cc6"
            ],
            "layout": "IPY_MODEL_dc0c4ceae66e426f872a67a597569054"
          }
        },
        "a339e3bb46644738872aa9b9cc987f36": {
          "model_module": "@jupyter-widgets/controls",
          "model_module_version": "1.5.0",
          "model_name": "FloatProgressModel",
          "state": {
            "_dom_classes": [],
            "_model_module": "@jupyter-widgets/controls",
            "_model_module_version": "1.5.0",
            "_model_name": "FloatProgressModel",
            "_view_count": null,
            "_view_module": "@jupyter-widgets/controls",
            "_view_module_version": "1.5.0",
            "_view_name": "ProgressView",
            "bar_style": "",
            "description": "",
            "description_tooltip": null,
            "layout": "IPY_MODEL_b4dc4f9b294b4e8c9625996c1f0d70f4",
            "max": 2,
            "min": 0,
            "orientation": "horizontal",
            "style": "IPY_MODEL_1abc7d41085a426f8eadd4742226e1f6",
            "value": 2
          }
        },
        "a3d7729099464aa0a8c8b04cd2a1bccc": {
          "model_module": "@jupyter-widgets/controls",
          "model_module_version": "1.5.0",
          "model_name": "ProgressStyleModel",
          "state": {
            "_model_module": "@jupyter-widgets/controls",
            "_model_module_version": "1.5.0",
            "_model_name": "ProgressStyleModel",
            "_view_count": null,
            "_view_module": "@jupyter-widgets/base",
            "_view_module_version": "1.2.0",
            "_view_name": "StyleView",
            "bar_color": null,
            "description_width": ""
          }
        },
        "a5083a9734554fd5a6b52a6aa3f3b685": {
          "model_module": "@jupyter-widgets/controls",
          "model_module_version": "1.5.0",
          "model_name": "HTMLModel",
          "state": {
            "_dom_classes": [],
            "_model_module": "@jupyter-widgets/controls",
            "_model_module_version": "1.5.0",
            "_model_name": "HTMLModel",
            "_view_count": null,
            "_view_module": "@jupyter-widgets/controls",
            "_view_module_version": "1.5.0",
            "_view_name": "HTMLView",
            "description": "",
            "description_tooltip": null,
            "layout": "IPY_MODEL_a602c97e87da424a8eec6eecc0185ba2",
            "placeholder": "​",
            "style": "IPY_MODEL_da98f1e6cd4c4a71a6bc8441e20f4df6",
            "value": "Epoch 4: 100%"
          }
        },
        "a602c97e87da424a8eec6eecc0185ba2": {
          "model_module": "@jupyter-widgets/base",
          "model_module_version": "1.2.0",
          "model_name": "LayoutModel",
          "state": {
            "_model_module": "@jupyter-widgets/base",
            "_model_module_version": "1.2.0",
            "_model_name": "LayoutModel",
            "_view_count": null,
            "_view_module": "@jupyter-widgets/base",
            "_view_module_version": "1.2.0",
            "_view_name": "LayoutView",
            "align_content": null,
            "align_items": null,
            "align_self": null,
            "border": null,
            "bottom": null,
            "display": null,
            "flex": null,
            "flex_flow": null,
            "grid_area": null,
            "grid_auto_columns": null,
            "grid_auto_flow": null,
            "grid_auto_rows": null,
            "grid_column": null,
            "grid_gap": null,
            "grid_row": null,
            "grid_template_areas": null,
            "grid_template_columns": null,
            "grid_template_rows": null,
            "height": null,
            "justify_content": null,
            "justify_items": null,
            "left": null,
            "margin": null,
            "max_height": null,
            "max_width": null,
            "min_height": null,
            "min_width": null,
            "object_fit": null,
            "object_position": null,
            "order": null,
            "overflow": null,
            "overflow_x": null,
            "overflow_y": null,
            "padding": null,
            "right": null,
            "top": null,
            "visibility": null,
            "width": null
          }
        },
        "a7422415ed594a47898a2149e92c1142": {
          "model_module": "@jupyter-widgets/controls",
          "model_module_version": "1.5.0",
          "model_name": "ProgressStyleModel",
          "state": {
            "_model_module": "@jupyter-widgets/controls",
            "_model_module_version": "1.5.0",
            "_model_name": "ProgressStyleModel",
            "_view_count": null,
            "_view_module": "@jupyter-widgets/base",
            "_view_module_version": "1.2.0",
            "_view_name": "StyleView",
            "bar_color": null,
            "description_width": ""
          }
        },
        "ad03d070abdf4235944be3ccde1a610c": {
          "model_module": "@jupyter-widgets/base",
          "model_module_version": "1.2.0",
          "model_name": "LayoutModel",
          "state": {
            "_model_module": "@jupyter-widgets/base",
            "_model_module_version": "1.2.0",
            "_model_name": "LayoutModel",
            "_view_count": null,
            "_view_module": "@jupyter-widgets/base",
            "_view_module_version": "1.2.0",
            "_view_name": "LayoutView",
            "align_content": null,
            "align_items": null,
            "align_self": null,
            "border": null,
            "bottom": null,
            "display": "inline-flex",
            "flex": null,
            "flex_flow": "row wrap",
            "grid_area": null,
            "grid_auto_columns": null,
            "grid_auto_flow": null,
            "grid_auto_rows": null,
            "grid_column": null,
            "grid_gap": null,
            "grid_row": null,
            "grid_template_areas": null,
            "grid_template_columns": null,
            "grid_template_rows": null,
            "height": null,
            "justify_content": null,
            "justify_items": null,
            "left": null,
            "margin": null,
            "max_height": null,
            "max_width": null,
            "min_height": null,
            "min_width": null,
            "object_fit": null,
            "object_position": null,
            "order": null,
            "overflow": null,
            "overflow_x": null,
            "overflow_y": null,
            "padding": null,
            "right": null,
            "top": null,
            "visibility": null,
            "width": "100%"
          }
        },
        "b46a3f85f8d64d8dbc04cf96daeebd78": {
          "model_module": "@jupyter-widgets/controls",
          "model_module_version": "1.5.0",
          "model_name": "DescriptionStyleModel",
          "state": {
            "_model_module": "@jupyter-widgets/controls",
            "_model_module_version": "1.5.0",
            "_model_name": "DescriptionStyleModel",
            "_view_count": null,
            "_view_module": "@jupyter-widgets/base",
            "_view_module_version": "1.2.0",
            "_view_name": "StyleView",
            "description_width": ""
          }
        },
        "b4dc4f9b294b4e8c9625996c1f0d70f4": {
          "model_module": "@jupyter-widgets/base",
          "model_module_version": "1.2.0",
          "model_name": "LayoutModel",
          "state": {
            "_model_module": "@jupyter-widgets/base",
            "_model_module_version": "1.2.0",
            "_model_name": "LayoutModel",
            "_view_count": null,
            "_view_module": "@jupyter-widgets/base",
            "_view_module_version": "1.2.0",
            "_view_name": "LayoutView",
            "align_content": null,
            "align_items": null,
            "align_self": null,
            "border": null,
            "bottom": null,
            "display": null,
            "flex": "2",
            "flex_flow": null,
            "grid_area": null,
            "grid_auto_columns": null,
            "grid_auto_flow": null,
            "grid_auto_rows": null,
            "grid_column": null,
            "grid_gap": null,
            "grid_row": null,
            "grid_template_areas": null,
            "grid_template_columns": null,
            "grid_template_rows": null,
            "height": null,
            "justify_content": null,
            "justify_items": null,
            "left": null,
            "margin": null,
            "max_height": null,
            "max_width": null,
            "min_height": null,
            "min_width": null,
            "object_fit": null,
            "object_position": null,
            "order": null,
            "overflow": null,
            "overflow_x": null,
            "overflow_y": null,
            "padding": null,
            "right": null,
            "top": null,
            "visibility": null,
            "width": null
          }
        },
        "bfc08b05f82943e7ae45996977ab19ba": {
          "model_module": "@jupyter-widgets/controls",
          "model_module_version": "1.5.0",
          "model_name": "HTMLModel",
          "state": {
            "_dom_classes": [],
            "_model_module": "@jupyter-widgets/controls",
            "_model_module_version": "1.5.0",
            "_model_name": "HTMLModel",
            "_view_count": null,
            "_view_module": "@jupyter-widgets/controls",
            "_view_module_version": "1.5.0",
            "_view_name": "HTMLView",
            "description": "",
            "description_tooltip": null,
            "layout": "IPY_MODEL_cf09bdebe5704a4b940048e1b8d998d2",
            "placeholder": "​",
            "style": "IPY_MODEL_0a2f940fc33247a682bc61b07abe6ac4",
            "value": " 2/2 [00:03&lt;00:00,  0.65it/s]"
          }
        },
        "bfc66b6701b44eb09dfa811fb3252e0c": {
          "model_module": "@jupyter-widgets/base",
          "model_module_version": "1.2.0",
          "model_name": "LayoutModel",
          "state": {
            "_model_module": "@jupyter-widgets/base",
            "_model_module_version": "1.2.0",
            "_model_name": "LayoutModel",
            "_view_count": null,
            "_view_module": "@jupyter-widgets/base",
            "_view_module_version": "1.2.0",
            "_view_name": "LayoutView",
            "align_content": null,
            "align_items": null,
            "align_self": null,
            "border": null,
            "bottom": null,
            "display": null,
            "flex": "2",
            "flex_flow": null,
            "grid_area": null,
            "grid_auto_columns": null,
            "grid_auto_flow": null,
            "grid_auto_rows": null,
            "grid_column": null,
            "grid_gap": null,
            "grid_row": null,
            "grid_template_areas": null,
            "grid_template_columns": null,
            "grid_template_rows": null,
            "height": null,
            "justify_content": null,
            "justify_items": null,
            "left": null,
            "margin": null,
            "max_height": null,
            "max_width": null,
            "min_height": null,
            "min_width": null,
            "object_fit": null,
            "object_position": null,
            "order": null,
            "overflow": null,
            "overflow_x": null,
            "overflow_y": null,
            "padding": null,
            "right": null,
            "top": null,
            "visibility": null,
            "width": null
          }
        },
        "c57548162c2f46a79c6b5c14ee4ee97c": {
          "model_module": "@jupyter-widgets/base",
          "model_module_version": "1.2.0",
          "model_name": "LayoutModel",
          "state": {
            "_model_module": "@jupyter-widgets/base",
            "_model_module_version": "1.2.0",
            "_model_name": "LayoutModel",
            "_view_count": null,
            "_view_module": "@jupyter-widgets/base",
            "_view_module_version": "1.2.0",
            "_view_name": "LayoutView",
            "align_content": null,
            "align_items": null,
            "align_self": null,
            "border": null,
            "bottom": null,
            "display": null,
            "flex": null,
            "flex_flow": null,
            "grid_area": null,
            "grid_auto_columns": null,
            "grid_auto_flow": null,
            "grid_auto_rows": null,
            "grid_column": null,
            "grid_gap": null,
            "grid_row": null,
            "grid_template_areas": null,
            "grid_template_columns": null,
            "grid_template_rows": null,
            "height": null,
            "justify_content": null,
            "justify_items": null,
            "left": null,
            "margin": null,
            "max_height": null,
            "max_width": null,
            "min_height": null,
            "min_width": null,
            "object_fit": null,
            "object_position": null,
            "order": null,
            "overflow": null,
            "overflow_x": null,
            "overflow_y": null,
            "padding": null,
            "right": null,
            "top": null,
            "visibility": null,
            "width": null
          }
        },
        "cb25bb11667d4e87a8be54381e9865cd": {
          "model_module": "@jupyter-widgets/controls",
          "model_module_version": "1.5.0",
          "model_name": "ProgressStyleModel",
          "state": {
            "_model_module": "@jupyter-widgets/controls",
            "_model_module_version": "1.5.0",
            "_model_name": "ProgressStyleModel",
            "_view_count": null,
            "_view_module": "@jupyter-widgets/base",
            "_view_module_version": "1.2.0",
            "_view_name": "StyleView",
            "bar_color": null,
            "description_width": ""
          }
        },
        "cbc3ac96fa554111921038dc864dc6cf": {
          "model_module": "@jupyter-widgets/controls",
          "model_module_version": "1.5.0",
          "model_name": "FloatProgressModel",
          "state": {
            "_dom_classes": [],
            "_model_module": "@jupyter-widgets/controls",
            "_model_module_version": "1.5.0",
            "_model_name": "FloatProgressModel",
            "_view_count": null,
            "_view_module": "@jupyter-widgets/controls",
            "_view_module_version": "1.5.0",
            "_view_name": "ProgressView",
            "bar_style": "",
            "description": "",
            "description_tooltip": null,
            "layout": "IPY_MODEL_d692fdf0570742a28767f0a8d8d1cb1c",
            "max": 2,
            "min": 0,
            "orientation": "horizontal",
            "style": "IPY_MODEL_a7422415ed594a47898a2149e92c1142",
            "value": 2
          }
        },
        "cc7b976769b84a7d82c8f72b1c8d4f80": {
          "model_module": "@jupyter-widgets/controls",
          "model_module_version": "1.5.0",
          "model_name": "DescriptionStyleModel",
          "state": {
            "_model_module": "@jupyter-widgets/controls",
            "_model_module_version": "1.5.0",
            "_model_name": "DescriptionStyleModel",
            "_view_count": null,
            "_view_module": "@jupyter-widgets/base",
            "_view_module_version": "1.2.0",
            "_view_name": "StyleView",
            "description_width": ""
          }
        },
        "cf09bdebe5704a4b940048e1b8d998d2": {
          "model_module": "@jupyter-widgets/base",
          "model_module_version": "1.2.0",
          "model_name": "LayoutModel",
          "state": {
            "_model_module": "@jupyter-widgets/base",
            "_model_module_version": "1.2.0",
            "_model_name": "LayoutModel",
            "_view_count": null,
            "_view_module": "@jupyter-widgets/base",
            "_view_module_version": "1.2.0",
            "_view_name": "LayoutView",
            "align_content": null,
            "align_items": null,
            "align_self": null,
            "border": null,
            "bottom": null,
            "display": null,
            "flex": null,
            "flex_flow": null,
            "grid_area": null,
            "grid_auto_columns": null,
            "grid_auto_flow": null,
            "grid_auto_rows": null,
            "grid_column": null,
            "grid_gap": null,
            "grid_row": null,
            "grid_template_areas": null,
            "grid_template_columns": null,
            "grid_template_rows": null,
            "height": null,
            "justify_content": null,
            "justify_items": null,
            "left": null,
            "margin": null,
            "max_height": null,
            "max_width": null,
            "min_height": null,
            "min_width": null,
            "object_fit": null,
            "object_position": null,
            "order": null,
            "overflow": null,
            "overflow_x": null,
            "overflow_y": null,
            "padding": null,
            "right": null,
            "top": null,
            "visibility": null,
            "width": null
          }
        },
        "d3908f4bdda14bd3b1700e2d9ebae74f": {
          "model_module": "@jupyter-widgets/controls",
          "model_module_version": "1.5.0",
          "model_name": "HTMLModel",
          "state": {
            "_dom_classes": [],
            "_model_module": "@jupyter-widgets/controls",
            "_model_module_version": "1.5.0",
            "_model_name": "HTMLModel",
            "_view_count": null,
            "_view_module": "@jupyter-widgets/controls",
            "_view_module_version": "1.5.0",
            "_view_name": "HTMLView",
            "description": "",
            "description_tooltip": null,
            "layout": "IPY_MODEL_8b556d16c2224004a9a04dc817a61e52",
            "placeholder": "​",
            "style": "IPY_MODEL_72efc194d1ff47819b9cd7e6837c25ed",
            "value": " 2/2 [00:03&lt;00:00,  0.51it/s]"
          }
        },
        "d692fdf0570742a28767f0a8d8d1cb1c": {
          "model_module": "@jupyter-widgets/base",
          "model_module_version": "1.2.0",
          "model_name": "LayoutModel",
          "state": {
            "_model_module": "@jupyter-widgets/base",
            "_model_module_version": "1.2.0",
            "_model_name": "LayoutModel",
            "_view_count": null,
            "_view_module": "@jupyter-widgets/base",
            "_view_module_version": "1.2.0",
            "_view_name": "LayoutView",
            "align_content": null,
            "align_items": null,
            "align_self": null,
            "border": null,
            "bottom": null,
            "display": null,
            "flex": "2",
            "flex_flow": null,
            "grid_area": null,
            "grid_auto_columns": null,
            "grid_auto_flow": null,
            "grid_auto_rows": null,
            "grid_column": null,
            "grid_gap": null,
            "grid_row": null,
            "grid_template_areas": null,
            "grid_template_columns": null,
            "grid_template_rows": null,
            "height": null,
            "justify_content": null,
            "justify_items": null,
            "left": null,
            "margin": null,
            "max_height": null,
            "max_width": null,
            "min_height": null,
            "min_width": null,
            "object_fit": null,
            "object_position": null,
            "order": null,
            "overflow": null,
            "overflow_x": null,
            "overflow_y": null,
            "padding": null,
            "right": null,
            "top": null,
            "visibility": null,
            "width": null
          }
        },
        "d6bf97c5c58c43b8af9b5f2ed0a7541f": {
          "model_module": "@jupyter-widgets/controls",
          "model_module_version": "1.5.0",
          "model_name": "DescriptionStyleModel",
          "state": {
            "_model_module": "@jupyter-widgets/controls",
            "_model_module_version": "1.5.0",
            "_model_name": "DescriptionStyleModel",
            "_view_count": null,
            "_view_module": "@jupyter-widgets/base",
            "_view_module_version": "1.2.0",
            "_view_name": "StyleView",
            "description_width": ""
          }
        },
        "da98f1e6cd4c4a71a6bc8441e20f4df6": {
          "model_module": "@jupyter-widgets/controls",
          "model_module_version": "1.5.0",
          "model_name": "DescriptionStyleModel",
          "state": {
            "_model_module": "@jupyter-widgets/controls",
            "_model_module_version": "1.5.0",
            "_model_name": "DescriptionStyleModel",
            "_view_count": null,
            "_view_module": "@jupyter-widgets/base",
            "_view_module_version": "1.2.0",
            "_view_name": "StyleView",
            "description_width": ""
          }
        },
        "dc0c4ceae66e426f872a67a597569054": {
          "model_module": "@jupyter-widgets/base",
          "model_module_version": "1.2.0",
          "model_name": "LayoutModel",
          "state": {
            "_model_module": "@jupyter-widgets/base",
            "_model_module_version": "1.2.0",
            "_model_name": "LayoutModel",
            "_view_count": null,
            "_view_module": "@jupyter-widgets/base",
            "_view_module_version": "1.2.0",
            "_view_name": "LayoutView",
            "align_content": null,
            "align_items": null,
            "align_self": null,
            "border": null,
            "bottom": null,
            "display": "inline-flex",
            "flex": null,
            "flex_flow": "row wrap",
            "grid_area": null,
            "grid_auto_columns": null,
            "grid_auto_flow": null,
            "grid_auto_rows": null,
            "grid_column": null,
            "grid_gap": null,
            "grid_row": null,
            "grid_template_areas": null,
            "grid_template_columns": null,
            "grid_template_rows": null,
            "height": null,
            "justify_content": null,
            "justify_items": null,
            "left": null,
            "margin": null,
            "max_height": null,
            "max_width": null,
            "min_height": null,
            "min_width": null,
            "object_fit": null,
            "object_position": null,
            "order": null,
            "overflow": null,
            "overflow_x": null,
            "overflow_y": null,
            "padding": null,
            "right": null,
            "top": null,
            "visibility": "hidden",
            "width": "100%"
          }
        },
        "dea2a2fd03d8434caebc2cd2aca522cc": {
          "model_module": "@jupyter-widgets/controls",
          "model_module_version": "1.5.0",
          "model_name": "DescriptionStyleModel",
          "state": {
            "_model_module": "@jupyter-widgets/controls",
            "_model_module_version": "1.5.0",
            "_model_name": "DescriptionStyleModel",
            "_view_count": null,
            "_view_module": "@jupyter-widgets/base",
            "_view_module_version": "1.2.0",
            "_view_name": "StyleView",
            "description_width": ""
          }
        },
        "dfc4daa909224d2ba3f6885e1de12223": {
          "model_module": "@jupyter-widgets/controls",
          "model_module_version": "1.5.0",
          "model_name": "HBoxModel",
          "state": {
            "_dom_classes": [],
            "_model_module": "@jupyter-widgets/controls",
            "_model_module_version": "1.5.0",
            "_model_name": "HBoxModel",
            "_view_count": null,
            "_view_module": "@jupyter-widgets/controls",
            "_view_module_version": "1.5.0",
            "_view_name": "HBoxView",
            "box_style": "",
            "children": [
              "IPY_MODEL_0b5ea24b7e9943bf8e255d9ea6bfe01e",
              "IPY_MODEL_5e58d623dc87432faf3edfbb4a51824b",
              "IPY_MODEL_e3548320305e49bb95b9d620d91d21e8"
            ],
            "layout": "IPY_MODEL_f9acb5c7203643b0a9e05ea6a97583e3"
          }
        },
        "e3548320305e49bb95b9d620d91d21e8": {
          "model_module": "@jupyter-widgets/controls",
          "model_module_version": "1.5.0",
          "model_name": "HTMLModel",
          "state": {
            "_dom_classes": [],
            "_model_module": "@jupyter-widgets/controls",
            "_model_module_version": "1.5.0",
            "_model_name": "HTMLModel",
            "_view_count": null,
            "_view_module": "@jupyter-widgets/controls",
            "_view_module_version": "1.5.0",
            "_view_name": "HTMLView",
            "description": "",
            "description_tooltip": null,
            "layout": "IPY_MODEL_2d09a2b310364535b99071e357ffb37f",
            "placeholder": "​",
            "style": "IPY_MODEL_6fed172813244e3a8b2ae6a48a8badf2",
            "value": " 2/2 [00:02&lt;00:00,  0.89it/s]"
          }
        },
        "ebf2a3298961467b96e477db212c0b2a": {
          "model_module": "@jupyter-widgets/base",
          "model_module_version": "1.2.0",
          "model_name": "LayoutModel",
          "state": {
            "_model_module": "@jupyter-widgets/base",
            "_model_module_version": "1.2.0",
            "_model_name": "LayoutModel",
            "_view_count": null,
            "_view_module": "@jupyter-widgets/base",
            "_view_module_version": "1.2.0",
            "_view_name": "LayoutView",
            "align_content": null,
            "align_items": null,
            "align_self": null,
            "border": null,
            "bottom": null,
            "display": "inline-flex",
            "flex": null,
            "flex_flow": "row wrap",
            "grid_area": null,
            "grid_auto_columns": null,
            "grid_auto_flow": null,
            "grid_auto_rows": null,
            "grid_column": null,
            "grid_gap": null,
            "grid_row": null,
            "grid_template_areas": null,
            "grid_template_columns": null,
            "grid_template_rows": null,
            "height": null,
            "justify_content": null,
            "justify_items": null,
            "left": null,
            "margin": null,
            "max_height": null,
            "max_width": null,
            "min_height": null,
            "min_width": null,
            "object_fit": null,
            "object_position": null,
            "order": null,
            "overflow": null,
            "overflow_x": null,
            "overflow_y": null,
            "padding": null,
            "right": null,
            "top": null,
            "visibility": "hidden",
            "width": "100%"
          }
        },
        "f086e90ad8a54dcba877844af9404313": {
          "model_module": "@jupyter-widgets/base",
          "model_module_version": "1.2.0",
          "model_name": "LayoutModel",
          "state": {
            "_model_module": "@jupyter-widgets/base",
            "_model_module_version": "1.2.0",
            "_model_name": "LayoutModel",
            "_view_count": null,
            "_view_module": "@jupyter-widgets/base",
            "_view_module_version": "1.2.0",
            "_view_name": "LayoutView",
            "align_content": null,
            "align_items": null,
            "align_self": null,
            "border": null,
            "bottom": null,
            "display": null,
            "flex": null,
            "flex_flow": null,
            "grid_area": null,
            "grid_auto_columns": null,
            "grid_auto_flow": null,
            "grid_auto_rows": null,
            "grid_column": null,
            "grid_gap": null,
            "grid_row": null,
            "grid_template_areas": null,
            "grid_template_columns": null,
            "grid_template_rows": null,
            "height": null,
            "justify_content": null,
            "justify_items": null,
            "left": null,
            "margin": null,
            "max_height": null,
            "max_width": null,
            "min_height": null,
            "min_width": null,
            "object_fit": null,
            "object_position": null,
            "order": null,
            "overflow": null,
            "overflow_x": null,
            "overflow_y": null,
            "padding": null,
            "right": null,
            "top": null,
            "visibility": null,
            "width": null
          }
        },
        "f9acb5c7203643b0a9e05ea6a97583e3": {
          "model_module": "@jupyter-widgets/base",
          "model_module_version": "1.2.0",
          "model_name": "LayoutModel",
          "state": {
            "_model_module": "@jupyter-widgets/base",
            "_model_module_version": "1.2.0",
            "_model_name": "LayoutModel",
            "_view_count": null,
            "_view_module": "@jupyter-widgets/base",
            "_view_module_version": "1.2.0",
            "_view_name": "LayoutView",
            "align_content": null,
            "align_items": null,
            "align_self": null,
            "border": null,
            "bottom": null,
            "display": "inline-flex",
            "flex": null,
            "flex_flow": "row wrap",
            "grid_area": null,
            "grid_auto_columns": null,
            "grid_auto_flow": null,
            "grid_auto_rows": null,
            "grid_column": null,
            "grid_gap": null,
            "grid_row": null,
            "grid_template_areas": null,
            "grid_template_columns": null,
            "grid_template_rows": null,
            "height": null,
            "justify_content": null,
            "justify_items": null,
            "left": null,
            "margin": null,
            "max_height": null,
            "max_width": null,
            "min_height": null,
            "min_width": null,
            "object_fit": null,
            "object_position": null,
            "order": null,
            "overflow": null,
            "overflow_x": null,
            "overflow_y": null,
            "padding": null,
            "right": null,
            "top": null,
            "visibility": "hidden",
            "width": "100%"
          }
        },
        "febad861f8e343208d8c9c2e4875b481": {
          "model_module": "@jupyter-widgets/controls",
          "model_module_version": "1.5.0",
          "model_name": "HBoxModel",
          "state": {
            "_dom_classes": [],
            "_model_module": "@jupyter-widgets/controls",
            "_model_module_version": "1.5.0",
            "_model_name": "HBoxModel",
            "_view_count": null,
            "_view_module": "@jupyter-widgets/controls",
            "_view_module_version": "1.5.0",
            "_view_name": "HBoxView",
            "box_style": "",
            "children": [
              "IPY_MODEL_622c295b7e744d5a9556088b4eddbc8b",
              "IPY_MODEL_cbc3ac96fa554111921038dc864dc6cf",
              "IPY_MODEL_2c3eac5683114ce4a5881b5c1d142361"
            ],
            "layout": "IPY_MODEL_14b7192535b5472ebc5e83ae2f4e79c1"
          }
        },
        "ffaef9fe1651461bba72b7e3fde03d8f": {
          "model_module": "@jupyter-widgets/controls",
          "model_module_version": "1.5.0",
          "model_name": "ProgressStyleModel",
          "state": {
            "_model_module": "@jupyter-widgets/controls",
            "_model_module_version": "1.5.0",
            "_model_name": "ProgressStyleModel",
            "_view_count": null,
            "_view_module": "@jupyter-widgets/base",
            "_view_module_version": "1.2.0",
            "_view_name": "StyleView",
            "bar_color": null,
            "description_width": ""
          }
        }
      }
    }
  },
  "nbformat": 4,
  "nbformat_minor": 0
}
